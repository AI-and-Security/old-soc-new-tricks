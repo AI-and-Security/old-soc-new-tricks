{
 "cells": [
  {
   "cell_type": "markdown",
   "metadata": {},
   "source": [
    "# Imports"
   ]
  },
  {
   "cell_type": "code",
   "execution_count": 1,
   "metadata": {},
   "outputs": [],
   "source": [
    "# Check if running in Colab\n",
    "def is_colab():\n",
    "    try:\n",
    "        import google.colab\n",
    "        return True\n",
    "    except ImportError:\n",
    "        return False"
   ]
  },
  {
   "cell_type": "code",
   "execution_count": null,
   "metadata": {},
   "outputs": [],
   "source": [
    "if is_colab:\n",
    "    !pip install -r \"https://raw.githubusercontent.com/AI-and-Security/old-soc-new-tricks/main/requirements-colab.txt\""
   ]
  },
  {
   "cell_type": "code",
   "execution_count": null,
   "metadata": {},
   "outputs": [],
   "source": [
    "\n",
    "# Set up data directory based on environment\n",
    "if is_colab:\n",
    "    # Create data directory in Colab\n",
    "    import os\n",
    "    DATA_DIR = \"./data\"\n",
    "    os.makedirs(DATA_DIR, exist_ok=True)\n",
    "    \n",
    "    # Download data files from GitHub repository\n",
    "    !git clone https://github.com/AI-and-Security/old-soc-new-tricks.git temp_repo\n",
    "    !mkdir -p {DATA_DIR}\n",
    "    !cp -r temp_repo/data/* {DATA_DIR}/\n",
    "    !rm -rf temp_repo\n",
    "    print(\"✅ Data files downloaded to Colab environment\")\n",
    "else:\n",
    "    # Local environment - use relative path\n",
    "    DATA_DIR = \"../data\"\n",
    "\n",
    "print(f\"📂 Using data directory: {DATA_DIR}\")"
   ]
  },
  {
   "cell_type": "code",
   "execution_count": 4,
   "metadata": {},
   "outputs": [],
   "source": [
    "import time\n",
    "import pandas as pd\n",
    "import numpy as np\n",
    "import os\n",
    "import seaborn as sns\n",
    "import matplotlib.pyplot as plt\n",
    "\n",
    "from dotenv import load_dotenv\n",
    "from itertools import combinations\n",
    "\n",
    "# langchain imports\n",
    "# from langchain.llms import Ollama, HuggingFacePipeline\n",
    "from langchain.prompts import PromptTemplate\n",
    "from langchain_openai import ChatOpenAI\n",
    "#from langchain_google_vertexai import VertexAI\n",
    "\n",
    "from deepeval.metrics import GEval\n",
    "from deepeval.test_case import LLMTestCaseParams, LLMTestCase\n",
    "\n",
    "\n",
    "# traditional ML imports\n",
    "from scipy.stats import ttest_ind, zscore\n",
    "from summarytools import dfSummary"
   ]
  },
  {
   "cell_type": "code",
   "execution_count": 39,
   "metadata": {},
   "outputs": [],
   "source": [
    "# # finds .env file and loads the vars\n",
    "load_dotenv()\n",
    "OPENAI_API_KEY = os.getenv(\"OPENAI_API_KEY\", \"Key not found\")\n",
    "OPENROUTER_API_KEY = os.getenv(\"OPENROUTER_API_KEY\", \"Key not found\")\n",
    "OPENROUTER_BASE_URL = \"https://openrouter.ai/api/v1\""
   ]
  },
  {
   "cell_type": "code",
   "execution_count": 43,
   "metadata": {},
   "outputs": [],
   "source": [
    "def create_openrouter_llm(model_name, temperature=0.7):\n",
    "    return ChatOpenAI(\n",
    "        model=model_name,\n",
    "        openai_api_key=OPENROUTER_API_KEY,\n",
    "        openai_api_base=OPENROUTER_BASE_URL,\n",
    "        temperature=temperature\n",
    "    )\n"
   ]
  },
  {
   "cell_type": "code",
   "execution_count": 44,
   "metadata": {},
   "outputs": [],
   "source": [
    "models = {\n",
    "    \"Claude-Sonnet-4\": create_openrouter_llm(\"anthropic/claude-sonnet-4\"),\n",
    "    \"Gemini-2.5-Flash\": create_openrouter_llm(\"google/gemini-2.5-flash\"),\n",
    "    \"OpenAI-gpt-4o\": create_openrouter_llm(\"openai/gpt-4o\"),\n",
    "}"
   ]
  },
  {
   "cell_type": "markdown",
   "metadata": {},
   "source": [
    "# Initialization"
   ]
  },
  {
   "cell_type": "code",
   "execution_count": 9,
   "metadata": {},
   "outputs": [],
   "source": [
    "READ_FROM_PICKLE = True"
   ]
  },
  {
   "cell_type": "code",
   "execution_count": null,
   "metadata": {},
   "outputs": [],
   "source": [
    "if READ_FROM_PICKLE:\n",
    "    malicious_df = pd.read_pickle(\"{DATA_DIR}/malicious_features_numeric.pkl\")\n",
    "    benign_df = pd.read_pickle(\"{DATA_DIR}/benign_features_numeric.pkl\")"
   ]
  },
  {
   "cell_type": "markdown",
   "metadata": {},
   "source": [
    "# EDA"
   ]
  },
  {
   "cell_type": "markdown",
   "metadata": {},
   "source": [
    "## Statistical"
   ]
  },
  {
   "cell_type": "code",
   "execution_count": 22,
   "metadata": {},
   "outputs": [],
   "source": [
    "def summarize_dataset(df):\n",
    "    summary = f\"\"\"\n",
    "    The dataset contains {len(df)} rows and it contains a network packet capture that was generated using Wireshark in an enterprize network.\n",
    "    Study the first 100 rows of the dataset and try to understand what it describes:\\n {df.head(100)}\"\n",
    "    Below are the summary statistics of the dataset\\n {df.describe()}.\n",
    "    \"\"\"\n",
    "    with open(\"../data/df_summary_mal.txt\", \"r\") as f:\n",
    "        summary += f\"A summary that includes statistics, histograms is given below \\n {f.read()}.\" \n",
    "    summary += \"Identify any anomalies in this time series dataset. Justify your conclusions based on known detections and security attacks.\" \n",
    "    return summary"
   ]
  },
  {
   "cell_type": "code",
   "execution_count": 18,
   "metadata": {},
   "outputs": [
    {
     "data": {
      "text/html": [
       "<style type=\"text/css\">\n",
       "#T_2d974 thead>tr>th {\n",
       "  text-align: left;\n",
       "}\n",
       "#T_2d974_row0_col0, #T_2d974_row1_col0, #T_2d974_row2_col0, #T_2d974_row3_col0, #T_2d974_row4_col0, #T_2d974_row5_col0, #T_2d974_row6_col0, #T_2d974_row7_col0, #T_2d974_row8_col0, #T_2d974_row9_col0, #T_2d974_row10_col0, #T_2d974_row11_col0 {\n",
       "  text-align: left;\n",
       "  font-size: 12px;\n",
       "  vertical-align: middle;\n",
       "  width: 5%;\n",
       "  max-width: 50px;\n",
       "  min-width: 20px;\n",
       "}\n",
       "#T_2d974_row0_col1, #T_2d974_row1_col1, #T_2d974_row2_col1, #T_2d974_row3_col1, #T_2d974_row4_col1, #T_2d974_row5_col1, #T_2d974_row6_col1, #T_2d974_row7_col1, #T_2d974_row8_col1, #T_2d974_row9_col1, #T_2d974_row10_col1, #T_2d974_row11_col1 {\n",
       "  text-align: left;\n",
       "  font-size: 12px;\n",
       "  vertical-align: middle;\n",
       "  width: 15%;\n",
       "  max-width: 200px;\n",
       "  min-width: 100px;\n",
       "  word-break: break-word;\n",
       "}\n",
       "#T_2d974_row0_col2, #T_2d974_row1_col2, #T_2d974_row2_col2, #T_2d974_row3_col2, #T_2d974_row4_col2, #T_2d974_row5_col2, #T_2d974_row6_col2, #T_2d974_row7_col2, #T_2d974_row8_col2, #T_2d974_row9_col2, #T_2d974_row10_col2, #T_2d974_row11_col2 {\n",
       "  text-align: left;\n",
       "  font-size: 12px;\n",
       "  vertical-align: middle;\n",
       "  width: 30%;\n",
       "  min-width: 100px;\n",
       "}\n",
       "#T_2d974_row0_col3, #T_2d974_row1_col3, #T_2d974_row2_col3, #T_2d974_row3_col3, #T_2d974_row4_col3, #T_2d974_row5_col3, #T_2d974_row6_col3, #T_2d974_row7_col3, #T_2d974_row8_col3, #T_2d974_row9_col3, #T_2d974_row10_col3, #T_2d974_row11_col3 {\n",
       "  text-align: left;\n",
       "  font-size: 12px;\n",
       "  vertical-align: middle;\n",
       "  width: 25%;\n",
       "  min-width: 100px;\n",
       "}\n",
       "#T_2d974_row0_col4, #T_2d974_row1_col4, #T_2d974_row2_col4, #T_2d974_row3_col4, #T_2d974_row4_col4, #T_2d974_row5_col4, #T_2d974_row6_col4, #T_2d974_row7_col4, #T_2d974_row8_col4, #T_2d974_row9_col4, #T_2d974_row10_col4, #T_2d974_row11_col4 {\n",
       "  text-align: left;\n",
       "  font-size: 12px;\n",
       "  vertical-align: middle;\n",
       "  width: 20%;\n",
       "  min-width: 150px;\n",
       "}\n",
       "#T_2d974_row0_col5, #T_2d974_row1_col5, #T_2d974_row2_col5, #T_2d974_row3_col5, #T_2d974_row4_col5, #T_2d974_row5_col5, #T_2d974_row6_col5, #T_2d974_row7_col5, #T_2d974_row8_col5, #T_2d974_row9_col5, #T_2d974_row10_col5, #T_2d974_row11_col5 {\n",
       "  text-align: left;\n",
       "  font-size: 12px;\n",
       "  vertical-align: middle;\n",
       "  width: 10%;\n",
       "}\n",
       "</style>\n",
       "<table id=\"T_2d974\">\n",
       "  <caption><strong>Data Frame Summary</strong><br>malicious_df<br>Dimensions: 154,090 x 12<br>Duplicates: 0</caption>\n",
       "  <thead>\n",
       "    <tr>\n",
       "      <th id=\"T_2d974_level0_col0\" class=\"col_heading level0 col0\" >No</th>\n",
       "      <th id=\"T_2d974_level0_col1\" class=\"col_heading level0 col1\" >Variable</th>\n",
       "      <th id=\"T_2d974_level0_col2\" class=\"col_heading level0 col2\" >Stats / Values</th>\n",
       "      <th id=\"T_2d974_level0_col3\" class=\"col_heading level0 col3\" >Freqs / (% of Valid)</th>\n",
       "      <th id=\"T_2d974_level0_col4\" class=\"col_heading level0 col4\" >Graph</th>\n",
       "      <th id=\"T_2d974_level0_col5\" class=\"col_heading level0 col5\" >Missing</th>\n",
       "    </tr>\n",
       "  </thead>\n",
       "  <tbody>\n",
       "    <tr>\n",
       "      <td id=\"T_2d974_row0_col0\" class=\"data row0 col0\" >1</td>\n",
       "      <td id=\"T_2d974_row0_col1\" class=\"data row0 col1\" ><strong>Timestamp</strong><br>[float64]</td>\n",
       "      <td id=\"T_2d974_row0_col2\" class=\"data row0 col2\" >Mean (sd) : 1540450214.8 (2080.2)<br>min < med < max:<br>1540446382.9 < 1540450432.6 < 1540453519.8<br>IQR (CV) : 3618.0 (740512.8)</td>\n",
       "      <td id=\"T_2d974_row0_col3\" class=\"data row0 col3\" >154,090 distinct values</td>\n",
       "      <td id=\"T_2d974_row0_col4\" class=\"data row0 col4\" ><img src = \"data:image/png;base64, iVBORw0KGgoAAAANSUhEUgAAAKoAAABGCAYAAABc8A97AAAAOnRFWHRTb2Z0d2FyZQBNYXRwbG90bGliIHZlcnNpb24zLjEwLjUsIGh0dHBzOi8vbWF0cGxvdGxpYi5vcmcvWftoOwAAAAlwSFlzAAAPYQAAD2EBqD+naQAAAjtJREFUeJzt3btu4kAYhuExOcgbECMOCxeQMh0SDReQMhebS0hBsTXFNlvRISHLCCdWjHFklEhpkPB4E/NN3qcNf4bihVHCLxEURWGAc9dq+gkAp7g86VHACYIg+GWMuTZuXouieDn2Q0L1TFAvlvKG3TvOhv1+/95a23YZ3mw2URAEj8diJVTPIh0MBg/dbrdXdTbP86skSW47nc6/VquVVZ3Psiw0xtxNp9M/w+FwU2U2juNwPp/31ut1+QIj1B/guox0Npu9WGvTKoPL5bK3WCx+TyaTv+PxOKp68Pv8TRiG2Wg0eq46b4wpb4KjCNWvq7u73++vrLVR1ViiKDqE0m63U5fQPua/CqF6cnV/XL95nt+lafpkjHF5VztbhOrJ1f35+t3tdhfGM4R6hspIz/H6bRL/8IcEQoUEQoUEQoUEQoUEQoUEQoUEQoUEQoUEQoUfH6E2uIhbd17x7MP2k+OZPzfUJhdx68yrnu3z9tNXv6M2vYjrNK96ts/bT9+yPeWyzfO/FnFd5lXP9nn7qS7+mIIEQoUEQoUEQoUEQoUEQoUEQoUEQoUEQoUEQoUEQoUEQoUEQoUEQoUEQoUEQoUEQoUEQoUEQoUEQoUEQoUEQoUEQoUEQoUEQoUEQoUEQoUEQoUEQoUEQoUEQoUEQoUEQoUEQoUEQoUEQoUEQoUEQoUEQoUEQoUEQoUEQoUEQoUEQoUEQoU/3y4dx3FY9Rdvt9vDTJIk4Wq1uvnOedWzVZ+3qTl/Sl9vM49G1TR9R5EAAAAASUVORK5CYII=\"></img></td>\n",
       "      <td id=\"T_2d974_row0_col5\" class=\"data row0 col5\" >0<br>(0.0%)</td>\n",
       "    </tr>\n",
       "    <tr>\n",
       "      <td id=\"T_2d974_row1_col0\" class=\"data row1 col0\" >2</td>\n",
       "      <td id=\"T_2d974_row1_col1\" class=\"data row1 col1\" ><strong>Source Port</strong><br>[float64]</td>\n",
       "      <td id=\"T_2d974_row1_col2\" class=\"data row1 col2\" >Mean (sd) : 31461.6 (18801.8)<br>min < med < max:<br>0.0 < 32761.0 < 65267.0<br>IQR (CV) : 28964.0 (1.7)</td>\n",
       "      <td id=\"T_2d974_row1_col3\" class=\"data row1 col3\" >22,952 distinct values</td>\n",
       "      <td id=\"T_2d974_row1_col4\" class=\"data row1 col4\" ><img src = \"data:image/png;base64, iVBORw0KGgoAAAANSUhEUgAAAKoAAABGCAYAAABc8A97AAAAOnRFWHRTb2Z0d2FyZQBNYXRwbG90bGliIHZlcnNpb24zLjEwLjUsIGh0dHBzOi8vbWF0cGxvdGxpYi5vcmcvWftoOwAAAAlwSFlzAAAPYQAAD2EBqD+naQAAAn9JREFUeJzt3LuO2kAARuEZbvICAiEU6GhSRkrhkofIw+YRUvAEFGlS0SEhC4R3EcY4chEpScHaHl/4veerdzQjcbxrxuuxSZIY4Nl1ml4AkEUv008hF2vtizFmUHD4NUmSt5KXJI9QK4h0Pp9/m0wmsyLjT6dTYK39Tqz/ItTyDdJI1+v123Q6veQZeDwevc1mMzscDulvY0L9C6FWJI10sVi8Fhia3jbgP3yZggRChQRChQRChQRChQRChQRChQRChQRChQRChQRChQRChQRChQRChQRChQRCRTv+cZr3f7TYln5eD0Pl/R8ttsWf13u/UXn/R8ugrZ9XpnemeP9Hy7SFnxdfpiCBUCGBUCGBUCGBUCGBUCGBUCGBUCGBUCGBUCGBUCGBUCGBUCGBUCGBUCGBUCGBUCGBUCGBUCGBUCGBUCGBUCGBUCGBUCGBUCGBUCGBUCGBUCGBUCEh02l+H/BA26c+1PYjamWorgfaNnmobRzHfWPMxFpbZPjkfr/3G5q70ou7laG6HGjb5KG2YRj2oyj6ulqtut1uN/e6oyjy4jj+crlcfhhjXuucu+qLu62huh5o28ihttfrted53tD3/ctyuQzyjt/tdrPtdju83W7duueu+uJudaiqRqNRoQssCIKXpuau+uLmWz8kECokECokcI+K0jhubz3c2iJUlMJ1e+u9rS1CRSlctreybG1VGmoJTzrSe+h73U9oHNfuPLeyUfHtrYdbW71n/VOQhhKG4efxePyr0+lEdT2hcV2769yoOdSSnrJ88n3/Z97xLk9oXNfuOjccQk3vIUxO5/M595iyhWHo7ff7YRNrLzL3n3ld1x2KzZ2lr9+Vq4p5CUmM+AAAAABJRU5ErkJggg==\"></img></td>\n",
       "      <td id=\"T_2d974_row1_col5\" class=\"data row1 col5\" >0<br>(0.0%)</td>\n",
       "    </tr>\n",
       "    <tr>\n",
       "      <td id=\"T_2d974_row2_col0\" class=\"data row2 col0\" >3</td>\n",
       "      <td id=\"T_2d974_row2_col1\" class=\"data row2 col1\" ><strong>Destination Port</strong><br>[float64]</td>\n",
       "      <td id=\"T_2d974_row2_col2\" class=\"data row2 col2\" >Mean (sd) : 6758.4 (7691.4)<br>min < med < max:<br>23.0 < 8280.0 < 65267.0<br>IQR (CV) : 10187.0 (0.9)</td>\n",
       "      <td id=\"T_2d974_row2_col3\" class=\"data row2 col3\" >3,691 distinct values</td>\n",
       "      <td id=\"T_2d974_row2_col4\" class=\"data row2 col4\" ><img src = \"data:image/png;base64, iVBORw0KGgoAAAANSUhEUgAAAKoAAABGCAYAAABc8A97AAAAOnRFWHRTb2Z0d2FyZQBNYXRwbG90bGliIHZlcnNpb24zLjEwLjUsIGh0dHBzOi8vbWF0cGxvdGxpYi5vcmcvWftoOwAAAAlwSFlzAAAPYQAAD2EBqD+naQAAAkNJREFUeJzt2EGO2jAYhmG7ZBAzahNBpCy5QKUeIPtu57Cz7a6LnIAbsEFIESSCgU5IXHn2VYkDGj7mffZ2vHhlfmydcwa4dV8++gDAOSJzRdbaR2PMeMAWb865wwWPBFHRNSNN0/Q5juNp6B51XW+stS/EimveqGMfaZ7nhyRJjn0XV1U1KYpiWpalv5EJ9ZO76k+/5yPNsuw1cLkfHYD/hzpgzoy7rnsIOxbQI9Qhc2bTNJO2bb8fj8ffxpjQGxU460YNnjOXy+V0sVg8nU6nUZ91QPCMGjJnbjYb5ktcDA/+kECokECokECokECokECokECokECokECokECokECokECokECokECokECokECokECokECokECokECokECokECokECokECokECokECokECokECokECokECokECokECokECokECokECokECokECokECokECokECokECokECokECokECokECokECokECokECokECokECokECokBCZO2WtfTTGjAds8eacO1zwSBggutdI0zR9juN4GrpHXdcba+0Lsd6GuwzV36Q+0jzPD0mSHPsurqpqUhTFtCxLfyMT6g2411Df+UizLHsNXO5HB9wI/kxBAqFCAqFCwl3PqEO0bftgjImttVJPW3bYs9zNPslF5/4L7rvxbrd7X7Pf7yfr9fqp73r/zbZto8BY4q7ropBze6vV6lvTND/m8/loNBr1fjXYbrc7a+0vY0zvtQNNZrPZzyRJvoYs/sBze3+cc//87l+vnZg3NCraiwAAAABJRU5ErkJggg==\"></img></td>\n",
       "      <td id=\"T_2d974_row2_col5\" class=\"data row2 col5\" >0<br>(0.0%)</td>\n",
       "    </tr>\n",
       "    <tr>\n",
       "      <td id=\"T_2d974_row3_col0\" class=\"data row3 col0\" >4</td>\n",
       "      <td id=\"T_2d974_row3_col1\" class=\"data row3 col1\" ><strong>Payload</strong><br>[object]</td>\n",
       "      <td id=\"T_2d974_row3_col2\" class=\"data row3 col2\" >1. Raw<br>2. Padding<br>3. <br>4. DNS Qry b'xmpp.samsungsmartcam<br>5. DNS Ans name-error<br>6. DNS Qry b'xmpp.samsungsmartcam<br>7. DNS Qry b'10024backup.broadlin<br>8. DNS Qry b'10024main.broadlink.<br>9. DNS Qry b'www.baidu.com.'<br>10. DNS Qry b'authentication.eye4.<br>11. other</td>\n",
       "      <td id=\"T_2d974_row3_col3\" class=\"data row3 col3\" >64,946 (42.1%)<br>28,136 (18.3%)<br>22,577 (14.7%)<br>7,099 (4.6%)<br>4,561 (3.0%)<br>3,550 (2.3%)<br>2,216 (1.4%)<br>2,174 (1.4%)<br>1,896 (1.2%)<br>1,543 (1.0%)<br>15,392 (10.0%)</td>\n",
       "      <td id=\"T_2d974_row3_col4\" class=\"data row3 col4\" ><img src = \"data:image/png;base64, iVBORw0KGgoAAAANSUhEUgAAAJsAAAD+CAYAAAAtWHdlAAAAOnRFWHRTb2Z0d2FyZQBNYXRwbG90bGliIHZlcnNpb24zLjEwLjUsIGh0dHBzOi8vbWF0cGxvdGxpYi5vcmcvWftoOwAAAAlwSFlzAAAPYQAAD2EBqD+naQAABBtJREFUeJzt3UFuU1cAhtHnyGrJJFYUycvIAryILpZFeAHZh4WcAaaduLqiqjqhxSH+HvU7Z5CZSUCfrvHT/WF1Pp8nKNwl3wXERklsZMRGRmxkxEZGbGTERkZsZFbTNN1P0/TLtGx/nM/n09w/xK1bPz09/fbw8PA4Ldjr6+un1Wr1UXDXtR6h7Xa702az+TIt0PF4/LDf7x8Ph8M43cV2RevxZYS23W4/T8s1/irBlfmAQEZsZMRGRmxkxEZGbGTERkZsZMRGRmxkxEZGbGTERkZstFeMxp2uaaGW/Huvrcct1XF5cMl3usafwbgaPvfPcetsEL6yQQis/JNZ3PLJ5hRZqHxdZcm0XOm6ypJp2eZYVy32U+/SeahLRmxkxEZGbGTERkZsZMRGRmxkxEZGbGTERkZsZMTGbQ5ejEuWLR+8GJcsl2vhZAxeuJmTzSlGM3gxbiEZvBi3UA9ejFv4m4e6ZMRGRmxkxEZGbGTERkZsZMRGRmxkxEZGbGTERkZs/P8HL8YtpIMX4xb+ybVwMgYvZHxA4Kd5G/U2SLOuso4iWVdZR1Gvq6yjeDc+IJARGxmxkREbGbGRERsZsZERGxmxkREbGbGRERsZsTH/uso6inRdZR3Fe3ItnIx1FbOfbE40msGLoQvJ4MXQhXrwYujCu/NQl4zYyIiNjNjIiI2M2MiIjYzYyIiNjNjIiI2M2MiIjfkGL4YupIMXQxeuwbVwMgYvzHqyOdVoBi/GLiSDF2MX6sGLsQtX4aEuGbGRERsZsZERGxmxkREbGbGRERsZsZERGxmxkREbGbExz7rKsop0XWVZxbXYIJCxrmKWk82JRrOusqri2u5GaM/Pz9Nfc75v/VeQ8D7P2e7v73//8V8K/p2HumTERkZsZMRGRmxkxEZGbGTERkZsZMRGRmxkxEZGbLSxnU6nX7tvyVLdjUuTLy8vhi5cnWvhZAxeyDjZyBi8kDF4IWPwQsZDXTJiIyM2MmIjIzYyYiMjNjJiIyM2MmIjIzYyYiMjNjIGL2QMXsi4Fk7G4IWMDwhkvI2Ssa4iY11FxrqKjA8IZMRGRmxkxEZGbGTERkZsZMRGRmxkxEZGbGTERkZsZKyryFhXkXEtnIx1FRknGxmDFzIGL2QMXsh4qEtGbGTERkZsZMRGRmxkxEZGbGTERkZsZMRGRmxkxEbG4IWMwQsZ18LJGLwwy8n2Fk5DLh+8TG9gJMMl1iO03W532mw2Xy554fF4/LDf7x8Ph8M4FcXGf1qPLyO07Xb7ebrceAuG7+KhLhmxkREbGbGRERsZsZERGxmxkREbGbGRERsZsZERG+2tj3Fd6NIXvuU1LNt6XIAc99Lecl3ISIZLuBZOxuCFjA8IZMRGRmxkxEZGbGTERkZsZMRGRmxMlT8BWGcSdhUbWqEAAAAASUVORK5CYII=\"></img></td>\n",
       "      <td id=\"T_2d974_row3_col5\" class=\"data row3 col5\" >0<br>(0.0%)</td>\n",
       "    </tr>\n",
       "    <tr>\n",
       "      <td id=\"T_2d974_row4_col0\" class=\"data row4 col0\" >5</td>\n",
       "      <td id=\"T_2d974_row4_col1\" class=\"data row4 col1\" ><strong>Packet Length</strong><br>[int64]</td>\n",
       "      <td id=\"T_2d974_row4_col2\" class=\"data row4 col2\" >Mean (sd) : 45.3 (17.6)<br>min < med < max:<br>20.0 < 48.0 < 166.0<br>IQR (CV) : 8.0 (2.6)</td>\n",
       "      <td id=\"T_2d974_row4_col3\" class=\"data row4 col3\" >84 distinct values</td>\n",
       "      <td id=\"T_2d974_row4_col4\" class=\"data row4 col4\" ><img src = \"data:image/png;base64, iVBORw0KGgoAAAANSUhEUgAAAKoAAABGCAYAAABc8A97AAAAOnRFWHRTb2Z0d2FyZQBNYXRwbG90bGliIHZlcnNpb24zLjEwLjUsIGh0dHBzOi8vbWF0cGxvdGxpYi5vcmcvWftoOwAAAAlwSFlzAAAPYQAAD2EBqD+naQAAAlJJREFUeJzt3b9u2lAYh2GfQiIXWluABBs3UKkDI3vXXmwuoYOHztwBC0JYli1ckI1xdapkLv4X+Dnvsx9iRW/MwfnQMWVZOsCj+3TvCwBuMXQ6ZIz57DjOc4OXyMqyPLV4SRA17DLS2Wz20/O8Sd3XSJIkMsa8ECu6vKM+20jX6/XJ9/1z1cVxHLtBEEzCMLR3ZEL94Dp967dspPP5/E/N5XbrAPBhChoIFRIIFRIIFRIIFRIIFRIIFRIIFRIIFRIIFRIIFRIIFRIIFRIIFRIIFRIIFRIIFRIIFRIIFRIIFRIIFRIIFRIIFRIIFRIIFRIIFRIIFRIIFRIIFRIIFRIIFRIIFRIIFRIIFRIIFRIIFRIIFRIIFRIIFRIIFRIIFRIIFRIIFf04C7XBUebe9Xp9qndZQIVQmxxlnue5WxTFt/P5/MtxnLqH9gI33VFrH2W+3W4nm81mdLlcBlXWAbWPQa9zlHkURRxhjtbwYQoSCBUSCBUSCBUSCBUSCBUSCBUSCBX9eeB/L0VR2FkBzxhTZ3lWluWp/avCPTxsqGmaPuV5/n25XA4Gg0Glf99aSZJExpgXYu2Hhw01y7Kh67qj1Wp1XiwWUZW1cRy7QRBMwjC0U1+E2gMPG+qb8Xhcec7gVaNZgwbjjRbbjo8W6j00GW+02Ha0j1BbHm9k29ENQm15vPEVI44t622oDR9t8TWaB9vXD299O6v6U4/H4781aZq6+/1+9J7rd7vd1yaPtt6+RnM4HH5XXWt/V0VRDBv8kahyp9PpD9/3v9RZ/L99/V8dzsQ5Rfgm1QAAAABJRU5ErkJggg==\"></img></td>\n",
       "      <td id=\"T_2d974_row4_col5\" class=\"data row4 col5\" >0<br>(0.0%)</td>\n",
       "    </tr>\n",
       "    <tr>\n",
       "      <td id=\"T_2d974_row5_col0\" class=\"data row5 col0\" >6</td>\n",
       "      <td id=\"T_2d974_row5_col1\" class=\"data row5 col1\" ><strong>Protocol</strong><br>[float64]</td>\n",
       "      <td id=\"T_2d974_row5_col2\" class=\"data row5 col2\" >1. 17.0<br>2. 6.0</td>\n",
       "      <td id=\"T_2d974_row5_col3\" class=\"data row5 col3\" >102,938 (66.8%)<br>51,152 (33.2%)</td>\n",
       "      <td id=\"T_2d974_row5_col4\" class=\"data row5 col4\" ><img src = \"data:image/png;base64, iVBORw0KGgoAAAANSUhEUgAAAJsAAAAuCAYAAAA/ZmtKAAAAOnRFWHRTb2Z0d2FyZQBNYXRwbG90bGliIHZlcnNpb24zLjEwLjUsIGh0dHBzOi8vbWF0cGxvdGxpYi5vcmcvWftoOwAAAAlwSFlzAAAPYQAAD2EBqD+naQAAAThJREFUeJzt202KwkAUReFXTZDuSYIEspgswsX2IrKbIKmBipOSN2xwID24sW+fb+DUiIf4Q93SWgtAoUTEV0QcJM+G37i31q5hoBvH8dT3/XHvC8FztdZzKeXbIbguQ5vn+ToMw23vi8FP27Z9LstyXNc1P3n+fmz5kKFN03TZ+2LwVH7NsfCx9wXg/yA2yBAbZIgNMsQGGWKDDLFBhtggQ2yQITbIEBtkiA0yxAYZYoMMsUF7ni0P6emeEq9ye1+6PHacp0GdDuk5qbWec4cQBhi8vL+7w/4gFaZ8UHG7s9ncBRxZTfmcZm+ObKZ8brM3R25TPn5RvzH+1IUMsUGG2CBDbJAhNsgQG2SIDTLEBhligwyxQYbYIENskCE2yBAbZIgNMjZTPofX4M5qyuc0e3PE4AWh8gAKW2rfqi1u8gAAAABJRU5ErkJggg==\"></img></td>\n",
       "      <td id=\"T_2d974_row5_col5\" class=\"data row5 col5\" >0<br>(0.0%)</td>\n",
       "    </tr>\n",
       "    <tr>\n",
       "      <td id=\"T_2d974_row6_col0\" class=\"data row6 col0\" >7</td>\n",
       "      <td id=\"T_2d974_row6_col1\" class=\"data row6 col1\" ><strong>src_ip_total_bytes</strong><br>[int64]</td>\n",
       "      <td id=\"T_2d974_row6_col2\" class=\"data row6 col2\" >Mean (sd) : 648043.8 (592893.0)<br>min < med < max:<br>26.0 < 442714.5 < 2207294.0<br>IQR (CV) : 888280.2 (1.1)</td>\n",
       "      <td id=\"T_2d974_row6_col3\" class=\"data row6 col3\" >145,355 distinct values</td>\n",
       "      <td id=\"T_2d974_row6_col4\" class=\"data row6 col4\" ><img src = \"data:image/png;base64, iVBORw0KGgoAAAANSUhEUgAAAKoAAABGCAYAAABc8A97AAAAOnRFWHRTb2Z0d2FyZQBNYXRwbG90bGliIHZlcnNpb24zLjEwLjUsIGh0dHBzOi8vbWF0cGxvdGxpYi5vcmcvWftoOwAAAAlwSFlzAAAPYQAAD2EBqD+naQAAAnpJREFUeJzt3D9v2kAch/E7IJETKAjRwOalewePLH0HfbFdu8MbYMjSiQUhIf4IJ8iIunKkDF0SOGPg+9PzmXOG4Qk+n8/2eZ474NbVrv0FgGM0PvsD7/2Dc+7ehcnyPH8NHAscF2oRaa/X+9lut7suwGazWXrvfxErqv5FvS8iHQ6Hr51OZ3fKgdfrdTQajbqLxaL4NSZUVHvqLxSR9vv9l4DjF9MGoDQupiCBUCGBUCGBUCGBUCGBUCGBUCGBUCGBUCGBUCGBUCGBUCGBUCGBUCGBUCGBUCGBUCGBUCGBUCGBUCGBUCGBUCGBUCGBUGHnBRShDofDnXOu7b0PPQTvrkK1oaZperff77/HcVyv1+snvQ7oHe+uQuWhZlnWiKLoMUmS3WAwWJ46nndX4WKn/kKz2Qx9b1WBd1fhDRdTkECokECokECokECokECokECokECokECokECokECokFD5vf4rbhNki6AhNxtq2W2CbBG05WZDLbNNkC2C9txsqGfYJsgWQUO4mIIEQoWEmz/1h+LBQltMhsqDhfaYDJUHC+0xGeo7Hiy0w3SoV5zjFhepfwM/usxYs3NrQj3zHLcIPE3Tb61W60+tVttfaqz1uTWhnnmOO51Ou5PJ5ClJkudLjrU+tybUM89xl8vlwzXGWp9bs+APCYQKCZz6jTkY3cNLqIakJe/IrVarrff+t3Nud4WltQ//SQjVkKzEasVsNvsyHo9/xHH8NSTysktrny2rEapBzcAVhzK3ncssrR2zrEao+E/o0tgZltY+XFbjqh8SCBUSCBUSGsdOdk898Ha7fRuTpmk0n88fLzle9bNVv7crOf6Yvv4B8iebv607p3IAAAAASUVORK5CYII=\"></img></td>\n",
       "      <td id=\"T_2d974_row6_col5\" class=\"data row6 col5\" >0<br>(0.0%)</td>\n",
       "    </tr>\n",
       "    <tr>\n",
       "      <td id=\"T_2d974_row7_col0\" class=\"data row7 col0\" >8</td>\n",
       "      <td id=\"T_2d974_row7_col1\" class=\"data row7 col1\" ><strong>dst_ip_total_bytes</strong><br>[int64]</td>\n",
       "      <td id=\"T_2d974_row7_col2\" class=\"data row7 col2\" >Mean (sd) : 288369.1 (311285.3)<br>min < med < max:<br>26.0 < 162436.5 < 1423395.0<br>IQR (CV) : 364478.0 (0.9)</td>\n",
       "      <td id=\"T_2d974_row7_col3\" class=\"data row7 col3\" >108,056 distinct values</td>\n",
       "      <td id=\"T_2d974_row7_col4\" class=\"data row7 col4\" ><img src = \"data:image/png;base64, iVBORw0KGgoAAAANSUhEUgAAAKoAAABGCAYAAABc8A97AAAAOnRFWHRTb2Z0d2FyZQBNYXRwbG90bGliIHZlcnNpb24zLjEwLjUsIGh0dHBzOi8vbWF0cGxvdGxpYi5vcmcvWftoOwAAAAlwSFlzAAAPYQAAD2EBqD+naQAAAk9JREFUeJzt3bFu2kAAh/E7IJETqBGigc1L9w4eWfoGfdiu3eEFGLJ0YkFIyIBwEoFcV47UtbXPOL6/9f1mzsfwCc5nS2fzPDeA73ptfwGgjMH/PmCtfTDG3Bs3lzzPXx3HAuVCLSKdTqffwzCcGAen0ymx1v4gVjT9i3pfRLpYLF7H4/FblQsfj8dguVxO9vt98WtMqGj2r79QRDqbzV4crl8sG4DauJmCBEKFBEKFBEKFBEKFBEKFBEKFBEKFBEKFBEKFBEKFBEKFBEKFBEKFBEKFBEKFBEKFBEKFBEKFBEKFBEKFBEKFBEKFBEKFBEKFBEKFBEKFBEKFBEKFBEKFBEKFBEKFBEKFBEKFBEKFBEKFBEKFBEJFd47vcZVl2Z0xJrTWul6Ck//QbKhpmt5dr9evURT1+/1+pcPU/uLkPzQe6uVyGQRB8BjH8dt8Pk+qjufkP3zYX39hOBy6nvpX4OQ/vONmChIIFRIIFRIaX6O2uL3F1laHeBtq3e2tw+Fwttb+NMY4bY0Rul+8DbXO9tZ2u/20Wq2+RVH0mT3cbvA21DrbW0mSPLCH2y3eh1oHe7jdwV0/JBAqJBAqJBAqJBAqJBAqJBAqJHR6H7UO3jPwC6E28J4Bj19vj1Bv/J4Bj1+bQagNPILNsiyssWwo7ht+uwy8wfg25/7ncolQPVo2FOviNE2/jEajX71e71p17qzG+DbnLrNcIlSPlg2bzWayXq+f4jh+dnnra1NjfJtzl1kuDcpeyFR0Pp/fx6RpGux2u8ePHO/D3DA39QfANEb/OHqEbQAAAABJRU5ErkJggg==\"></img></td>\n",
       "      <td id=\"T_2d974_row7_col5\" class=\"data row7 col5\" >0<br>(0.0%)</td>\n",
       "    </tr>\n",
       "    <tr>\n",
       "      <td id=\"T_2d974_row8_col0\" class=\"data row8 col0\" >9</td>\n",
       "      <td id=\"T_2d974_row8_col1\" class=\"data row8 col1\" ><strong>Numeric Source IP</strong><br>[int64]</td>\n",
       "      <td id=\"T_2d974_row8_col2\" class=\"data row8 col2\" >Mean (sd) : 3231669778.3 (42782000.9)<br>min < med < max:<br>0.0 < 3232236142.0 < 3232236228.0<br>IQR (CV) : 5.0 (75.5)</td>\n",
       "      <td id=\"T_2d974_row8_col3\" class=\"data row8 col3\" >22 distinct values</td>\n",
       "      <td id=\"T_2d974_row8_col4\" class=\"data row8 col4\" ><img src = \"data:image/png;base64, iVBORw0KGgoAAAANSUhEUgAAAKoAAABGCAYAAABc8A97AAAAOnRFWHRTb2Z0d2FyZQBNYXRwbG90bGliIHZlcnNpb24zLjEwLjUsIGh0dHBzOi8vbWF0cGxvdGxpYi5vcmcvWftoOwAAAAlwSFlzAAAPYQAAD2EBqD+naQAAAVlJREFUeJzt101qWzEYQNGnYtJ0YhMMXowX0cVmEd6NKc+DpnTgV94CTB2T/lw4Zyp9oMFFSGNZlgn+d5/+9QHgHpu7dsEdxhhfpml6mh7zc1mWt1uLQuXDIt3v91+32+3LI/OXy+XbGOP1VqxC5aM8rZEej8e33W734z2D8zw/n06nl/P5vN7GQuXPWyM9HA7fHxhdnw03+UyRIFQShEqCUEkQKglCJUGoJAiVBKGSIFQShEqCUEkQKglCJUGoJAiVBKGSIFQShEqCUEkQKglCJUGoJAiVBKGSIFQShEqCUEkQKglCJUGoJAiVBKGSIFQShEqCUEkQKglCJUGoJAiVBKGSIFQShEqCUEkQKglCJUGoJAiVBKGSIFQShEqCUEkQKglCJUGoJAiVBKGSIFQShEqCUEkQKglCJUGoJGx+t2GM8TxN0+e/cxzCttfrdTPP89rLu9wz8wuFTCkWTXBxuQAAAABJRU5ErkJggg==\"></img></td>\n",
       "      <td id=\"T_2d974_row8_col5\" class=\"data row8 col5\" >0<br>(0.0%)</td>\n",
       "    </tr>\n",
       "    <tr>\n",
       "      <td id=\"T_2d974_row9_col0\" class=\"data row9 col0\" >10</td>\n",
       "      <td id=\"T_2d974_row9_col1\" class=\"data row9 col1\" ><strong>Numeric Destination IP</strong><br>[int64]</td>\n",
       "      <td id=\"T_2d974_row9_col2\" class=\"data row9 col2\" >Mean (sd) : 1970532932.1 (1039604758.0)<br>min < med < max:<br>134744072.0 < 2014854038.0 < 4294967295.0<br>IQR (CV) : 2358165255.0 (1.9)</td>\n",
       "      <td id=\"T_2d974_row9_col3\" class=\"data row9 col3\" >63 distinct values</td>\n",
       "      <td id=\"T_2d974_row9_col4\" class=\"data row9 col4\" ><img src = \"data:image/png;base64, iVBORw0KGgoAAAANSUhEUgAAAKoAAABGCAYAAABc8A97AAAAOnRFWHRTb2Z0d2FyZQBNYXRwbG90bGliIHZlcnNpb24zLjEwLjUsIGh0dHBzOi8vbWF0cGxvdGxpYi5vcmcvWftoOwAAAAlwSFlzAAAPYQAAD2EBqD+naQAAAnFJREFUeJzt3UGOmlAcx/FHYaaMRoia6M4DOEkXLj1Alz1sj9CFB7DewI0xMUYrlYhAY5NuO/LIDO+H38/aF4l+Q9D8eXhlWRrAdZ+aPgDgHsFdr4IMz/NejDHPlssvZVmejYMItWWRDofDb1EU9W3WH4/Hved5312MlVDb5fkW6Xw+P8dxnFZZeDgcwsVi0d/tdrezMaHi/cVxnI5Go98WS2+XDU7ixxQkECokECokECokECokECokECokECokECokBA4PSDg9JIGWhFp3QML1IQm054xqPSChMCSBlg2l1BiQaHRIoq1znaqYnnqwuU5VhPpgc52qCPXB5jpV8T8qJBAqJBAqJBAqJBAqJBAqJBAqJBAqJBAqJBAqJBAqJBAqJBAqJBAqJBAqJBAqJBAqJBAqJBAqJBAqJBAqJBAqJBAqJBAqJBAqJDi9U0qe50/GmMjzPJvlbFTWIs6GmiTJU5ZlXyaTie/7fuVtK9morF2cDfVyuQRhGHZms1k6Ho/3VdayUVn7OBvqP91ul43KwI8paCBUSCBUSCBUSCBUSCBUSCBUSCBUSCBUSCBUSCBUSCBUSCBUtGN6qsZTlqOiKG6Dz4pD140eOyqGWucpy1mWhXmev6Zp+sMYY/sY9EaGrps8dtidUa2fsrxer/ur1apzvV59IzR03fSxo8bgtM1Tlvf7/Yvq0LULx67Is79MfPMeN+cn/PFxal7Xh4PB4Gscx12bxW/d4xbcew9S1Tc+nU5/1yRJEm63285Hrm/yvW+fVZ7nQY0vvI6oKIrA5vvabDa9utf1xpjX6XT6s9fr/aqy9nw+f14ul/+9x+0PlYclhqLA/pAAAAAASUVORK5CYII=\"></img></td>\n",
       "      <td id=\"T_2d974_row9_col5\" class=\"data row9 col5\" >0<br>(0.0%)</td>\n",
       "    </tr>\n",
       "    <tr>\n",
       "      <td id=\"T_2d974_row10_col0\" class=\"data row10 col0\" >11</td>\n",
       "      <td id=\"T_2d974_row10_col1\" class=\"data row10 col1\" ><strong>dst_port_freq_encoded</strong><br>[float64]</td>\n",
       "      <td id=\"T_2d974_row10_col2\" class=\"data row10 col2\" >Mean (sd) : 0.2 (0.2)<br>min < med < max:<br>0.0 < 0.2 < 0.4<br>IQR (CV) : 0.3 (1.5)</td>\n",
       "      <td id=\"T_2d974_row10_col3\" class=\"data row10 col3\" >33 distinct values</td>\n",
       "      <td id=\"T_2d974_row10_col4\" class=\"data row10 col4\" ><img src = \"data:image/png;base64, iVBORw0KGgoAAAANSUhEUgAAAKoAAABGCAYAAABc8A97AAAAOnRFWHRTb2Z0d2FyZQBNYXRwbG90bGliIHZlcnNpb24zLjEwLjUsIGh0dHBzOi8vbWF0cGxvdGxpYi5vcmcvWftoOwAAAAlwSFlzAAAPYQAAD2EBqD+naQAAAhtJREFUeJzt3EFOwkAYhuEZW02FpISQwI4LmLhgySE8rEdwwQm4ATsS0kCoNpShZtwT6Qyin32frYyp5E3lz5SxTdMY4K+7++0LAC6RXvQq4ALW2kdjzIMJc2ia5uPcDwkVV4t0NBq95Hk+DFm/2+0Ka+3ruVgJFdfy4COdz+cfg8GgarNwu91mi8ViuNls/N2YUPHzfKTj8fg9YKn/2HAWwxQkECokECokECokECokECokECokECokECokECokECokECokECokECokECokECokECokECokECokECokECokECokECokECokECokECokECokcPaU2PGLXUWoYscvdhWhih2/2FWEKnb8YlcxTEECoUICoUICoUICoUICoUICoUICoUJC+of3vD32vfGzocbueXvse+MWd9TgPW+PfW/cdK8/Ys/bY98bXxim8D/uqBEDUX46ne5NBOecX59ba0OWM4h1JdSYgaiu68w591RV1ZsxpvW//rIs7+u6fp5Op0mSJK0/4zKIdeuOGjwQrVar4XK57B2PxyTkwg6HQ5plWW82m1WTyaRos5ZBrKPDVMhAVBTFVQahfr/PA8hgmIIGQoUEQoUEQoUEQoUEQoUEQoUEQoUEQoUEQoUEQoUEQoUEQoUEQoUEQsX/eR7VP4jc9hfv9/uvNWVZZuv1unfL9f56nXNpxNdYYviv4KQh79kvX7eJFPV3f/eiT0O00EnxieeCAAAAAElFTkSuQmCC\"></img></td>\n",
       "      <td id=\"T_2d974_row10_col5\" class=\"data row10 col5\" >0<br>(0.0%)</td>\n",
       "    </tr>\n",
       "    <tr>\n",
       "      <td id=\"T_2d974_row11_col0\" class=\"data row11 col0\" >12</td>\n",
       "      <td id=\"T_2d974_row11_col1\" class=\"data row11 col1\" ><strong>Interarrival</strong><br>[float64]</td>\n",
       "      <td id=\"T_2d974_row11_col2\" class=\"data row11 col2\" >Mean (sd) : 0.0 (0.1)<br>min < med < max:<br>-0.0 < 0.0 < 1.2<br>IQR (CV) : 0.1 (0.5)</td>\n",
       "      <td id=\"T_2d974_row11_col3\" class=\"data row11 col3\" >66,690 distinct values</td>\n",
       "      <td id=\"T_2d974_row11_col4\" class=\"data row11 col4\" ><img src = \"data:image/png;base64, iVBORw0KGgoAAAANSUhEUgAAAKoAAABGCAYAAABc8A97AAAAOnRFWHRTb2Z0d2FyZQBNYXRwbG90bGliIHZlcnNpb24zLjEwLjUsIGh0dHBzOi8vbWF0cGxvdGxpYi5vcmcvWftoOwAAAAlwSFlzAAAPYQAAD2EBqD+naQAAAfdJREFUeJzt2MFqwkAURuG51UqqoIgl7nyELlz6EH1Yt10KeRhh0ATT2IhMme5L69hQ//Z8a+cy6CFetRCCA27d3W9fAPiO/lcvMLMH59zApWlDCE3iWeB7ocZIZ7PZ83g8nroEVVXtzGxNrOj6iTqIka5Wq2YymRwvGVyWZVYUxdR7H5/GhIpuv/qjGGme568J8+PaAFyNH1OQQKiQQKiQQKiQQKiQQKiQQKiQQKiQQKiQQKiQQKiQQKiQQKiQQKiQQKiQQKiQQKiQQKiQQKiQQKiQQKiQQKiQQKiQQKiQQKiQQKiQQKiQQKiQQKiQQKiQQKiQQKiQQKiQQKiQQKiQQKiQQKiQQKiQQKiQQKiQQKiQQKiQQKiQQKiQQKiQQKiQQKiQQKiQQKiQQKiQQKiQQKiQQKiQQKiQQKiQQKiQ0O9y+Pl8vnfOjc0sdUQbQmh+9lZQ1FmodV3fn06np8Vi0ev1eseUGVVV7cxsTazoLNS2bftZlg2Xy+VxPp/vLj1flmVWFMXUez9wzhHqP9fpV380Go2OeZ6/Jh5/+OHrQFTnof7ijst++4fcbKjX7rjst3/LzYZ6zY4b99vNZpN77x/NrEq9ApGLhRo/+EsHHw6HjzN1XWfb7XaYej5F0zRX/+Ow3+8PZvbinEs6D3eptxDCp+/1OyeulQV4UQ8DAAAAAElFTkSuQmCC\"></img></td>\n",
       "      <td id=\"T_2d974_row11_col5\" class=\"data row11 col5\" >1<br>(0.0%)</td>\n",
       "    </tr>\n",
       "  </tbody>\n",
       "</table>\n"
      ],
      "text/plain": [
       "<pandas.io.formats.style.Styler at 0x163aaaec0>"
      ]
     },
     "execution_count": 18,
     "metadata": {},
     "output_type": "execute_result"
    }
   ],
   "source": [
    "dfSummary(malicious_df)"
   ]
  },
  {
   "cell_type": "code",
   "execution_count": 23,
   "metadata": {},
   "outputs": [],
   "source": [
    "malicious_data_summary = summarize_dataset(malicious_df)\n",
    "prompt_template = PromptTemplate(\n",
    "    input_variables=[\"malicious_data_summary\"],\n",
    "    template=\"Analyze this dataset and identify anomalies and trends:\\n{malicious_data_summary}\",\n",
    ")"
   ]
  },
  {
   "cell_type": "code",
   "execution_count": 24,
   "metadata": {},
   "outputs": [
    {
     "data": {
      "text/plain": [
       "'\\n    The dataset contains 154090 rows and it contains a network packet capture that was generated using Wireshark in an enterprize network.\\n    Study the first 100 rows of the dataset and try to understand what it describes:\\n         Timestamp  Source Port  Destination Port  \\\\\\n0    1.540446e+09      21074.0              80.0   \\n1    1.540446e+09      20532.0            8280.0   \\n7    1.540446e+09       2440.0              53.0   \\n8    1.540446e+09         53.0            2440.0   \\n9    1.540446e+09      21074.0              80.0   \\n..            ...          ...               ...   \\n128  1.540446e+09      52259.0             443.0   \\n130  1.540446e+09      47815.0              80.0   \\n131  1.540446e+09      59225.0            8000.0   \\n132  1.540446e+09      48977.0              80.0   \\n133  1.540446e+09      50861.0           10240.0   \\n\\n                                               Payload  Packet Length  \\\\\\n0                                              Padding             26   \\n1                                              Padding             26   \\n7    DNS Qry b\\'xmpp.samsungsmartcam.com.Speedport_W...             83   \\n8                                   DNS Ans name-error             83   \\n9                                              Padding             26   \\n..                                                 ...            ...   \\n128                                                                40   \\n130                                                                40   \\n131                                                                40   \\n132                                                                40   \\n133                                                Raw             48   \\n\\n     Protocol  src_ip_total_bytes  dst_ip_total_bytes  Numeric Source IP  \\\\\\n0         6.0                  26                  26         3232236140   \\n1         6.0                  52                  26         3232236140   \\n7        17.0                  83                  83         3232236147   \\n8        17.0                  83                  83         3232236033   \\n9         6.0                  78                  52         3232236140   \\n..        ...                 ...                 ...                ...   \\n128       6.0                 324                 560         3232236144   \\n130       6.0                 364                 560         3232236144   \\n131       6.0                 404                 512         3232236144   \\n132       6.0                 444                  40         3232236144   \\n133      17.0                1968                 608         3232236145   \\n\\n     Numeric Destination IP  dst_port_freq_encoded  Interarrival  \\n0                 873999171               0.114505           NaN  \\n1                 874070778               0.040794      0.000005  \\n7                3232236033               0.216419      0.457747  \\n8                3232236147               0.000013      0.002058  \\n9                 873999171               0.114505      0.042112  \\n..                      ...                    ...           ...  \\n128               840171142               0.019923      0.072561  \\n130               780778550               0.114505      0.001163  \\n131              1035740632               0.019274      0.000084  \\n132              1249714019               0.114505      0.002445  \\n133               840171142               0.406152      0.007766  \\n\\n[100 rows x 12 columns]\"\\n    Below are the summary statistics of the dataset\\n           Timestamp    Source Port  Destination Port  Packet Length  \\\\\\ncount  1.540900e+05  154090.000000     154090.000000  154090.000000   \\nmean   1.540450e+09   31461.554105       6758.415673      45.299890   \\nstd    2.080248e+03   18801.836599       7691.364297      17.558657   \\nmin    1.540446e+09       0.000000         23.000000      20.000000   \\n25%    1.540448e+09   21897.000000         53.000000      40.000000   \\n50%    1.540450e+09   32761.000000       8280.000000      48.000000   \\n75%    1.540452e+09   50861.000000      10240.000000      48.000000   \\nmax    1.540454e+09   65267.000000      65267.000000     166.000000   \\n\\n            Protocol  src_ip_total_bytes  dst_ip_total_bytes  \\\\\\ncount  154090.000000        1.540900e+05        1.540900e+05   \\nmean       13.348420        6.480438e+05        2.883691e+05   \\nstd         5.180108        5.928930e+05        3.112853e+05   \\nmin         6.000000        2.600000e+01        2.600000e+01   \\n25%         6.000000        1.617865e+05        6.316800e+04   \\n50%        17.000000        4.427145e+05        1.624365e+05   \\n75%        17.000000        1.050067e+06        4.276460e+05   \\nmax        17.000000        2.207294e+06        1.423395e+06   \\n\\n       Numeric Source IP  Numeric Destination IP  dst_port_freq_encoded  \\\\\\ncount       1.540900e+05            1.540900e+05          154090.000000   \\nmean        3.231670e+09            1.970533e+09               0.233578   \\nstd         4.278200e+07            1.039605e+09               0.156511   \\nmin         0.000000e+00            1.347441e+08               0.000006   \\n25%         3.232236e+09            8.740708e+08               0.061432   \\n50%         3.232236e+09            2.014854e+09               0.216419   \\n75%         3.232236e+09            3.232236e+09               0.406152   \\nmax         3.232236e+09            4.294967e+09               0.406152   \\n\\n        Interarrival  \\ncount  154089.000000  \\nmean        0.046317  \\nstd         0.091788  \\nmin        -0.000269  \\n25%         0.000061  \\n50%         0.001171  \\n75%         0.051200  \\nmax         1.176720  .\\n    A summary that includes statistics, histograms is given below \\n <style type=\"text/css\">\\n#T_c6067 thead>tr>th {\\n  text-align: left;\\n}\\n#T_c6067_row0_col0, #T_c6067_row1_col0, #T_c6067_row2_col0, #T_c6067_row3_col0, #T_c6067_row4_col0, #T_c6067_row5_col0, #T_c6067_row6_col0, #T_c6067_row7_col0, #T_c6067_row8_col0, #T_c6067_row9_col0, #T_c6067_row10_col0, #T_c6067_row11_col0 {\\n  text-align: left;\\n  font-size: 12px;\\n  vertical-align: middle;\\n  width: 5%;\\n  max-width: 50px;\\n  min-width: 20px;\\n}\\n#T_c6067_row0_col1, #T_c6067_row1_col1, #T_c6067_row2_col1, #T_c6067_row3_col1, #T_c6067_row4_col1, #T_c6067_row5_col1, #T_c6067_row6_col1, #T_c6067_row7_col1, #T_c6067_row8_col1, #T_c6067_row9_col1, #T_c6067_row10_col1, #T_c6067_row11_col1 {\\n  text-align: left;\\n  font-size: 12px;\\n  vertical-align: middle;\\n  width: 15%;\\n  max-width: 200px;\\n  min-width: 100px;\\n  word-break: break-word;\\n}\\n#T_c6067_row0_col2, #T_c6067_row1_col2, #T_c6067_row2_col2, #T_c6067_row3_col2, #T_c6067_row4_col2, #T_c6067_row5_col2, #T_c6067_row6_col2, #T_c6067_row7_col2, #T_c6067_row8_col2, #T_c6067_row9_col2, #T_c6067_row10_col2, #T_c6067_row11_col2 {\\n  text-align: left;\\n  font-size: 12px;\\n  vertical-align: middle;\\n  width: 30%;\\n  min-width: 100px;\\n}\\n#T_c6067_row0_col3, #T_c6067_row1_col3, #T_c6067_row2_col3, #T_c6067_row3_col3, #T_c6067_row4_col3, #T_c6067_row5_col3, #T_c6067_row6_col3, #T_c6067_row7_col3, #T_c6067_row8_col3, #T_c6067_row9_col3, #T_c6067_row10_col3, #T_c6067_row11_col3 {\\n  text-align: left;\\n  font-size: 12px;\\n  vertical-align: middle;\\n  width: 25%;\\n  min-width: 100px;\\n}\\n#T_c6067_row0_col4, #T_c6067_row1_col4, #T_c6067_row2_col4, #T_c6067_row3_col4, #T_c6067_row4_col4, #T_c6067_row5_col4, #T_c6067_row6_col4, #T_c6067_row7_col4, #T_c6067_row8_col4, #T_c6067_row9_col4, #T_c6067_row10_col4, #T_c6067_row11_col4 {\\n  text-align: left;\\n  font-size: 12px;\\n  vertical-align: middle;\\n  width: 20%;\\n  min-width: 150px;\\n}\\n#T_c6067_row0_col5, #T_c6067_row1_col5, #T_c6067_row2_col5, #T_c6067_row3_col5, #T_c6067_row4_col5, #T_c6067_row5_col5, #T_c6067_row6_col5, #T_c6067_row7_col5, #T_c6067_row8_col5, #T_c6067_row9_col5, #T_c6067_row10_col5, #T_c6067_row11_col5 {\\n  text-align: left;\\n  font-size: 12px;\\n  vertical-align: middle;\\n  width: 10%;\\n}\\n</style>\\n<table id=\"T_c6067\">\\n  <caption><strong>Data Frame Summary</strong><br>malicious_df<br>Dimensions: 154,090 x 12<br>Duplicates: 0</caption>\\n  <thead>\\n    <tr>\\n      <th id=\"T_c6067_level0_col0\" class=\"col_heading level0 col0\" >No</th>\\n      <th id=\"T_c6067_level0_col1\" class=\"col_heading level0 col1\" >Variable</th>\\n      <th id=\"T_c6067_level0_col2\" class=\"col_heading level0 col2\" >Stats / Values</th>\\n      <th id=\"T_c6067_level0_col3\" class=\"col_heading level0 col3\" >Freqs / (% of Valid)</th>\\n      <th id=\"T_c6067_level0_col4\" class=\"col_heading level0 col4\" >Graph</th>\\n      <th id=\"T_c6067_level0_col5\" class=\"col_heading level0 col5\" >Missing</th>\\n    </tr>\\n  </thead>\\n  <tbody>\\n    <tr>\\n      <td id=\"T_c6067_row0_col0\" class=\"data row0 col0\" >1</td>\\n      <td id=\"T_c6067_row0_col1\" class=\"data row0 col1\" ><strong>Timestamp</strong><br>[float64]</td>\\n      <td id=\"T_c6067_row0_col2\" class=\"data row0 col2\" >Mean (sd) : 1540450214.8 (2080.2)<br>min < med < max:<br>1540446382.9 < 1540450432.6 < 1540453519.8<br>IQR (CV) : 3618.0 (740512.8)</td>\\n      <td id=\"T_c6067_row0_col3\" class=\"data row0 col3\" >154,090 distinct values</td>\\n      <td id=\"T_c6067_row0_col4\" class=\"data row0 col4\" ><img src = \"data:image/png;base64, iVBORw0KGgoAAAANSUhEUgAAAKoAAABGCAYAAABc8A97AAAAOnRFWHRTb2Z0d2FyZQBNYXRwbG90bGliIHZlcnNpb24zLjEwLjEsIGh0dHBzOi8vbWF0cGxvdGxpYi5vcmcvc2/+5QAAAAlwSFlzAAAPYQAAD2EBqD+naQAAAkxJREFUeJzt3b9u2mAUhvFjtyATkD/xp3ABHbMhsXABHXuxvYQODJ0ZunRiQ0KWEW6sGtsd2qpTEmwntV/3+a3o8Hl4xKeEI+GVZWlA1/ltPwBwi7dtPwD6w/O8kZkNa47/KMvy4bEXCbVnGsbim1lRczaYzWYfnHPjOsPn8znyPO/TY7ESao94njeaz+cfwzCcVp3N83yQJMn7yWTyzff9rOp8lmWBmd1vNpsvi8XiXGU2juNgt9tNT6fT0MwI9T8wDMNwut1uH5xzaZXBw+Ew3e/379br9dfVahVVPfj3/F0QBNlyufxedd7MRk+9SKgd0/DqDouiGDjnoqqxRFE0MjMbj8dpndD+zL8WQu2QJle32a/rN8/z+zRNP5tZnU+1ziLUbql9dZv9vX6v1+ub13i4NhFqBznnOnn9tol/+EMCoUICoUICoUICoUICoUICoUICoUICoUICoULCs1+htriI23Re8eywKIpBzTN77clQ21zEbTKvenaft5+aeu4Tte1F3Frzqmf3efupqZu2p+ps87zUIm6dedWz+7z91BR/TEECoUICoUICoUICoUICoUICoUICoUICoUICoUICoUICoUICoUICoUICoUICoUICoUICoUICoUICoUICoUICoUICoUICoUICoUICoUICoUICoUICoUICoUICoUICoUICoUICoUICoUICoUICoUICoUICoUICoUICoUICoUICoUICoUICoULCTb8uHcdxUPWNL5dLYGaWJElwPB7v/uW86tmqz910/pa+fgIzj0bVAseHGwAAAABJRU5ErkJggg==\"></img></td>\\n      <td id=\"T_c6067_row0_col5\" class=\"data row0 col5\" >0<br>(0.0%)</td>\\n    </tr>\\n    <tr>\\n      <td id=\"T_c6067_row1_col0\" class=\"data row1 col0\" >2</td>\\n      <td id=\"T_c6067_row1_col1\" class=\"data row1 col1\" ><strong>Source Port</strong><br>[float64]</td>\\n      <td id=\"T_c6067_row1_col2\" class=\"data row1 col2\" >Mean (sd) : 31461.6 (18801.8)<br>min < med < max:<br>0.0 < 32761.0 < 65267.0<br>IQR (CV) : 28964.0 (1.7)</td>\\n      <td id=\"T_c6067_row1_col3\" class=\"data row1 col3\" >22,952 distinct values</td>\\n      <td id=\"T_c6067_row1_col4\" class=\"data row1 col4\" ><img src = \"data:image/png;base64, iVBORw0KGgoAAAANSUhEUgAAAKoAAABGCAYAAABc8A97AAAAOnRFWHRTb2Z0d2FyZQBNYXRwbG90bGliIHZlcnNpb24zLjEwLjEsIGh0dHBzOi8vbWF0cGxvdGxpYi5vcmcvc2/+5QAAAAlwSFlzAAAPYQAAD2EBqD+naQAAAp1JREFUeJzt3L2O2kAYRuFvYEHmR7YQCnQ0KSOloOQicrG5hBRcAUWaVHRICIFw1sIY0iRSIq0W22Ov93XO08/OSD5ml/F63P1+N+C96zS9ACCPp6YX0EbOuYGZ9UsOv9zv9+cq19MGhFox59xgOp1+CcNwUmb86XQ6OOe+Euu/CLV6/TAMJ6vV6jmKoqTIwOPxGKzX68l+v++bGaH+hVBrEkVRMpvNfpYYOqh8MS3AlylIIFRIIFRIIFRIIFRIIFRIIFRIIFRIIFRIIFRIIFRIIFRIIFRIIFRIIFRIIFRIePiP07z/o6Wt1+vVUHn/R0ubr9ejT1Te/9HS2uuV650p3v/R0sbrxZcpSCBUSCBUSCBUSCBUSCBUSCBUSCBUSCBUSCBUSCBUSCBUSCBUSCBUSCBUSCBUSCBUSCBUSCBUSCBUSCBUSCBUSCBUSCBUSCBUSCBUSCBUSCBUSCBUSMh1mp8izwNtzd7xobb/o1aG6nugrVlzh9pmWdYzs9A5V2Z4eLvdeg3NbVbjzd3KUM3jQFuz5g61jeO4l6bp58Vi0e12u4XXnaZpkGXZpyRJvplZofNRfec2q/fmbmuoZuZ1oK1ZA4faXi6XpyAIhsvlMpnP54ei47fb7WSz2Qyv12v3reeu++ZudaiqRqNRqRvscDh431xl5/6ttpubb/2QQKiQQKiQwN+oqIzn9tarW1uEikr4bm892toiVFTCZ3srz9ZWraFW8KSjY2a3EuO8ntCYea3de25lHttbr25t1Raq76+CLMt6cRx/HI/HPzqdTlpkrM8TGjO/tfvOjZfVFmpFT1k+LJfL70XH+zyhMfNbu+/ceFmuUI/HY1D0B5/P58JjqhbHcbDb7YZFx1Wx9jJz/5nXd91qc+fp6xeVq4p5WAui0AAAAABJRU5ErkJggg==\"></img></td>\\n      <td id=\"T_c6067_row1_col5\" class=\"data row1 col5\" >0<br>(0.0%)</td>\\n    </tr>\\n    <tr>\\n      <td id=\"T_c6067_row2_col0\" class=\"data row2 col0\" >3</td>\\n      <td id=\"T_c6067_row2_col1\" class=\"data row2 col1\" ><strong>Destination Port</strong><br>[float64]</td>\\n      <td id=\"T_c6067_row2_col2\" class=\"data row2 col2\" >Mean (sd) : 6758.4 (7691.4)<br>min < med < max:<br>23.0 < 8280.0 < 65267.0<br>IQR (CV) : 10187.0 (0.9)</td>\\n      <td id=\"T_c6067_row2_col3\" class=\"data row2 col3\" >3,691 distinct values</td>\\n      <td id=\"T_c6067_row2_col4\" class=\"data row2 col4\" ><img src = \"data:image/png;base64, iVBORw0KGgoAAAANSUhEUgAAAKoAAABGCAYAAABc8A97AAAAOnRFWHRTb2Z0d2FyZQBNYXRwbG90bGliIHZlcnNpb24zLjEwLjEsIGh0dHBzOi8vbWF0cGxvdGxpYi5vcmcvc2/+5QAAAAlwSFlzAAAPYQAAD2EBqD+naQAAAl1JREFUeJzt2DFuGkEYhuFvAkaLlcxoQaLkApFyAPq0PqzbdCk4gW9Ag5AQXoTNxrBsDhAlNrsg+Mj79P/4L14t4wl1XQu4dp8uvQDwEd1zHh5C6EvqtTjira7r7an2ga+zhRpC6A+Hw4cYY970jPV6vQohPBIrzvlF7cUY88lksk0plccOF0WRTafTfLlc9iQR6n/urD/9kpRSKkej0WvD8f5Jl4Gtd0Ntcc+Mh8PhrsEc8Id/htrmnrnb7bKqqr6WZflTUtMvKiDp/S9q43vmbDbLn56e7vf7fafFfoCkD95Rm9wzV6sV90ucDA/+sECosECosECosECosECosECosECosECosECosECosECosECosECosECosECosECosECosECosECosECosECosECosECosECosECosECosECosECosECosECosECosECosECosECosECosECosECosECosECosECosECosECosECosECosECosECosECosECosECosECosNC99ALnEkLoS+q1OOKtruvtqfZBOzcZagihPxwOH2KMedMz1uv1KoTwSKzX4SZDldSLMeaTyWSbUiqPHS6KIptOp/lyuexJItQrcKuhSpJSSuVoNHptON4/6TJohX+mYIFQYYFQYeGm76htVFV1JymGEJqMX+xpq+Wz3NU+yX0o1KIosmMP3mw2mSS9vLxki8Xi/tj5oiiyqqq6ahZLPBwO3SZ7S9J8Pv+y2+2+jcfjTqfTOfrV4Pn5eRNC+CHp6NmWssFg8D2l9LnJ8AX3lqRfdV3/9e/+Bq+dmDeeP15hAAAAAElFTkSuQmCC\"></img></td>\\n      <td id=\"T_c6067_row2_col5\" class=\"data row2 col5\" >0<br>(0.0%)</td>\\n    </tr>\\n    <tr>\\n      <td id=\"T_c6067_row3_col0\" class=\"data row3 col0\" >4</td>\\n      <td id=\"T_c6067_row3_col1\" class=\"data row3 col1\" ><strong>Payload</strong><br>[object]</td>\\n      <td id=\"T_c6067_row3_col2\" class=\"data row3 col2\" >1. Raw<br>2. Padding<br>3. <br>4. DNS Qry \"b\\'xmpp.samsungsmartca<br>5. DNS Ans <br>6. DNS Qry \"b\\'xmpp.samsungsmartca<br>7. DNS Qry \"b\\'10024backup.broadli<br>8. DNS Qry \"b\\'10024main.broadlink<br>9. DNS Qry \"b\\'www.baidu.com.\\'\" <br>10. DNS Qry \"b\\'authentication.eye4<br>11. other</td>\\n      <td id=\"T_c6067_row3_col3\" class=\"data row3 col3\" >64,960 (42.2%)<br>28,136 (18.3%)<br>22,577 (14.7%)<br>7,099 (4.6%)<br>4,561 (3.0%)<br>3,550 (2.3%)<br>2,216 (1.4%)<br>2,174 (1.4%)<br>1,896 (1.2%)<br>1,543 (1.0%)<br>15,378 (10.0%)</td>\\n      <td id=\"T_c6067_row3_col4\" class=\"data row3 col4\" ><img src = \"data:image/png;base64, iVBORw0KGgoAAAANSUhEUgAAAJsAAAD+CAYAAAAtWHdlAAAAOnRFWHRTb2Z0d2FyZQBNYXRwbG90bGliIHZlcnNpb24zLjEwLjEsIGh0dHBzOi8vbWF0cGxvdGxpYi5vcmcvc2/+5QAAAAlwSFlzAAAPYQAAD2EBqD+naQAABGVJREFUeJzt3VFKJFcAhtGrNGZ86aYRXIYLcBFZbBbRC3AfItbDaObFPBjEGXWMpusrsM95b6iBjytV3D85enh4GFA4XvoBOBxiIyM2MmIjIzYyYiMjNjJiIyM2MkdjjNMxxsnSD7KwHw8PD3dLP8RXtzo7O/tzvV5vl36QJU3TdHN0dPSX4Oa1Wq/X28vLy7vNZnO/9MMs4fb29ttut9teX1+fjDHENqPVGGNsNpv78/Pz70s/zIJOl36AQ+AFgYzYyIiNjNjIiI2M2MiIjYzYyIiNjNjIiI2M2MiIjYzYyKzGeLzTtfSDLOWQ/+211TRNN7vdbjsO+E7XNE03Y4wfSz/HV2eD8MgGIXDkP5lFZYmTzSlyoPJ1lSXT4UrXVZZMh22JddXBvvUeOh91yYiNjNjIiI2M2MiIjYzYyIiNjNjIiI2M2MiIjYzYyKSDF+OSw5YPXoxLDpdr4WQMXsjMfbI5xXgy6+DFuIXnZhu8GLfwq7kHL8YtPPFRl4zYyIiNjNjIiI2M2MiIjYzYyIiNjNjIiI2M2MiIjcxsgxfjFn416+DFuIXnXAsnY/BCxgsCmff+jPozyN78dl1lHcU+vbmuso5i395bV1lHsTdeEMiIjYzYyIiNjNjIiI2M2MiIjYzYyIiNjNjIiI2M2Mi8ua6yjmLffruuso5in1wLJ2NdReatk82Jxt69OngxdGEOLwYvhi7M5a3Bi6ELe+ejLhmxkREbGbGRERsZsZERGxmxkREbGbGRERsZsZERG5kXgxdDF+by6uDF0IU5uBZOxuCFzGsnm1ONWbwYvBi7MJefBi/GLszptcGLsQuz8FGXjNjIiI2M2MiIjYzYyIiNjNjIiI2M2MiIjYzYyIiNjNjI/LSusqxiTi/WVZZVzMUGgYx1FZnnJ5sTjVk9rausqpjb8Xq93l5cXIx/53xv/a8g4X87HmOM09PTv5d+EL4+H3XJiI2M2MiIjYzYyIiNjNjIiI2M2MiIjYzYyIiNjNjIHI8xxt3d3R9LPwhf3/E0TTdXV1eGLszOtXAyBi9knGxkDF7IGLyQMXgh46MuGbGRERsZsZERGxmxkREbGbGRERsZsZERGxmxkREbGYMXMgYvZFwLJ2PwQsYLAhl/RslYV5GxriJjXUXGCwIZsZERGxmxkREbGbGRERsZsZERGxmxkREbGbGRERsZ6yoy1lVkXAsnY11FxslGxuCFjMELGYMXMj7qkhEbGbGRERsZsZERGxmxkREbGbGRERsZsZERGxmxkTF4IWPwQsa1cDIGL2Sen2yf4TTkP3savHzmx0YyfMRqvV5vLy8v7zabzf1Hfnh7e/ttt9ttr6+vT8YYYuNdqzHG2Gw29+fn598/8fvTPT8PX5iPumTERkZsZMRGRmxkxEZGbGTERkZsZMRGRmxkxEZGbGRWYzxeF/roDz/zGw7bapqmm91utx2fuC5kJMNHuBZOxuCFjBcEMmIjIzYyYiMjNjJiIyM2MmIjIzYy/wBYZxJ2TEMMZAAAAABJRU5ErkJggg==\"></img></td>\\n      <td id=\"T_c6067_row3_col5\" class=\"data row3 col5\" >0<br>(0.0%)</td>\\n    </tr>\\n    <tr>\\n      <td id=\"T_c6067_row4_col0\" class=\"data row4 col0\" >5</td>\\n      <td id=\"T_c6067_row4_col1\" class=\"data row4 col1\" ><strong>Packet Length</strong><br>[int64]</td>\\n      <td id=\"T_c6067_row4_col2\" class=\"data row4 col2\" >Mean (sd) : 45.3 (17.6)<br>min < med < max:<br>20.0 < 48.0 < 166.0<br>IQR (CV) : 8.0 (2.6)</td>\\n      <td id=\"T_c6067_row4_col3\" class=\"data row4 col3\" >84 distinct values</td>\\n      <td id=\"T_c6067_row4_col4\" class=\"data row4 col4\" ><img src = \"data:image/png;base64, iVBORw0KGgoAAAANSUhEUgAAAKoAAABGCAYAAABc8A97AAAAOnRFWHRTb2Z0d2FyZQBNYXRwbG90bGliIHZlcnNpb24zLjEwLjEsIGh0dHBzOi8vbWF0cGxvdGxpYi5vcmcvc2/+5QAAAAlwSFlzAAAPYQAAD2EBqD+naQAAAmlJREFUeJzt3buO2kAYhuF/wkEGEluABB03ECkFJX3aXOxeQgoXqbkDGoSwkBEEhDFOs1slWvBp4SPv04+Z4sUMZtC4LMsMeHSf7j0B4BbNOi/unOuYWbvEJU5Zlh2qmg901Raqc64zHA5/+L7fL3qN7Xa7cc69ECvqvKO2fd/vz2azQxAEx7yD4zj2wjDsR1HUNjNC/c/V+tFvZhYEwXE0Gv0uOLxT6WQgiy9TkECokECokECokECokECokECokECokECokECokECokECokECokECokECokECokECokECokECokECokECokECokECokECokECokECokECokECokECokECokECokECokECokECokECokECokECokECokECokECokECokECokECokHD1LNQSR5n7l8ulVWAc8Jd3Qy1zlHmSJF6apl+Px+NPMyt6aC9gZtfvqIWPMl8sFv35fN49n8+NEvMDzOzGY9CLHGW+2Ww4whyV4csUJBAqJBAqJBAqJBAqJBAqJBAqJBAqJNz0wP9e0jRtmZnvnCsy/JRl2aHiKeFOHjbU/X7fSpLk22QyaTQajVw/35qZbbfbjXPuhVifw8OGejqdmp7ndafT6XE8Hm/yjI3j2AvDsB9FUdvMCPUJPGyob3q9Xu59Bq9K7TUosb3RjGVH5R4+1Hsos73RjGVHHQj13wpvb2TZUQ9CfUeR7Y2v2OJYsacNteSjLf5GU0Cd6/qbQo3j2Mv7qrvdzjMz2+/33mq16n7k+OVy+aXMo623v9Gs1+tfecfGceyladq04m8SVd5gMPgeBMHnIoOvrev/AB3OxDlJ3ZH/AAAAAElFTkSuQmCC\"></img></td>\\n      <td id=\"T_c6067_row4_col5\" class=\"data row4 col5\" >0<br>(0.0%)</td>\\n    </tr>\\n    <tr>\\n      <td id=\"T_c6067_row5_col0\" class=\"data row5 col0\" >6</td>\\n      <td id=\"T_c6067_row5_col1\" class=\"data row5 col1\" ><strong>Protocol</strong><br>[float64]</td>\\n      <td id=\"T_c6067_row5_col2\" class=\"data row5 col2\" >1. 17.0<br>2. 6.0</td>\\n      <td id=\"T_c6067_row5_col3\" class=\"data row5 col3\" >102,938 (66.8%)<br>51,152 (33.2%)</td>\\n      <td id=\"T_c6067_row5_col4\" class=\"data row5 col4\" ><img src = \"data:image/png;base64, iVBORw0KGgoAAAANSUhEUgAAAJsAAAAuCAYAAAA/ZmtKAAAAOnRFWHRTb2Z0d2FyZQBNYXRwbG90bGliIHZlcnNpb24zLjEwLjEsIGh0dHBzOi8vbWF0cGxvdGxpYi5vcmcvc2/+5QAAAAlwSFlzAAAPYQAAD2EBqD+naQAAATtJREFUeJzt2zFqw0AURdE/QZi4mUEItBgvIovNImY3QmiK2LhRilQhTifeOC/3rOAbXwQ2emnf9wAUUkScI+LU+xD86r7v+7X3EUcYpml6yzmPvQ/BY621NaX07hDckHMeL5fLtZRy630Mvtu27bXWOi7LcoqIvx9bREQp5TbP80fvY/DQufcBR3npfQD+D2KDDLFBhtggQ2yQITbIEBtkiA0yxAYZYoMMsUGG2CBDbJAhNsgQG2SGiK+X9Hofgp/cvpehtbbWWscweknPSWttjYh77zuOwODl+dkMXhJTPqi4PdlsngKOrKZ8TrM3RzZTPrfZmyO3KR+/qJ8Yf+pChtggQ2yQITbIEBtkiA0yxAYZYoMMsUGG2CBDbJAhNsgQG2SIDTLEBhmbKZ/DZ3BnNeVzmr05YvACmU8KW2rfEFTOWQAAAABJRU5ErkJggg==\"></img></td>\\n      <td id=\"T_c6067_row5_col5\" class=\"data row5 col5\" >0<br>(0.0%)</td>\\n    </tr>\\n    <tr>\\n      <td id=\"T_c6067_row6_col0\" class=\"data row6 col0\" >7</td>\\n      <td id=\"T_c6067_row6_col1\" class=\"data row6 col1\" ><strong>src_ip_total_bytes</strong><br>[int64]</td>\\n      <td id=\"T_c6067_row6_col2\" class=\"data row6 col2\" >Mean (sd) : 648043.8 (592893.0)<br>min < med < max:<br>26.0 < 442714.5 < 2207294.0<br>IQR (CV) : 888280.2 (1.1)</td>\\n      <td id=\"T_c6067_row6_col3\" class=\"data row6 col3\" >145,355 distinct values</td>\\n      <td id=\"T_c6067_row6_col4\" class=\"data row6 col4\" ><img src = \"data:image/png;base64, iVBORw0KGgoAAAANSUhEUgAAAKoAAABGCAYAAABc8A97AAAAOnRFWHRTb2Z0d2FyZQBNYXRwbG90bGliIHZlcnNpb24zLjEwLjEsIGh0dHBzOi8vbWF0cGxvdGxpYi5vcmcvc2/+5QAAAAlwSFlzAAAPYQAAD2EBqD+naQAAApZJREFUeJzt3L2O2kAUQOE7sCCzEFuIBDo36VO4pMkb5GHTpocXoEiTigYhITDCWQRynCZEG2XFz8zCcq/OV+8YisN6PB7bVVUlwL2rvfUXAM7xcOoPnHMtEWl6Hn9XVdWT51jgr6OhOudavV7vSxzHXZ+Dr9frpXPuK7Ei1Kn/qM04jrvD4fApSZLtJQfO8zwajUbdxWLRFBFCRZCTp34RkSRJtv1+/6fH8VseY4D/cDEFFQgVKhAqVCBUqECoUIFQoQKhQgVChQqEChUIFSoQKlQgVKhAqFCBUKECoUIFQoUKhAoVCBUqECpUIFSoQKhQgVChAqFCBUKFCme9gMJXWZYNEYmdc76H4N1VEJErhloURWO/339K07Rer9cveh3QAe+uwsHVQt3tdg9RFD1mWbYdDAbLS8fz7io8d9VTv4hIu932fW+VCO+uwh9cTEEFQoUKhAoVCBUqECpUIFSoQKhQgVChAqFCBUKFCoQKFa5+rz9E4DZBtggacrehhm4TZIugLXcbasg2QbYI2nO3oR4EbBNki6AhXExBBUKFCnd/6vfFg4W2mAyVBwvtMRkqDxbaYzLUAx4stMN0qCEC57g1Efnl+dEhY0WMzq0J9QUhc9yyLBtFUXzsdDo/arXa/lZjD6zOrQn1BSFz3Ol02p1MJh+yLPt+y7EitufWhHqEzxx3uVy23mLsMybn1iz4QwVChQqc+o2xuoeXUA0JvSO3Wq02zrlvIuJ1N0/CltaO/kgI1ZCQ1YrZbPZuPB5/TtP0vU/koUtrp5bVCNUg3xWHkNvOIUtr5yyrESr+4bs09gpLa0eX1bjqhwqEChUIFSqcNUfN8zy69MCbzSYSESmKIprP54+3HK/1s7V+79Dx5/T1G/Inm7/h6NPjAAAAAElFTkSuQmCC\"></img></td>\\n      <td id=\"T_c6067_row6_col5\" class=\"data row6 col5\" >0<br>(0.0%)</td>\\n    </tr>\\n    <tr>\\n      <td id=\"T_c6067_row7_col0\" class=\"data row7 col0\" >8</td>\\n      <td id=\"T_c6067_row7_col1\" class=\"data row7 col1\" ><strong>dst_ip_total_bytes</strong><br>[int64]</td>\\n      <td id=\"T_c6067_row7_col2\" class=\"data row7 col2\" >Mean (sd) : 288369.1 (311285.3)<br>min < med < max:<br>26.0 < 162436.5 < 1423395.0<br>IQR (CV) : 364478.0 (0.9)</td>\\n      <td id=\"T_c6067_row7_col3\" class=\"data row7 col3\" >108,056 distinct values</td>\\n      <td id=\"T_c6067_row7_col4\" class=\"data row7 col4\" ><img src = \"data:image/png;base64, iVBORw0KGgoAAAANSUhEUgAAAKoAAABGCAYAAABc8A97AAAAOnRFWHRTb2Z0d2FyZQBNYXRwbG90bGliIHZlcnNpb24zLjEwLjEsIGh0dHBzOi8vbWF0cGxvdGxpYi5vcmcvc2/+5QAAAAlwSFlzAAAPYQAAD2EBqD+naQAAAm1JREFUeJzt3b2O2kAYRuFvYEFmIUaIBDo36VNQ0uQOcrFp08MNUKRJRYOQEBjhLAI5ThOiSFnxMwOLX3SemvFQHMF4bGlcURQGlF3l3l8AOMfTqQ845xpmVve8/q4oihfPscBfR0N1zjW63e6XOI47Phdfr9dL59xXYkWoU7+o9TiOO8Ph8KXdbm8vuXCaptFoNOosFou6mREqgpz86zcza7fb216v99Pj+g2PMcB/uJmCBEKFBEKFBEKFBEKFBEKFBEKFBEKFBEKFBEKFBEKFBEKFBEKFBEKFBEKFBEKFBEKFBEKFBEKFBEKFBEKFBEKFBEKFBEKFBEKFBEKFBEKFBEKFBEKFBEKFBEKFBEKFBEKFBEKFBEKFBEKFBEKFBEKFhLOO7/GV53nNzGLnnO8lOPkPZnbDULMsq+33+09JklSr1epFh6kdcPIfDm4W6m63e4qi6HkwGGz7/f7y0vGc/Id/3fSv38ys2Wz6nvpnxsl/+IObKUggVEggVEi4+Ro1ROD2FltbD6S0oYZub61Wq41z7puZeW2NGaGXSmlDDdnems1m78bj8eckSd6zh/sYShvqgc/21nK5bLCH+1hKH2oI9nAfB3f9kECokECokECokECokECokECokPDQ+6gheM+gXAj1FaHvGfD49foI9RUh7xnw+PU2CPUI30eweZ7H5r9sqJjZL5+BVxh/z7mPLpcI9cpClg15nteyLPvYarV+VCqV/aVzh4y/59xmp5dLhHplIcuG6XTamUwmHwaDwXeft75Cxt9z7nOWS2eFmqZpdMnEZmabzSYyM8uyLJrP589vOb4Mc+O6fgPANEb/QUUjLwAAAABJRU5ErkJggg==\"></img></td>\\n      <td id=\"T_c6067_row7_col5\" class=\"data row7 col5\" >0<br>(0.0%)</td>\\n    </tr>\\n    <tr>\\n      <td id=\"T_c6067_row8_col0\" class=\"data row8 col0\" >9</td>\\n      <td id=\"T_c6067_row8_col1\" class=\"data row8 col1\" ><strong>Numeric Source IP</strong><br>[int64]</td>\\n      <td id=\"T_c6067_row8_col2\" class=\"data row8 col2\" >Mean (sd) : 3231669778.3 (42782000.9)<br>min < med < max:<br>0.0 < 3232236142.0 < 3232236228.0<br>IQR (CV) : 5.0 (75.5)</td>\\n      <td id=\"T_c6067_row8_col3\" class=\"data row8 col3\" >22 distinct values</td>\\n      <td id=\"T_c6067_row8_col4\" class=\"data row8 col4\" ><img src = \"data:image/png;base64, iVBORw0KGgoAAAANSUhEUgAAAKoAAABGCAYAAABc8A97AAAAOnRFWHRTb2Z0d2FyZQBNYXRwbG90bGliIHZlcnNpb24zLjEwLjEsIGh0dHBzOi8vbWF0cGxvdGxpYi5vcmcvc2/+5QAAAAlwSFlzAAAPYQAAD2EBqD+naQAAAVpJREFUeJzt10FOwlAYhdH3DEGYvKYhYTEswsW6CHZDTDsQ4oC6AhQaFK85Z/p6k3/wTVqnaSrw1z09+gC4xuLRB/B/1FrXpZTlzPnHNE3HS49C5S5qrevNZvPSWuvn7MdxfKu1vl6KVajcy7K11u92u2PXdadbhsMwrPb7fX84HJalFKHy87quO2232/cZ0/VXj36miCBUIgiVCEIlglCJIFQiCJUIQiWCUIkgVCIIlQhCJYJQiSBUIgiVCEIlglCJIFQiCJUIQiWCUIkgVCIIlQhCJYJQiSBUIgiVCEIlglCJIFQiCJUIQiWCUIkgVCIIlQhCJYJQiSBUIgiVCEIlglCJIFQiCJUIQiWCUIkgVCIIlQhCJYJQiSBUIgiVCEIlglCJIFQiCJUIQiWCUIkgVCIIlQhCJYJQiSBUIgiVCIvvPqi1rkopz79wC9na+XxeDMOwunV4zeYThUwpFu4YjC0AAAAASUVORK5CYII=\"></img></td>\\n      <td id=\"T_c6067_row8_col5\" class=\"data row8 col5\" >0<br>(0.0%)</td>\\n    </tr>\\n    <tr>\\n      <td id=\"T_c6067_row9_col0\" class=\"data row9 col0\" >10</td>\\n      <td id=\"T_c6067_row9_col1\" class=\"data row9 col1\" ><strong>Numeric Destination IP</strong><br>[int64]</td>\\n      <td id=\"T_c6067_row9_col2\" class=\"data row9 col2\" >Mean (sd) : 1970532932.1 (1039604758.0)<br>min < med < max:<br>134744072.0 < 2014854038.0 < 4294967295.0<br>IQR (CV) : 2358165255.0 (1.9)</td>\\n      <td id=\"T_c6067_row9_col3\" class=\"data row9 col3\" >63 distinct values</td>\\n      <td id=\"T_c6067_row9_col4\" class=\"data row9 col4\" ><img src = \"data:image/png;base64, iVBORw0KGgoAAAANSUhEUgAAAKoAAABGCAYAAABc8A97AAAAOnRFWHRTb2Z0d2FyZQBNYXRwbG90bGliIHZlcnNpb24zLjEwLjEsIGh0dHBzOi8vbWF0cGxvdGxpYi5vcmcvc2/+5QAAAAlwSFlzAAAPYQAAD2EBqD+naQAAAppJREFUeJzt3U9u2kAYhvFvCqEmCFuAlOxygETqgmUO0GUP2yN0wQEIN2CDkBByCgUBNl11VcSfGcB+ree3HzESj5CBz2O33+8NKLsvRW8AOEe96A3gupxzTTNreC7f7Pf71TX3cy2EWiHOuWav1/sRx3HHZ/3n5+fcOfezjLESarU04jjuvL+/r5IkWV+yME3TaDAYdGazWcPMCBW3lyTJ+unp6Y/H0ubVN3MlfJmCBEKFBEKFBEKFBEKFBEKFBEKFBEKFBEKFhJv+MxU4IGFW4iEJ3NfNQg0dkDAr95AE7uuWn6jeAxJm5R+SwH3dfCglYEDCrMAhiarOdapieuqAKs91qiLUwyo716mKUI+o4lynKn5HhQRChQRChQRChQRChQRChQRChQRChQRChQRChQRChQRChQRChQRChQRChQRChQRChQRChQRChQRChQRChQRChQRChQRChQRChYRSn5SSZdmDmcXOOZ/lHFRWIaUNdblcPmy3228vLy+1Wq128bGVHFRWLaUNdbPZ1KMoeuz3++vn5+f5JWs5qKx6ShvqP61Wi4PKwJcpaCBUSCBUSCBUSCBUSCBUSCBUSCBUSCBUSCBUSCBUSCBUSCBUSDg5PRXwlOU4z/MHj3VXETh0Xeje8b+joYY8ZXm73UZZlr2t1+tfZub7GHQvoUPXRe4dh536RPV+yvJ4PO6MRqPH3W5XC9ifl5Cha7Ni947Dzhqc9nnK8nw+L3xw2Xfougx7VxRwmWh24h630k/4434Cr+ujbrf7PUmSls/iU/e4nRVqmqbRpS+8WCwiM7PlchlNp9PHe64v8rXTNI2yLKub/xseIs7zvO7zfk0mk3bodb2Zvb2+vn602+3fl6xdrVZfh8Ph0Xvc/gKVhyWG3DggtQAAAABJRU5ErkJggg==\"></img></td>\\n      <td id=\"T_c6067_row9_col5\" class=\"data row9 col5\" >0<br>(0.0%)</td>\\n    </tr>\\n    <tr>\\n      <td id=\"T_c6067_row10_col0\" class=\"data row10 col0\" >11</td>\\n      <td id=\"T_c6067_row10_col1\" class=\"data row10 col1\" ><strong>dst_port_freq_encoded</strong><br>[float64]</td>\\n      <td id=\"T_c6067_row10_col2\" class=\"data row10 col2\" >Mean (sd) : 0.2 (0.2)<br>min < med < max:<br>0.0 < 0.2 < 0.4<br>IQR (CV) : 0.3 (1.5)</td>\\n      <td id=\"T_c6067_row10_col3\" class=\"data row10 col3\" >33 distinct values</td>\\n      <td id=\"T_c6067_row10_col4\" class=\"data row10 col4\" ><img src = \"data:image/png;base64, iVBORw0KGgoAAAANSUhEUgAAAKoAAABGCAYAAABc8A97AAAAOnRFWHRTb2Z0d2FyZQBNYXRwbG90bGliIHZlcnNpb24zLjEwLjEsIGh0dHBzOi8vbWF0cGxvdGxpYi5vcmcvc2/+5QAAAAlwSFlzAAAPYQAAD2EBqD+naQAAAjtJREFUeJzt3EFu2kAYhuF/akAGJFsICXZcoFIXLDlED9sjdMEJuAE7JISMcGJhbGcTpeoiAcZM6Qfvs4WJTPTK4WfIuKZpDPjffbv3BQCX6Nz7AvA4nHN9M+t5Lj82TfP62YOEiptwzvXH4/HPJElGPuv3+/3OOffrs1gJFbfSS5JktFgsXtM0La5ZmGVZvFwuR9vttmdmhIrw0jQtJpPJi8fS/lcPMkxBAqFCAqFCAqFCAqFCAqFCAqFCAqFCAqFCAqFCAqFCAqFCAqFCAqFCAqFCAqFCAqFCAqFCAqFCAqFCAqFCAqFCAqFCAqFCAqFCAqFCAqFCAmdPBRDy+MVnRag3Fvr4xWdFqLcX9PjFZ0WogYQ6fvFZMUxBAqFCAqFCAqFCAqFCAqFCAqFCAqFCQtAP/FvueZux7413wUJtu+dtxr43/gh5R/Xe8zZj3xt/C77X32LP24x9b7xjmIKEs3fUFgNRUtd112Pdh6qqumaWOOd8ljOIPZAvQ20zEJVlGVdV9b0oit9mdvWf/jzPu2VZ/pjNZlEURVe/x2UQeyzn7qjeA9F6vR6tVqvB6XSKfC7seDx24jgezOfzYjqd7q5ZyyD2eC4apnwGot1ud5NBaDgc8gVkMExBA6FCAqFCAqFCAqFCAqFCAqFCAqFCAqFCAqFCAqFCAqFCAqFCAqFCAqFCwkXfR82yLL72Bx8Oh9jMLM/zeLPZDP7l+izL4qqqOub/byxtJHVdd3x+Z3e+7rZave5zz3kDQ7TQSVfK9ugAAAAASUVORK5CYII=\"></img></td>\\n      <td id=\"T_c6067_row10_col5\" class=\"data row10 col5\" >0<br>(0.0%)</td>\\n    </tr>\\n    <tr>\\n      <td id=\"T_c6067_row11_col0\" class=\"data row11 col0\" >12</td>\\n      <td id=\"T_c6067_row11_col1\" class=\"data row11 col1\" ><strong>Interarrival</strong><br>[float64]</td>\\n      <td id=\"T_c6067_row11_col2\" class=\"data row11 col2\" >Mean (sd) : 0.0 (0.1)<br>min < med < max:<br>-0.0 < 0.0 < 1.2<br>IQR (CV) : 0.1 (0.5)</td>\\n      <td id=\"T_c6067_row11_col3\" class=\"data row11 col3\" >66,690 distinct values</td>\\n      <td id=\"T_c6067_row11_col4\" class=\"data row11 col4\" ><img src = \"data:image/png;base64, iVBORw0KGgoAAAANSUhEUgAAAKoAAABGCAYAAABc8A97AAAAOnRFWHRTb2Z0d2FyZQBNYXRwbG90bGliIHZlcnNpb24zLjEwLjEsIGh0dHBzOi8vbWF0cGxvdGxpYi5vcmcvc2/+5QAAAAlwSFlzAAAPYQAAD2EBqD+naQAAAgdJREFUeJzt2MGK2lAUh/FzqiNxhARxiDsfoQuXPkQfdrZdCnkYIegNZpIqcrvrprSONyP1P/1+a8/hIh/JVY8xGvDovvzrAwDvMb72AXefmtkkcf8pxtglzgK//DVUd58uFotveZ7PU5Y3TbN391dixVDXnqiTPM/nm82mK4qiv2VxCCGrqmpe1/XEzAgVg1x99ZuZFUXRl2X5lrB/mjAD/IYfU5BAqJBAqJBAqJBAqJBAqJBAqJBAqJBAqJBAqJBAqJBAqJBAqJBAqJBAqJBAqJBAqJBAqJBAqJBAqJBAqJBAqJBAqJBAqJBAqJBAqJBAqJBAqJBAqJBAqJBAqJBAqJBAqJBAqJBAqJBAqJBAqJBAqJBAqJBAqJBAqJBAqJBAqJBAqJBAqJBAqJBAqJBAqJBAqJBAqJBAqJBAqJBAqJBAqJBAqJBAqJAwvufyy+XyZGa5u6euOMUYuw88EkTdLdS2bZ/O5/PX1Wo1Go1GfcqOpmn27v5KrLhbqKfTaZxl2fN6ve6Xy+X+1vkQQlZV1byu64mZEep/7q6vfjOz2WzWl2X5ljg+/dDDQNbdQx1i4B2X++0n8rChDr3jcr/9XB421CF33BBCtt1uy7quX9y9ST0CkT+Od4UaQshuXXw8HjMzs7Zts91u95w6n6LrusH/OBwOh6O7fzezpHnc7EeM8Y/f9U8nrpUFexrA9wAAAABJRU5ErkJggg==\"></img></td>\\n      <td id=\"T_c6067_row11_col5\" class=\"data row11 col5\" >1<br>(0.0%)</td>\\n    </tr>\\n  </tbody>\\n</table>.Identify any anomalies in this time series dataset. Justify your conclusions based on known detections and security attacks.'"
      ]
     },
     "execution_count": 24,
     "metadata": {},
     "output_type": "execute_result"
    }
   ],
   "source": [
    "malicious_data_summary"
   ]
  },
  {
   "cell_type": "code",
   "execution_count": 45,
   "metadata": {},
   "outputs": [
    {
     "name": "stdout",
     "output_type": "stream",
     "text": [
      "Running analysis with Claude-Sonnet-4...\n",
      "\n",
      "Claude-Sonnet-4 Response:\n",
      "content='Based on my analysis of this network packet capture dataset, I\\'ve identified several significant anomalies and trends that suggest malicious activity. Here\\'s my comprehensive assessment:\\n\\n## Dataset Overview\\nThis is a Wireshark capture from an enterprise network containing 154,090 packets collected over approximately 2 hours (timestamps from 1540446382 to 1540453519). The filename reference to \"malicious_df\" confirms this contains known malicious traffic.\\n\\n## Key Anomalies Identified\\n\\n### 1. **Suspicious DNS Activity**\\n- **High volume of DNS queries**: 66.8% of traffic is UDP (protocol 17), predominantly DNS on port 53\\n- **Specific suspicious domains**:\\n  - `xmpp.samsungsmartcam.com` (7,099 queries - 4.6% of all packets)\\n  - `10024backup.broadlink` and `10024main.broadlink` domains\\n  - `authentication.eye4` domain\\n- **DNS tunneling indicators**: The high frequency of specific domain queries suggests potential DNS tunneling for data exfiltration or C2 communication\\n\\n### 2. **IoT Device Compromise Indicators**\\n- **Samsung smart camera communication**: The repeated queries to `xmpp.samsungsmartcam.com` suggest compromised IoT devices\\n- **Broadlink device queries**: Broadlink manufactures IoT home automation devices, indicating potential botnet activity\\n- **Pattern**: These devices are likely part of a botnet performing coordinated malicious activities\\n\\n### 3. **Network Scanning Behavior**\\n- **Port distribution anomaly**: \\n  - Source ports: 22,952 distinct values (highly distributed)\\n  - Destination ports: Only 3,691 distinct values (concentrated)\\n- **Common target ports**: 80 (HTTP), 443 (HTTPS), 53 (DNS), 8280, 10240\\n- **Scanning pattern**: This suggests automated scanning tools probing multiple services\\n\\n### 4. **Traffic Volume Anomalies**\\n- **Asymmetric byte counts**:\\n  - Source IP total bytes: Mean 648KB, max 2.2MB\\n  - Destination IP total bytes: Mean 288KB, max 1.4MB\\n- **Small packet sizes**: Mean 45.3 bytes, suggesting reconnaissance rather than data transfer\\n- **Burst activity**: High packet frequency with low interarrival times\\n\\n### 5. **IP Address Concentration**\\n- **Limited source IPs**: Only 22 distinct source IPs (mostly from 192.168.x.x range)\\n- **Diverse destinations**: 63 distinct destination IPs spanning multiple networks\\n- **Internal to external pattern**: Suggests compromised internal hosts communicating outbound\\n\\n### 6. **Temporal Anomalies**\\n- **Negative interarrival times**: Minimum -0.000269 seconds indicates potential timestamp manipulation or packet injection\\n- **Burst patterns**: Most packets arrive within milliseconds of each other, suggesting automated tools\\n\\n## Security Attack Classifications\\n\\n### **Botnet Activity**\\nThe combination of IoT device domains, coordinated timing, and repetitive queries strongly indicates botnet participation.\\n\\n### **DNS Tunneling/Exfiltration**\\nThe high volume of DNS queries to specific domains suggests data exfiltration through DNS tunneling techniques.\\n\\n### **Network Reconnaissance**\\nThe port scanning behavior and small packet sizes indicate network mapping and service discovery activities.\\n\\n### **Command & Control (C2) Communication**\\nRegular communication patterns to external domains suggest C2 infrastructure communication.\\n\\n## Risk Assessment\\nThis traffic represents **HIGH RISK** malicious activity involving:\\n- Compromised IoT devices participating in a botnet\\n- Potential data exfiltration via DNS tunneling\\n- Network reconnaissance and scanning\\n- Ongoing C2 communication\\n\\n## Recommendations\\n1. **Immediate isolation** of identified source IPs\\n2. **DNS monitoring** for the flagged domains\\n3. **IoT device security audit** and firmware updates\\n4. **Network segmentation** to isolate IoT devices\\n5. **Enhanced DNS filtering** and monitoring\\n6. **Incident response** procedures for the identified compromised hosts\\n\\nThe evidence strongly supports this being a coordinated attack involving multiple compromised internal devices conducting reconnaissance, data exfiltration, and maintaining persistent C2 communication channels.' additional_kwargs={'refusal': None} response_metadata={'token_usage': {'completion_tokens': 984, 'prompt_tokens': 17314, 'total_tokens': 18298, 'completion_tokens_details': None, 'prompt_tokens_details': None}, 'model_name': 'anthropic/claude-sonnet-4', 'system_fingerprint': None, 'id': 'gen-1754539426-ULIPhNd8jwPaMSiPAkqL', 'service_tier': None, 'finish_reason': 'stop', 'logprobs': None} id='run--60579307-5eaa-4506-8764-fb26b70243d2-0' usage_metadata={'input_tokens': 17314, 'output_tokens': 984, 'total_tokens': 18298, 'input_token_details': {}, 'output_token_details': {}}\n",
      "\n",
      "Time Taken: 21.9 seconds\n",
      "\n",
      "Running analysis with Gemini-2.5-Flash...\n",
      "\n",
      "Gemini-2.5-Flash Response:\n",
      "content='Let\\'s analyze the provided network packet capture dataset for anomalies and potential security attacks.\\n\\n### Understanding the Dataset (First 100 Rows & Summary Statistics)\\n\\nThe dataset contains network traffic information. Key columns for anomaly detection include:\\n\\n*   **Timestamp:** Time of the packet capture.\\n*   **Source Port / Destination Port:** Indicate the application/service being used.\\n*   **Payload:** Content of the packet (often \"Padding\" for small packets, or specific data for DNS, etc.).\\n*   **Packet Length:** Size of the packet.\\n*   **Protocol:** TCP (6.0) or UDP (17.0).\\n*   **src_ip_total_bytes / dst_ip_total_bytes:** Cumulative bytes sent/received by source/destination IPs.\\n*   **Numeric Source IP / Numeric Destination IP:** IP addresses in numerical format.\\n*   **dst_port_freq_encoded:** Frequency encoding of destination ports, suggesting how common a destination port is.\\n*   **Interarrival:** Time difference between consecutive packets.\\n\\n**Observations from the first 100 rows:**\\n\\n*   **DNS Traffic (UDP 53):** Rows 7, 8 show DNS queries (`xmpp.samsungsmartcam.com`, `Speedport_W...`) and responses (name-error). This is normal.\\n*   **HTTP/HTTPS Traffic (TCP 80, 443):** Rows 0, 9, 128, 130, 132 show traffic to/from ports 80 (HTTP) and 443 (HTTPS). This is also normal.\\n*   **Unusual Ports:** Port 8280 (row 1), 8000 (row 131), and 10240 (row 133) are present. These are often used for web services or custom applications and aren\\'t inherently malicious but warrant closer inspection if their traffic patterns are abnormal.\\n*   **\"Padding\" Payload:** Many packets have \"Padding\" as a payload. This can be normal for small packets or during certain TCP/IP operations.\\n*   **Packet Length 26/40:** Many packets are 26 or 40 bytes. These are very small, possibly indicating SYN/ACK packets, or other control messages, or potentially very small data packets.\\n*   **Interarrival Time:** Shows small values, indicating a continuous flow of traffic. One negative value (-0.000269) is present in the summary, which is a data anomaly, indicating a potential data collection error or incorrect sorting.\\n\\n**Observations from Summary Statistics:**\\n\\n*   **Total Rows:** 154,090, a substantial dataset.\\n*   **Timestamp:** The range of timestamps suggests a capture over a few hours.\\n*   **Source Port:** Wide range (0-65267), with a high standard deviation, as expected for dynamic client ports.\\n*   **Destination Port:** Wide range (23-65267), but the mean (6758.4) and 75th percentile (10240) suggest a concentration around common service ports (like 80, 443, 53, 8280, 8000, 10240 as seen in the first 100 rows).\\n*   **Packet Length:**\\n    *   Mean: 45.3 bytes.\\n    *   Min: 20 bytes.\\n    *   Max: 166 bytes.\\n    *   **Anomaly:** The mean and median packet lengths are very low (45.3 and 48 bytes, respectively). The 75th percentile is also 48 bytes. This indicates a high proportion of very small packets. While some small packets are normal (ACKs, DNS queries/responses), an extremely high prevalence could be anomalous.\\n*   **Protocol:**\\n    *   UDP (17.0) is the most frequent (66.8%).\\n    *   TCP (6.0) is 33.2%.\\n    *   This is a significant observation. In many enterprise networks, TCP traffic (web, email, file transfer) tends to be dominant. A higher proportion of UDP could indicate a lot of DNS, streaming, or other UDP-based services. It\\'s not necessarily an anomaly on its own but worth noting.\\n*   **src_ip_total_bytes / dst_ip_total_bytes:** High variability, as expected for cumulative byte counts.\\n*   **Numeric Source IP / Numeric Destination IP:**\\n    *   **Anomaly:** \"Numeric Source IP\" has a minimum of 0.0, which is not a valid IP address. This is a data quality anomaly.\\n    *   \"Numeric Source IP\" has only 22 distinct values, while \"Numeric Destination IP\" has 63 distinct values. This suggests a relatively small number of internal source IPs communicating with a broader range of external destinations. This is typical for an enterprise network (many internal clients, fewer servers, connecting to many external services).\\n*   **Interarrival:**\\n    *   Mean: 0.046 seconds.\\n    *   Min: -0.000269 seconds. **Clear data anomaly.** Interarrival time cannot be negative. This indicates a timestamp issue or a sorting issue in the data collection/processing.\\n    *   Max: 1.176720 seconds.\\n\\n### Identifying Anomalies and Trends\\n\\nBased on the provided information, here are some anomalies and trends, along with justifications and potential security implications:\\n\\n#### A. Data Quality Anomalies\\n\\n1.  **Negative Interarrival Time:**\\n    *   **Observation:** The `Interarrival` column has a minimum value of -0.000269.\\n    *   **Justification:** Time differences between consecutive packets cannot be negative. This is a fundamental data integrity issue.\\n    *   **Implication:** This indicates a problem with how the `Interarrival` column was calculated or how the timestamps were recorded/ordered. It could mask actual timing-based anomalies if not corrected.\\n\\n2.  **Zero Numeric Source IP:**\\n    *   **Observation:** The `Numeric Source IP` column has a minimum value of 0.0.\\n    *   **Justification:** An IP address of 0.0.0.0 is typically used as a placeholder or for specific network operations (e.g., a default route or an unassigned address), but not as a standard source IP for active communication in a packet capture. It\\'s likely a data entry error or a representation issue.\\n    *   **Implication:** This invalid IP could skew analysis related to source IPs and might hide legitimate or malicious traffic if it represents a large number of packets.\\n\\n#### B. Potential Network Behavior Anomalies (Warrants Further Investigation)\\n\\n1.  **High Proportion of Small Packets:**\\n    *   **Observation:** The mean and median `Packet Length` are very low (45.3 and 48 bytes), and the 75th percentile is also 48 bytes.\\n    *   **Justification:** While small packets like ACKs, SYN/FIN packets, or small DNS queries are common, an overwhelming majority of packets being this small can be unusual for general network traffic which often includes larger data transfers (e.g., web pages, file downloads).\\n    *   **Potential Security Implication:**\\n        *   **Port Scanning / Network Discovery:** Attackers often send small packets (e.g., SYN packets, ICMP echo requests) to probe for open ports or active hosts. A high volume of small packets to various destination ports/IPs could indicate scanning activity.\\n        *   **Denial of Service (DoS) / Distributed Denial of Service (DDoS) Attacks:** SYN floods or other low-payload, high-volume attacks often involve many small packets.\\n        *   **Exfiltration of Small Chunks of Data:** Data exfiltration can sometimes occur in small, fragmented packets to evade detection.\\n        *   **Keep-alives/Heartbeats:** Some legitimate applications use small keep-alive packets, but excessive amounts could be unusual.\\n\\n2.  **UDP Dominance (66.8% UDP vs. 33.2% TCP):**\\n    *   **Observation:** UDP traffic is nearly double that of TCP traffic.\\n    *   **Justification:** In many typical enterprise environments, TCP (for web browsing, email, file shares, database access) usually accounts for a larger share of traffic than UDP (DNS, some streaming, NTP).\\n    *   **Potential Security Implication:**\\n        *   **DNS Amplification Attacks:** If a large portion of the UDP traffic is DNS, especially to/from specific external DNS servers, it could indicate participation in or being targeted by DNS amplification.\\n        *   **VoIP/Video Conferencing:** If the enterprise uses a lot of real-time communication, high UDP is normal.\\n        *   **IoT Devices:** Many IoT devices use UDP for communication, and a surge could indicate new devices or unusual activity.\\n        *   **Custom/Malicious UDP Protocols:** Malware or C2 (Command and Control) channels sometimes use custom UDP protocols to blend in or evade detection.\\n        *   **NTP/SNMP Abuse:** Other UDP services like NTP or SNMP can be abused for amplification attacks.\\n\\n3.  **Specific Payload Patterns (e.g., \"Padding\" prevalence, DNS queries):**\\n    *   **Observation:** \"Raw\", \"Padding\", and empty payloads are very common. Specific DNS queries are also prominent (e.g., `xmpp.samsungsmartcam.com`, `10024backup.broadli`, `10024main.broadlink`, `www.baidu.com`, `authentication.eye4`).\\n    *   **Justification:**\\n        *   \"Padding\" and empty payloads for small packets are common. If large packets have \"Padding\" as payload, it could be unusual.\\n        *   The specific DNS queries point to specific devices (Samsung SmartCam, Broadlink) and services (`eye4`).\\n    *   **Potential Security Implication:**\\n        *   **IoT Device Activity:** The presence of `samsungsmartcam.com` and `broadlink` domains suggests the presence of IoT devices on the network. While this is not an anomaly in itself, unusual or excessive communication from these devices, especially to unusual external IPs or at unusual times, could indicate compromise or malicious activity (e.g., device being part of a botnet).\\n        *   **C2 Communication (DNS Tunneling):** If DNS queries are highly repetitive, to strange domains, or have unusually long or encoded subdomains, it could indicate DNS tunneling, a common C2 technique. The \"name-error\" in row 8 for a DNS query could potentially be part of a DNS exfiltration attempt or a failed C2 lookup, though it\\'s also normal for legitimate failed lookups.\\n        *   **Unusual `www.baidu.com` traffic:** While `baidu.com` is a legitimate search engine, widespread or continuous traffic to it from devices not typically used for web browsing (e.g., servers, IoT devices) could be suspicious, especially if the enterprise is not primarily Chinese-speaking.\\n\\n#### C. Trends and Normal Behavior\\n\\n*   **Time-series nature:** The `Timestamp` and `Interarrival` (if cleaned) columns allow for time-based analysis, which is crucial for identifying activity spikes, periodic behaviors, or changes over time.\\n*   **Concentration of Source IPs:** The 22 distinct source IPs suggest a controlled internal network, which is normal for an enterprise.\\n*   **Variety of Destination IPs/Ports:** The 63 distinct destination IPs and 3,691 distinct destination ports indicate communication with various external services, which is expected.\\n*   **Common Ports (80, 443, 53):** The presence of HTTP, HTTPS, and DNS traffic is entirely normal.\\n\\n### Conclusion and Next Steps\\n\\nThe most prominent anomalies in this dataset are **data quality issues** (negative interarrival time, zero source IP) and **potential behavioral anomalies** related to **packet length distribution** and **protocol distribution (UDP dominance)**, particularly when combined with the specific **DNS queries related to IoT devices**.\\n\\n**Recommendations for further investigation:**\\n\\n1.  **Data Cleaning:**\\n    *   Address the negative `Interarrival` times (e.g., remove rows, re-calculate based on cleaned timestamps).\\n    *   Investigate the 0.0 `Numeric Source IP` entries. Are they placeholders, errors, or something else?\\n2.  **Deep Dive into Small Packets:**\\n    *   Analyze the `Protocol` and `Destination Port` of these small packets. Are they primarily SYN/ACKs on common ports, or are they targeting unusual ports/IPs?\\n    *   Plot packet length distribution over time to see if there are sudden shifts or sustained periods of very small packets.\\n3.  **UDP Traffic Analysis:**\\n    *   Break down UDP traffic by `Destination Port`. Is it primarily DNS (port 53)? If so, analyze the DNS queries for suspicious patterns (e.g., DGA domains, unusually long queries, high volume to non-standard DNS servers).\\n    *   Identify other high-volume UDP ports and their associated `Payload` content.\\n4.  **IoT Device Communication:**\\n    *   Isolate traffic to/from `samsungsmartcam.com` and `broadlink` related IPs.\\n    *   Monitor the volume, frequency, and destination of this traffic. Any communication to known malicious IPs or unusual external regions would be highly suspicious.\\n5.  **Time-Series Analysis:**\\n    *   Plot `Packet Length`, `src_ip_total_bytes`, `dst_ip_total_bytes`, and `Packet Count` (per time interval) over time to identify sudden spikes or drops, which often signify attacks or unusual events.\\n    *   Look for periodic patterns that might indicate automated processes or scheduled attacks.\\n6.  **IP Address Analysis:**\\n    *   Map numeric IPs to their actual string representations (if possible) to identify specific hosts.\\n    *   Perform geo-IP lookups on external destination IPs to identify communication with unusual countries.\\n\\nBy addressing the data quality issues and systematically investigating the observed behavioral patterns, one can determine if these anomalies represent legitimate network activity or indicate a security incident.' additional_kwargs={'refusal': None} response_metadata={'token_usage': {'completion_tokens': 3113, 'prompt_tokens': 15842, 'total_tokens': 18955, 'completion_tokens_details': None, 'prompt_tokens_details': None}, 'model_name': 'google/gemini-2.5-flash', 'system_fingerprint': None, 'id': 'gen-1754539448-fSKj8UdPrqEG8FrNM7FL', 'service_tier': None, 'finish_reason': 'stop', 'logprobs': None} id='run--d7b51fe0-951b-459b-85d5-343faef32779-0' usage_metadata={'input_tokens': 15842, 'output_tokens': 3113, 'total_tokens': 18955, 'input_token_details': {}, 'output_token_details': {}}\n",
      "\n",
      "Time Taken: 25.98 seconds\n",
      "\n",
      "Running analysis with OpenAI-gpt-4o...\n",
      "\n",
      "OpenAI-gpt-4o Response:\n",
      "content='Analyzing the provided dataset, we can identify several anomalies and trends based on the summary statistics and the initial 100 rows. Here\\'s a breakdown of the analysis:\\n\\n### General Observations:\\n1. **Payload Distribution**:\\n   - A significant portion of the payloads consists of \"Raw\" (42.2%) and \"Padding\" (18.3%), which could indicate non-standard or potentially suspicious activities if these payloads are not expected in normal operations.\\n   - DNS queries and responses are also present, indicating network lookups.\\n\\n2. **Protocol Usage**:\\n   - There are only two protocols present: UDP (Protocol 17) and TCP (Protocol 6), with UDP being more prevalent (66.8%).\\n\\n3. **Port Analysis**:\\n   - The most common source ports are dynamic/private ports (above 1023), with a wide range of source ports (22,952 distinct values).\\n   - The destination ports also vary, but notable ports include 80 (HTTP), 443 (HTTPS), and 53 (DNS), which are common for web and DNS traffic.\\n   - However, the presence of ports like 8280 and 10240 might suggest non-standard services or applications.\\n\\n4. **Interarrival Times**:\\n   - The mean interarrival time is close to zero, which suggests high-frequency packet transmission, common in scanning or DoS attempts.\\n   - The presence of negative interarrival times (min of -0.000269) can indicate anomalies in timestamp recording or packet sequencing.\\n\\n### Anomalies and Security Implications:\\n1. **High Packet Frequency**:\\n   - The low mean interarrival time and high packet frequency can suggest scanning activities or potential Distributed Denial of Service (DDoS) attacks.\\n\\n2. **Suspicious Ports**:\\n   - Ports like 8280 and 10240 are less common and could be used by malicious applications, especially if they frequently communicate with unexpected IPs.\\n\\n3. **Payload Patterns**:\\n   - The high percentage of \"Padding\" and \"Raw\" payloads can be indicative of attempts to obfuscate data or communicate covertly within the network.\\n   - If these payload types do not match the expected traffic for the network, they should be further investigated.\\n\\n4. **Source and Destination IPs**:\\n   - A limited number of distinct source IPs (22) compared to destination IPs (63) might indicate centralized attack sources targeting multiple destinations.\\n   - The concentration of high traffic from a few source IPs could indicate compromised devices or botnet activity.\\n\\n5. **Negative Interarrival**:\\n   - Negative interarrival times could indicate issues with timestamp synchronization or packet capture errors, potentially obscuring real-time sequence and flow analysis.\\n\\n### Conclusion:\\nThe dataset exhibits characteristics that could be associated with network scanning, potential DDoS activity, and possibly unauthorized data exfiltration or command and control communication. The presence of non-standard ports, high-frequency traffic, and suspicious payload types suggest that further investigation is warranted to rule out security threats. Additionally, the anomalies in interarrival times should be addressed to ensure accurate analysis of network traffic patterns.' additional_kwargs={'refusal': None} response_metadata={'token_usage': {'completion_tokens': 635, 'prompt_tokens': 14056, 'total_tokens': 14691, 'completion_tokens_details': {'accepted_prediction_tokens': None, 'audio_tokens': None, 'reasoning_tokens': 0, 'rejected_prediction_tokens': None}, 'prompt_tokens_details': {'audio_tokens': None, 'cached_tokens': 0}}, 'model_name': 'openai/gpt-4o', 'system_fingerprint': 'fp_ff25b2783a', 'id': 'gen-1754539474-iWk6zLTunGTKeOLWyNkZ', 'service_tier': None, 'finish_reason': 'stop', 'logprobs': None} id='run--b73dbbf9-3d3d-4318-bbc2-3861219e81c5-0' usage_metadata={'input_tokens': 14056, 'output_tokens': 635, 'total_tokens': 14691, 'input_token_details': {'cache_read': 0}, 'output_token_details': {'reasoning': 0}}\n",
      "\n",
      "Time Taken: 17.0 seconds\n",
      "\n"
     ]
    }
   ],
   "source": [
    "statistical_results = {}\n",
    "\n",
    "for model_name, model in models.items():\n",
    "    print(f\"Running analysis with {model_name}...\")\n",
    "\n",
    "    start_time = time.time()\n",
    "\n",
    "    # Create chain and execute\n",
    "    response = model.invoke(\n",
    "        prompt_template.format(malicious_data_summary=malicious_data_summary)\n",
    "    )\n",
    "\n",
    "    end_time = time.time()\n",
    "\n",
    "    # Store results\n",
    "    statistical_results[model_name] = {\n",
    "        \"response\": response,\n",
    "        \"time_taken\": round(end_time - start_time, 2),\n",
    "    }\n",
    "\n",
    "    print(f\"\\n{model_name} Response:\\n{response}\\n\")\n",
    "    print(f\"Time Taken: {round(end_time - start_time, 2)} seconds\\n\")"
   ]
  },
  {
   "cell_type": "markdown",
   "metadata": {},
   "source": [
    "### Hypothesis testing\n",
    "- Is the difference between two groups or variables statistically significant?\n",
    "- Use t-test to compare means of two groups\n",
    "  - assumes that data follows normal distribution\n",
    "- Types of variables\n",
    "  - dependent: the effect of a phenomenon. For example, how does number of HTTP requests mean that a network is compromised?\n",
    "  - independent: the cause. The number of HTTP requests affects whether a network is compromised."
   ]
  },
  {
   "cell_type": "code",
   "execution_count": 46,
   "metadata": {},
   "outputs": [
    {
     "data": {
      "text/plain": [
       "0                                                   Padding\n",
       "1                                                   Padding\n",
       "7         DNS Qry b'xmpp.samsungsmartcam.com.Speedport_W...\n",
       "8                                        DNS Ans name-error\n",
       "9                                                   Padding\n",
       "                                ...                        \n",
       "764121                                                  Raw\n",
       "764122                         DNS Qry b'time.windows.com.'\n",
       "764124                                              Padding\n",
       "764125                                              Padding\n",
       "764136    DNS Qry b'north-america.pool.ntp.org.Speedport...\n",
       "Name: Payload, Length: 154090, dtype: object"
      ]
     },
     "execution_count": 46,
     "metadata": {},
     "output_type": "execute_result"
    }
   ],
   "source": [
    "malicious_df.pop(\"Payload\")"
   ]
  },
  {
   "cell_type": "code",
   "execution_count": 47,
   "metadata": {},
   "outputs": [],
   "source": [
    "def hypothesis_testing(df, col1, col2):\n",
    "    group1 = df[col1]\n",
    "    group2 = df[col2]\n",
    "    pvalue = ttest_ind(group1, group2)[1]\n",
    "    if pvalue < 0.05:\n",
    "        return \"The difference between {} and {} is statistically significant (p < 0.05)\".format(\n",
    "            col1, col2\n",
    "        )\n",
    "    else:\n",
    "        return \"The difference between {} and {} is not statistically significant (p >= 0.05)\".format(\n",
    "            col1, col2\n",
    "        )"
   ]
  },
  {
   "cell_type": "code",
   "execution_count": 48,
   "metadata": {},
   "outputs": [],
   "source": [
    "def get_column_combinations(df):\n",
    "    df_columns = df.columns.tolist()\n",
    "    pairs = list(combinations(df_columns, 2))\n",
    "\n",
    "    return pairs"
   ]
  },
  {
   "cell_type": "code",
   "execution_count": 49,
   "metadata": {},
   "outputs": [],
   "source": [
    "def all_hypotheses(df):\n",
    "    # perform hypothesis testing for all combinations of columns\n",
    "    all_column_pairs = get_column_combinations(malicious_df)\n",
    "    hypotheses = \"\"\n",
    "    for pair in all_column_pairs:\n",
    "        hypotheses += hypothesis_testing(df, pair[0], pair[1])\n",
    "    # ask model to explain\n",
    "    explain = f\"\"\"\n",
    "    Below there is all the hypothesis testing performed with ttest for all the possible combinations of the features of the dataset. \n",
    "    Extract logical conclusions based on the hypotheses testings. \n",
    "    Is there a difference between two groups of variables that is statistically significant? \n",
    "    Can you conclude if there are dependent or independent variables in the dataset? \\n ** Hypotheses Tests ** {hypotheses}\n",
    "    \"\"\"\n",
    "    \n",
    "    return explain "
   ]
  },
  {
   "cell_type": "code",
   "execution_count": 50,
   "metadata": {},
   "outputs": [],
   "source": [
    "hypotheses = all_hypotheses(malicious_df)\n",
    "prompt_template = PromptTemplate(\n",
    "    input_variables=[\"hypotheses\"],\n",
    "    template=\"Analyze this dataset based on the hypotheses tests and identify anomalies and trends:\\n{hypotheses}\",\n",
    ")"
   ]
  },
  {
   "cell_type": "code",
   "execution_count": 51,
   "metadata": {},
   "outputs": [
    {
     "name": "stdout",
     "output_type": "stream",
     "text": [
      "Running analysis with Claude-Sonnet-4...\n",
      "\n",
      "Claude-Sonnet-4 Response:\n",
      "content='Based on the comprehensive t-test analysis of this network traffic dataset, I can identify several key patterns, anomalies, and trends:\\n\\n## Key Findings\\n\\n### **Major Anomaly: Interarrival Variable Isolation**\\nThe most striking anomaly is that **Interarrival** shows **no statistically significant differences** with any other variable in the dataset. This is highly unusual and suggests:\\n- Interarrival may be independent of all network traffic characteristics\\n- Possible data quality issues or measurement errors\\n- The timing between packets might be following a completely different distribution or pattern\\n\\n### **Strong Network Traffic Dependencies**\\nAll other variables show significant statistical relationships with each other, indicating a highly interconnected network system where:\\n- Traffic patterns are not random\\n- Network behaviors are interdependent\\n- Changes in one parameter likely affect others\\n\\n## Identified Variable Groups\\n\\n### **Group 1: Core Network Variables (Highly Interdependent)**\\n- Timestamp\\n- Source Port & Destination Port\\n- Packet Length\\n- Protocol\\n- Source/Destination IP addresses\\n- Traffic volume metrics (src_ip_total_bytes, dst_ip_total_bytes)\\n- Destination port frequency encoding\\n\\n### **Group 2: Isolated Variable**\\n- **Interarrival** (statistically independent from all others)\\n\\n## Network Traffic Trends\\n\\n1. **Temporal Patterns**: Timestamp correlates with all network parameters except interarrival, suggesting time-dependent traffic patterns\\n\\n2. **Port Relationships**: Source and destination ports are significantly different, indicating diverse communication patterns\\n\\n3. **Traffic Volume Correlation**: Both source and destination byte totals correlate with other variables, showing structured data flow patterns\\n\\n4. **Protocol Dependencies**: Protocol types significantly affect all other network characteristics\\n\\n## Statistical Conclusions\\n\\n### **Dependent Variables**\\n- All variables except Interarrival are statistically dependent on each other\\n- This suggests a complex network ecosystem where traffic characteristics influence each other\\n\\n### **Independent Variable**\\n- **Interarrival** appears to be the only truly independent variable\\n- This could indicate either:\\n  - Natural network timing independence\\n  - Data collection or processing anomaly\\n  - Different underlying process governing packet timing\\n\\n## Recommendations for Further Investigation\\n\\n1. **Investigate Interarrival Data Quality**: Verify measurement methodology and data integrity\\n2. **Examine Network Architecture**: The high interdependence suggests specific network configurations or traffic patterns\\n3. **Consider Non-linear Relationships**: T-tests only detect linear relationships; some variables might have non-linear dependencies\\n4. **Temporal Analysis**: Given timestamp significance, time-series analysis might reveal additional patterns\\n\\nThis analysis reveals a highly structured network environment with one potentially problematic or uniquely independent timing variable that warrants further investigation.' additional_kwargs={'refusal': None} response_metadata={'token_usage': {'completion_tokens': 610, 'prompt_tokens': 1458, 'total_tokens': 2068, 'completion_tokens_details': None, 'prompt_tokens_details': None}, 'model_name': 'anthropic/claude-sonnet-4', 'system_fingerprint': None, 'id': 'gen-1754539517-j0gKoaL5XNxPgwxnCrIt', 'service_tier': None, 'finish_reason': 'stop', 'logprobs': None} id='run--9db20ef3-1489-4f53-8ce5-5771bec1f2b9-0' usage_metadata={'input_tokens': 1458, 'output_tokens': 610, 'total_tokens': 2068, 'input_token_details': {}, 'output_token_details': {}}\n",
      "\n",
      "Time Taken: 15.05 seconds\n",
      "\n",
      "Running analysis with Gemini-2.5-Flash...\n",
      "\n",
      "Gemini-2.5-Flash Response:\n",
      "content='Let\\'s break down these hypothesis test results to identify trends, anomalies, and dependencies.\\n\\n**General Interpretation of p-values:**\\n\\n*   **p < 0.05:** The observed difference between the two groups (variables) is statistically significant. This suggests that the two variables are likely drawn from different populations, or that they are related in some way (dependent).\\n*   **p >= 0.05:** The observed difference between the two groups is *not* statistically significant. This suggests that the two variables might be drawn from the same population, or that there isn\\'t enough evidence to conclude a relationship (they might be independent).\\n\\n---\\n\\n**1. Identifying Trends: What\\'s Generally Statistically Significant?**\\n\\nA clear trend emerges: **Almost all pairs of variables show a statistically significant difference (p < 0.05).** This implies that, for the most part, the distributions of values for different features are distinct. This is a common finding in datasets with diverse types of information.\\n\\n**This high degree of statistical significance suggests:**\\n\\n*   **Distinct Distributions:** Each feature likely measures something fundamentally different from the others, leading to distinct statistical distributions.\\n*   **Potential Dependencies/Relationships:** When a significant difference is found, it often points to a relationship or dependency between the variables. For example, a change in one might correlate with a change in the other.\\n\\n---\\n\\n**2. Identifying Anomalies: What\\'s NOT Statistically Significant?**\\n\\nThe most striking anomaly is the variable **\"Interarrival\"**.\\n\\n*   **\"Interarrival\" consistently shows *no* statistically significant difference (p >= 0.05) with *any* other variable.**\\n\\n    *   Timestamp and Interarrival\\n    *   Source Port and Interarrival\\n    *   Destination Port and Interarrival\\n    *   Packet Length and Interarrival\\n    *   Protocol and Interarrival\\n    *   src_ip_total_bytes and Interarrival\\n    *   dst_ip_total_bytes and Interarrival\\n    *   Numeric Source IP and Interarrival\\n    *   Numeric Destination IP and Interarrival\\n    *   dst_port_freq_encoded and Interarrival\\n\\n**What does this anomaly tell us about \"Interarrival\"?**\\n\\n*   **Independence (or lack of detectable relationship):** This is the strongest conclusion. The \"Interarrival\" time seems to be statistically independent of all other features in the dataset. Its distribution does not appear to be significantly different from the distributions of any other feature, nor does it seem to be influenced by them in a way that a t-test can detect.\\n*   **Nature of \"Interarrival\":** Interarrival time typically refers to the time elapsed between consecutive events (e.g., packets). Its independence from other packet attributes (like port, length, protocol, IP addresses, total bytes) could suggest:\\n    *   **Randomness:** The timing of packet arrivals might be more random or driven by external factors not captured by these other features.\\n    *   **Decoupling:** The rate at which packets arrive is largely decoupled from the specific characteristics of those packets. For instance, a network might be sending small packets rapidly or large packets slowly, but the *interarrival* time itself might not strongly predict or be predicted by these other attributes.\\n    *   **Different Scale/Type of Measurement:** While other features describe the *content* or *identity* of a packet, Interarrival describes the *timing* between packets. This fundamental difference might be why it behaves independently in these tests.\\n\\n---\\n\\n**3. Logical Conclusions Based on Hypothesis Testing:**\\n\\n*   **Widespread Dependencies (or Distinctness):** For almost every pair of variables *not* involving \"Interarrival,\" there is a statistically significant difference. This strongly suggests that these variables are not independent and likely have some form of relationship or influence on each other. For example, `Packet Length` and `Protocol` being significantly different could mean that certain protocols tend to have different packet lengths, or that their distributions are simply distinct.\\n*   **Uniqueness of \"Interarrival\":** \"Interarrival\" stands out as the only variable that appears to be statistically independent of all other measured features. This makes it a unique dimension within the dataset.\\n\\n---\\n\\n**4. Are there dependent or independent variables?**\\n\\nBased *solely* on these t-test results (which primarily test for differences in means, and by extension, suggest potential relationships or lack thereof):\\n\\n*   **Potentially Independent Variable:**\\n    *   **Interarrival:** This is the strongest candidate for an independent variable *relative to the other features*. The consistent lack of statistical significance when compared to *any* other feature suggests that its distribution is not significantly different from theirs in a way that implies a strong dependency or correlation. If you were building a model, \"Interarrival\" might be difficult to predict using the other features, and vice-versa.\\n\\n*   **Likely Dependent Variables (or at least, not independent of each other):**\\n    *   **Timestamp, Source Port, Destination Port, Packet Length, Protocol, src_ip_total_bytes, dst_ip_total_bytes, Numeric Source IP, Numeric Destination IP, dst_port_freq_encoded.**\\n        *   For any pair chosen from this group, the t-test indicates a statistically significant difference. This doesn\\'t *prove* direct causation or a strong linear correlation, but it *does* strongly suggest that their distributions are different and that they are not independent of one another.\\n        *   For example, if `Timestamp` and `Packet Length` are statistically different, it implies that the distribution of packet lengths changes over time, or that the average packet length at different timestamps is different. This points to a dependency.\\n        *   Similarly, `Source Port` and `Destination Port` being statistically different indicates that the distribution of source ports is distinct from that of destination ports, which is expected but also suggests they are not independent random variables drawn from the same pool.\\n\\n**Important Caveats:**\\n\\n*   **T-test limitations:** A t-test primarily checks for differences in means. While a significant difference in means often implies a relationship (dependency), it doesn\\'t describe the *nature* of that relationship (e.g., linear, non-linear, causal). Two variables could have very different means but still be independent in some contexts, or have similar means but be highly correlated. However, given the consistent `p < 0.05`, it\\'s a strong indicator of non-independence.\\n*   **\"Dependent\" vs. \"Related\":** In this context, \"dependent\" means that the values of one variable are influenced by or statistically associated with the values of another. The t-test results strongly suggest that all variables (except Interarrival) are related to each other in some statistically significant way.\\n*   **Context Missing:** Without knowing what these features represent in detail (e.g., network traffic data?), the exact *meaning* of the dependencies is harder to infer. However, the statistical conclusion remains.\\n\\n**In summary:**\\n\\nThe dataset is characterized by a high degree of statistical distinctness and likely dependencies among most of its features. The glaring exception is \"Interarrival,\" which appears to be statistically independent of all other features. This suggests that \"Interarrival\" might represent a truly distinct aspect of the data, potentially driven by different underlying processes than the other network-related attributes.' additional_kwargs={'refusal': None} response_metadata={'token_usage': {'completion_tokens': 1560, 'prompt_tokens': 1352, 'total_tokens': 2912, 'completion_tokens_details': None, 'prompt_tokens_details': None}, 'model_name': 'google/gemini-2.5-flash', 'system_fingerprint': None, 'id': 'gen-1754539532-b0OUXdEIndVHM5SEHFeH', 'service_tier': None, 'finish_reason': 'stop', 'logprobs': None} id='run--08b45c3f-bfb2-4869-9797-186786e612bc-0' usage_metadata={'input_tokens': 1352, 'output_tokens': 1560, 'total_tokens': 2912, 'input_token_details': {}, 'output_token_details': {}}\n",
      "\n",
      "Time Taken: 11.5 seconds\n",
      "\n",
      "Running analysis with OpenAI-gpt-4o...\n",
      "\n",
      "OpenAI-gpt-4o Response:\n",
      "content='Based on the results of the hypothesis testing provided, we can draw several conclusions about the dataset:\\n\\n### Statistically Significant Differences:\\n1. **Timestamp:**\\n   - There are statistically significant differences between \"Timestamp\" and almost all other variables except \"Interarrival.\" This suggests that the way time is recorded or structured might be distinctly different from other attributes, indicating potential time-based anomalies or patterns.\\n\\n2. **Source Port & Destination Port:**\\n   - Both \"Source Port\" and \"Destination Port\" show statistically significant differences with all other variables except \"Interarrival.\" This could indicate that port numbers are unique identifiers, likely categorical or nominal data that significantly differ from other continuous variables.\\n\\n3. **Packet Length:**\\n   - \"Packet Length\" shows statistically significant differences with all other variables except \"Interarrival,\" suggesting that packet size is a distinctive feature that varies considerably from other attributes.\\n\\n4. **Protocol:**\\n   - The protocol used in the dataset is statistically distinct from other features except \"Interarrival,\" indicating that the type of protocol is a key differentiator in the dataset.\\n\\n5. **IP Addresses (Numeric Source IP & Numeric Destination IP):**\\n   - The numeric representations of source and destination IPs show significant differences with most other features, suggesting that IP addresses are unique identifiers.\\n\\n6. **Data Volume (src_ip_total_bytes & dst_ip_total_bytes):**\\n   - Both \"src_ip_total_bytes\" and \"dst_ip_total_bytes\" differ significantly from other variables, implying that data volume sent/received is a key factor in distinguishing different dataset instances.\\n\\n7. **Frequency Encoding (dst_port_freq_encoded):**\\n   - The frequency encoding of destination ports is distinct from other features, indicating it might capture unique patterns not evident in raw data.\\n\\n### Non-Statistically Significant Differences:\\n1. **Interarrival:**\\n   - The \"Interarrival\" time does not show statistically significant differences with any other variables. This suggests that the intervals between packets are not a distinguishing factor in this dataset, possibly indicating uniformity or regular traffic patterns.\\n\\n### Conclusions on Dependencies:\\n- **Dependent Variables:**\\n  - The consistent statistical significance between most variables suggests potential dependencies between them. For instance, variations in port numbers, packet lengths, and protocols are likely interrelated due to the nature of network traffic.\\n\\n- **Independent Variables:**\\n  - \"Interarrival\" stands out as an independent variable, as it does not show significant differences with any other features, suggesting it might not influence or be influenced by the other variables.\\n\\n### Anomalies and Trends:\\n- The dataset appears to have distinct groupings based on port numbers, IP addresses, protocols, and data volumes, all of which show significant differences. This can indicate trends related to specific network activities, such as different types of traffic or attacks using specific ports/protocols.\\n- The lack of significance in \"Interarrival\" suggests either a uniform distribution of traffic or that this feature may not be an effective measure for distinguishing different traffic types or behaviors.\\n\\nOverall, the statistical significance of most variable combinations indicates diverse patterns and dependencies in the dataset, with \"Interarrival\" being the notable exception due to its lack of distinctive differences.' additional_kwargs={'refusal': None} response_metadata={'token_usage': {'completion_tokens': 639, 'prompt_tokens': 1212, 'total_tokens': 1851, 'completion_tokens_details': {'accepted_prediction_tokens': None, 'audio_tokens': None, 'reasoning_tokens': 0, 'rejected_prediction_tokens': None}, 'prompt_tokens_details': {'audio_tokens': None, 'cached_tokens': 0}}, 'model_name': 'openai/gpt-4o', 'system_fingerprint': 'fp_07871e2ad8', 'id': 'gen-1754539543-Hmymd00soxlMmW5lfzsS', 'service_tier': None, 'finish_reason': 'stop', 'logprobs': None} id='run--b6679708-6c3b-4f46-b56e-b25ea7f1d4cf-0' usage_metadata={'input_tokens': 1212, 'output_tokens': 639, 'total_tokens': 1851, 'input_token_details': {'cache_read': 0}, 'output_token_details': {'reasoning': 0}}\n",
      "\n",
      "Time Taken: 17.76 seconds\n",
      "\n"
     ]
    }
   ],
   "source": [
    "hypotheses_results = {}\n",
    "\n",
    "for model_name, model in models.items():\n",
    "    print(f\"Running analysis with {model_name}...\")\n",
    "\n",
    "    start_time = time.time()\n",
    "\n",
    "    # Create chain and execute\n",
    "    response = model.invoke(prompt_template.format(hypotheses=hypotheses))\n",
    "\n",
    "    end_time = time.time()\n",
    "\n",
    "    # Store results\n",
    "    hypotheses_results[model_name] = {\n",
    "        \"response\": response,\n",
    "        \"time_taken\": round(end_time - start_time, 2),\n",
    "    }\n",
    "\n",
    "    print(f\"\\n{model_name} Response:\\n{response}\\n\")\n",
    "    print(f\"Time Taken: {round(end_time - start_time, 2)} seconds\\n\")"
   ]
  },
  {
   "cell_type": "code",
   "execution_count": 52,
   "metadata": {},
   "outputs": [
    {
     "data": {
      "text/plain": [
       "'\\n    Below there is all the hypothesis testing performed with ttest for all the possible combinations of the features of the dataset. \\n    Extract logical conclusions based on the hypotheses testings. \\n    Is there a difference between two groups of variables that is statistically significant? \\n    Can you conclude if there are dependent or independent variables in the dataset? \\n ** Hypotheses Tests ** The difference between Timestamp and Source Port is statistically significant (p < 0.05)The difference between Timestamp and Destination Port is statistically significant (p < 0.05)The difference between Timestamp and Packet Length is statistically significant (p < 0.05)The difference between Timestamp and Protocol is statistically significant (p < 0.05)The difference between Timestamp and src_ip_total_bytes is statistically significant (p < 0.05)The difference between Timestamp and dst_ip_total_bytes is statistically significant (p < 0.05)The difference between Timestamp and Numeric Source IP is statistically significant (p < 0.05)The difference between Timestamp and Numeric Destination IP is statistically significant (p < 0.05)The difference between Timestamp and dst_port_freq_encoded is statistically significant (p < 0.05)The difference between Timestamp and Interarrival is not statistically significant (p >= 0.05)The difference between Source Port and Destination Port is statistically significant (p < 0.05)The difference between Source Port and Packet Length is statistically significant (p < 0.05)The difference between Source Port and Protocol is statistically significant (p < 0.05)The difference between Source Port and src_ip_total_bytes is statistically significant (p < 0.05)The difference between Source Port and dst_ip_total_bytes is statistically significant (p < 0.05)The difference between Source Port and Numeric Source IP is statistically significant (p < 0.05)The difference between Source Port and Numeric Destination IP is statistically significant (p < 0.05)The difference between Source Port and dst_port_freq_encoded is statistically significant (p < 0.05)The difference between Source Port and Interarrival is not statistically significant (p >= 0.05)The difference between Destination Port and Packet Length is statistically significant (p < 0.05)The difference between Destination Port and Protocol is statistically significant (p < 0.05)The difference between Destination Port and src_ip_total_bytes is statistically significant (p < 0.05)The difference between Destination Port and dst_ip_total_bytes is statistically significant (p < 0.05)The difference between Destination Port and Numeric Source IP is statistically significant (p < 0.05)The difference between Destination Port and Numeric Destination IP is statistically significant (p < 0.05)The difference between Destination Port and dst_port_freq_encoded is statistically significant (p < 0.05)The difference between Destination Port and Interarrival is not statistically significant (p >= 0.05)The difference between Packet Length and Protocol is statistically significant (p < 0.05)The difference between Packet Length and src_ip_total_bytes is statistically significant (p < 0.05)The difference between Packet Length and dst_ip_total_bytes is statistically significant (p < 0.05)The difference between Packet Length and Numeric Source IP is statistically significant (p < 0.05)The difference between Packet Length and Numeric Destination IP is statistically significant (p < 0.05)The difference between Packet Length and dst_port_freq_encoded is statistically significant (p < 0.05)The difference between Packet Length and Interarrival is not statistically significant (p >= 0.05)The difference between Protocol and src_ip_total_bytes is statistically significant (p < 0.05)The difference between Protocol and dst_ip_total_bytes is statistically significant (p < 0.05)The difference between Protocol and Numeric Source IP is statistically significant (p < 0.05)The difference between Protocol and Numeric Destination IP is statistically significant (p < 0.05)The difference between Protocol and dst_port_freq_encoded is statistically significant (p < 0.05)The difference between Protocol and Interarrival is not statistically significant (p >= 0.05)The difference between src_ip_total_bytes and dst_ip_total_bytes is statistically significant (p < 0.05)The difference between src_ip_total_bytes and Numeric Source IP is statistically significant (p < 0.05)The difference between src_ip_total_bytes and Numeric Destination IP is statistically significant (p < 0.05)The difference between src_ip_total_bytes and dst_port_freq_encoded is statistically significant (p < 0.05)The difference between src_ip_total_bytes and Interarrival is not statistically significant (p >= 0.05)The difference between dst_ip_total_bytes and Numeric Source IP is statistically significant (p < 0.05)The difference between dst_ip_total_bytes and Numeric Destination IP is statistically significant (p < 0.05)The difference between dst_ip_total_bytes and dst_port_freq_encoded is statistically significant (p < 0.05)The difference between dst_ip_total_bytes and Interarrival is not statistically significant (p >= 0.05)The difference between Numeric Source IP and Numeric Destination IP is statistically significant (p < 0.05)The difference between Numeric Source IP and dst_port_freq_encoded is statistically significant (p < 0.05)The difference between Numeric Source IP and Interarrival is not statistically significant (p >= 0.05)The difference between Numeric Destination IP and dst_port_freq_encoded is statistically significant (p < 0.05)The difference between Numeric Destination IP and Interarrival is not statistically significant (p >= 0.05)The difference between dst_port_freq_encoded and Interarrival is not statistically significant (p >= 0.05)\\n    '"
      ]
     },
     "execution_count": 52,
     "metadata": {},
     "output_type": "execute_result"
    }
   ],
   "source": [
    "hypotheses"
   ]
  },
  {
   "cell_type": "markdown",
   "metadata": {},
   "source": [
    "### Outliers\n",
    "- observation that significantly differs from others in a dataset\n",
    "- Causes\n",
    "  - measurement errors\n",
    "  - extreme rare values\n",
    "- significant impact in statistical analysis\n",
    "- measurements\n",
    "  - z-score: `(x - mean) / std_dev`\n",
    "  - IQR method: this method identifies outliers as observations that are below `Q1 - 1.5IQR` or above `Q3 + 1.5IQR`, where Q1 and Q3 are the first and third quartiles, and IQR is the interquartile range (the difference between Q3 and Q1).\n",
    "  - visual inspection"
   ]
  },
  {
   "cell_type": "code",
   "execution_count": 53,
   "metadata": {},
   "outputs": [],
   "source": [
    "def detect_outliers_zscore(df, column, threshold=3):\n",
    "    zscores = np.abs(zscore(df[column]))\n",
    "    return df[zscores > threshold]"
   ]
  },
  {
   "cell_type": "code",
   "execution_count": 54,
   "metadata": {},
   "outputs": [],
   "source": [
    "def all_outliers(df):\n",
    "    outliers = \"\"\n",
    "    for feature in df.columns:\n",
    "        outliers += f\"Outlier scores for {feature} are {detect_outliers_zscore(df, feature, threshold=3)}\"\n",
    "        # ask model to explain\n",
    "    explain = f\"Below there is all the outliers scores calculated using zscore, for all the possible combinations of the features of the dataset. Extract logical conclusions based on the outliers. Do you find any interesting observations that stand out in the dataset based on the outlier calculations? What are your conclusions? \\n ** Outlier Scores ** {outliers}\"\n",
    "\n",
    "    return explain"
   ]
  },
  {
   "cell_type": "code",
   "execution_count": 55,
   "metadata": {},
   "outputs": [],
   "source": [
    "outliers = all_outliers(malicious_df)\n",
    "prompt_template = PromptTemplate(\n",
    "    input_variables=[\"outliers\"],\n",
    "    template=\"Analyze this dataset based on the outlier calculations and identify anomalies and trends:\\n{outliers}\",\n",
    ")"
   ]
  },
  {
   "cell_type": "code",
   "execution_count": 56,
   "metadata": {},
   "outputs": [
    {
     "name": "stdout",
     "output_type": "stream",
     "text": [
      "Running analysis with Claude-Sonnet-4...\n",
      "\n",
      "Claude-Sonnet-4 Response:\n",
      "content='Based on the outlier analysis of this network traffic dataset, I can identify several significant patterns and anomalies:\\n\\n## Key Findings\\n\\n### 1. **Destination Port Anomalies (2,211 outliers)**\\n- **High-frequency unusual ports**: Multiple connections to uncommon destination ports like 32100, 41219, 41313\\n- **Consistent source behavior**: Many outliers originate from source port 11570 targeting port 32100\\n- **Protocol consistency**: Most anomalous destination port traffic uses UDP (Protocol 17)\\n- **Potential concern**: This could indicate port scanning, tunneling, or malware communication\\n\\n### 2. **Packet Length Anomalies (1,542 outliers)**\\n- **Oversized packets**: Packets of 145, 166 bytes are flagged as outliers\\n- **Specific communication patterns**: \\n  - Port 1900 traffic with 166-byte packets (likely UPnP/SSDP)\\n  - Port 68 traffic with 166-byte packets (DHCP-related)\\n- **High data volumes**: Associated with significant byte transfers (800K+ bytes)\\n\\n### 3. **Critical Source IP Anomaly (27 outliers)**\\n- **Zero IP address**: Numeric Source IP = 0 indicates invalid/spoofed source addresses\\n- **Consistent pattern**: All involve ports 68→67 communication (DHCP)\\n- **Large packets**: All are 166 bytes\\n- **Security implication**: This suggests either misconfigured DHCP or potential IP spoofing\\n\\n### 4. **Destination Byte Volume Anomalies (4,090 outliers)**\\n- **Massive data transfers**: Over 1.2 million bytes to single destinations\\n- **DNS and SSH focus**: Heavy traffic to ports 53 (DNS) and 23 (Telnet/SSH)\\n- **Potential data exfiltration**: Unusually high outbound data volumes\\n\\n## Security Implications\\n\\n### **High Priority Concerns:**\\n1. **IP Spoofing**: Zero source IP addresses indicate potential attack attempts\\n2. **Port Scanning**: Unusual destination port patterns suggest reconnaissance\\n3. **Data Exfiltration**: Massive byte transfers to DNS/SSH ports are suspicious\\n4. **Botnet Activity**: Consistent communication patterns to uncommon ports\\n\\n### **Network Behavior Patterns:**\\n- **DHCP Issues**: Multiple anomalies in DHCP-related traffic (ports 67/68)\\n- **UPnP Traffic**: Port 1900 anomalies suggest active device discovery\\n- **DNS Tunneling**: Excessive data to port 53 may indicate covert channels\\n\\n## Recommendations\\n\\n1. **Immediate Investigation**: Focus on the zero source IP traffic and massive DNS transfers\\n2. **Port Monitoring**: Implement enhanced monitoring for ports 32100, 41219, 41313\\n3. **Traffic Analysis**: Examine the content of oversized packets (166 bytes)\\n4. **IP Validation**: Implement stricter source IP validation to prevent spoofing\\n5. **Baseline Establishment**: The high number of outliers suggests either an active attack period or loose baseline parameters\\n\\nThe concentration of outliers in destination ports, packet sizes, and byte volumes, combined with IP spoofing indicators, strongly suggests this dataset captures either a security incident or a network under active reconnaissance/attack.' additional_kwargs={'refusal': None} response_metadata={'token_usage': {'completion_tokens': 769, 'prompt_tokens': 4503, 'total_tokens': 5272, 'completion_tokens_details': None, 'prompt_tokens_details': None}, 'model_name': 'anthropic/claude-sonnet-4', 'system_fingerprint': None, 'id': 'gen-1754539574-1FHLuWJbpieuWJOwODMI', 'service_tier': None, 'finish_reason': 'stop', 'logprobs': None} id='run--84357d61-8385-4b59-bec5-6b35e676e664-0' usage_metadata={'input_tokens': 4503, 'output_tokens': 769, 'total_tokens': 5272, 'input_token_details': {}, 'output_token_details': {}}\n",
      "\n",
      "Time Taken: 17.51 seconds\n",
      "\n",
      "Running analysis with Gemini-2.5-Flash...\n",
      "\n",
      "Gemini-2.5-Flash Response:\n",
      "content='The provided data shows outlier scores calculated using the Z-score method for various features of a network dataset. Let\\'s analyze the findings and draw logical conclusions:\\n\\n**Summary of Outlier Findings:**\\n\\n*   **Empty DataFrames (No Outliers Detected):**\\n    *   Timestamp\\n    *   Source Port\\n    *   Protocol\\n    *   src_ip_total_bytes\\n    *   Numeric Destination IP\\n    *   dst_port_freq_encoded\\n    *   Interarrival\\n\\n*   **Non-Empty DataFrames (Outliers Detected):**\\n    *   Destination Port (2211 rows)\\n    *   Packet Length (1542 rows)\\n    *   dst_ip_total_bytes (4090 rows)\\n    *   Numeric Source IP (27 rows)\\n\\n**Logical Conclusions and Trends:**\\n\\n1.  **Stability in Core Network Characteristics (No Outliers):**\\n    *   **Timestamp & Interarrival:** The absence of outliers in `Timestamp` and `Interarrival` suggests a relatively consistent and predictable flow of data over time. There are no sudden, extreme bursts or prolonged silences in packet arrivals that would stand out dramatically. This indicates a stable network environment without significant temporal anomalies.\\n    *   **Source Port & Protocol:** The lack of outliers in `Source Port` and `Protocol` implies that the types of services originating connections and the communication protocols used are largely within expected ranges. There are no highly unusual or rare source ports or protocols appearing with significant Z-scores. This is a good sign for network health, as unusual ports or protocols can sometimes indicate malicious activity or misconfigurations.\\n    *   **`src_ip_total_bytes` & `dst_port_freq_encoded`:** The absence of outliers in `src_ip_total_bytes` suggests that the total bytes sent by individual source IPs are not exhibiting extreme deviations. Similarly, `dst_port_freq_encoded` (which likely represents the frequency or popularity of destination ports) being free of outliers indicates that the distribution of traffic across destination ports is also stable and typical. No destination ports are suddenly receiving an overwhelmingly disproportionate amount of traffic.\\n    *   **Numeric Destination IP:** The absence of outliers in `Numeric Destination IP` suggests that the destination IPs being communicated with are generally within a common range or distribution. There are no highly unusual or isolated destination IPs that stand out in terms of their numerical value.\\n\\n2.  **Areas of Potential Anomaly/Interesting Observations (Outliers Present):**\\n\\n    *   **Destination Port (2211 outliers):**\\n        *   **Observation:** A significant number of outliers (2211 rows) are identified for `Destination Port`. The values show interesting patterns:\\n            *   **Common Outlier: 32100.0:** This port appears frequently across multiple outlier entries, often alongside `Source Port` 11570.0 and `Packet Length` 56, and `Protocol` 17. This strong recurring pattern suggests a specific application or service that might be generating unusual traffic patterns to this port.\\n            *   **Other Outliers:** Ports like `41219.0` (with `Source Port` 53.0 and `Packet Length` 74, `Protocol` 17) and `41313.0` (with `Source Port` 23.0 and `Packet Length` 34, `Protocol` 6) also appear.\\n        *   **Conclusion/Hypothesis:** The large number of outliers for `Destination Port` indicates that certain destination ports are experiencing traffic that deviates significantly from the norm.\\n            *   **Specific Service/Application:** The repeated occurrence of `Destination Port` 32100.0 is particularly noteworthy. This could be:\\n                *   A specialized or internal application that generates highly variable traffic.\\n                *   A service that is under stress or experiencing unusual usage.\\n                *   Potentially, a non-standard port used for legitimate, but highly active, communication (e.g., custom game servers, P2P applications, or specific enterprise software).\\n                *   In a security context, it could raise a flag for potential command-and-control (C2) traffic or data exfiltration if port 32100 is not a commonly used port in the network.\\n            *   **DNS (Port 53.0) with High Destination Port:** The presence of `Source Port` 53.0 (DNS) going to destination port `41219.0` is unusual. DNS typically uses destination port 53. This could indicate:\\n                *   DNS tunneling (malicious activity).\\n                *   A misconfigured DNS resolver.\\n                *   Internal DNS forwarding to a non-standard port.\\n\\n    *   **Packet Length (1542 outliers):**\\n        *   **Observation:** A considerable number of packets (1542 rows) have outlier `Packet Length` values.\\n            *   **Common Outlier: 166:** This packet length appears very frequently, often associated with `Source Port` 67.0, `Destination Port` 68.0, and `Protocol` 17. This strongly points to DHCP traffic.\\n            *   **Other Outliers: 145, 166:** Other packet lengths like 145 also appear.\\n        *   **Conclusion/Hypothesis:** The outliers in `Packet Length` are primarily driven by specific protocols/services that inherently have different packet size distributions than the majority of network traffic.\\n            *   **DHCP Activity:** The prevalence of `Packet Length` 166 with `Source Port` 67 and `Destination Port` 68 (DHCP client/server ports) indicates that DHCP packets, due to their fixed or characteristic sizes, are statistically standing out from the overall distribution of packet lengths. This is likely a normal, expected behavior for DHCP traffic and not necessarily an anomaly in itself, but it highlights that DHCP packets are distinct in size.\\n            *   **Other Fixed-Size Protocols:** Other protocols might also have characteristic packet lengths that register as outliers.\\n\\n    *   **`dst_ip_total_bytes` (4090 outliers):**\\n        *   **Observation:** This feature has the highest number of outliers (4090 rows).\\n            *   **Common Pattern:** Many entries show `Destination Port` 53.0 (DNS) or 23.0 (Telnet/SSH, though protocol 6 suggests TCP) with varying source ports and packet lengths. The `dst_ip_total_bytes` values are generally high (e.g., 1222232, 1222269, 1423128).\\n        *   **Conclusion/Hypothesis:** The large number of outliers in `dst_ip_total_bytes` suggests that certain destination IPs are receiving a significantly higher or lower total volume of bytes compared to the average.\\n            *   **High-Volume Destinations:** The frequent appearance of `Destination Port` 53 (DNS) with high `dst_ip_total_bytes` values indicates that the DNS servers (or specific DNS-related services) are handling a very large amount of inbound data. This is expected for critical infrastructure like DNS.\\n            *   **Active Services:** Other services, particularly those with high interaction (like Telnet/SSH if port 23 is indeed active for it), could also contribute to high byte counts.\\n            *   **Data Sinks:** These destination IPs could be acting as data sinks or central points for data aggregation, which naturally accumulate high byte totals.\\n            *   **Potential for DDoS/Flooding:** While often normal for infrastructure, an *unusual spike* in `dst_ip_total_bytes` for a non-critical or unexpected destination could indicate a denial-of-service (DoS) attack or a misconfigured application flooding a specific host.\\n\\n    *   **Numeric Source IP (27 outliers):**\\n        *   **Observation:** A small, but significant, number of outliers (27 rows) are identified for `Numeric Source IP`.\\n            *   **Common Pattern:** All these outliers have `Numeric Source IP` 0, `Source Port` 68.0, `Destination Port` 67.0, `Packet Length` 166, and `Protocol` 17. This is the exact inverse of the DHCP server/client communication pattern seen in `Packet Length` outliers.\\n        *   **Conclusion/Hypothesis:** The `Numeric Source IP` being 0 is highly unusual for a valid IP address (0.0.0.0 is used in specific contexts, but seeing it as a source IP for outbound traffic is rare without a specific reason).\\n            *   **DHCP Client Broadcasts (0.0.0.0):** This is a strong indicator of DHCP client broadcast packets, where a client initially uses 0.0.0.0 as its source IP before it obtains an address from the DHCP server (which would be at `Destination Port` 67).\\n            *   **Implication:** These are likely legitimate DHCP discovery packets. Their presence as outliers highlights that these specific packets, due to their unique source IP (0.0.0.0), stand out from the general traffic where source IPs are usually assigned and non-zero. It\\'s a \"normal\" anomaly in this context.\\n            *   **Misconfiguration/Scanning:** If not explained by DHCP, a source IP of 0.0.0.0 could sometimes be related to network misconfigurations or certain types of scanning attempts. However, given the other corresponding fields, DHCP is the most probable explanation here.\\n\\n**Interesting Observations that Stand Out:**\\n\\n1.  **The \"Normal Anomalies\" of DHCP:** Both `Packet Length` and `Numeric Source IP` outliers strongly point to DHCP traffic. The characteristic packet size (166 bytes) and the use of 0.0.0.0 as a source IP during initial client broadcasts make these packets statistically distinct from the rest of the network traffic. This is a great example of how an \"outlier\" can be a perfectly normal and expected part of network operation, simply reflecting the unique characteristics of a specific protocol.\\n\\n2.  **Highly Active/Unusual Destination Port (32100.0):** The recurring `Destination Port` 32100.0 as an outlier is the most intriguing. Unlike DHCP, which has well-known characteristics, port 32100 is not a standard, well-known port. Its frequent appearance in the `Destination Port` outliers suggests:\\n    *   A custom application.\\n    *   A P2P communication.\\n    *   Something potentially worth investigating further from a security perspective (e.g., non-standard C2, data exfiltration).\\n    *   The consistent `Source Port` 11570.0 and `Packet Length` 56, `Protocol` 17 further solidify the idea of a specific, possibly proprietary, communication pattern.\\n\\n3.  **High Volume to Common Services (DNS):** The `dst_ip_total_bytes` outliers highlight that high-volume services like DNS (port 53) are naturally receiving a large amount of data. While this is expected, it also means that any *unusual* increase for these services, or high volumes for *unexpected* services, would immediately flag as an outlier.\\n\\n**Overall Conclusions:**\\n\\n*   The network appears largely stable in terms of overall traffic flow (Timestamp, Interarrival), common protocol usage (Protocol), and typical source IP traffic volume (`src_ip_total_bytes`).\\n*   Outliers are primarily observed in:\\n    *   **Specific, characteristically different protocols:** DHCP packets inherently stand out due to their fixed size and initial source IP (0.0.0.0). These are \"expected outliers.\"\\n    *   **High-volume infrastructure services:** DNS servers naturally process a large volume of bytes, making them outliers in `dst_ip_total_bytes`. These are also \"expected outliers.\"\\n    *   **Potentially unusual or specialized applications/services:** The repeated appearance of `Destination Port` 32100.0 is the most significant \"unexpected outlier\" that warrants further investigation. It points to a distinct communication pattern that deviates from the norm, which could be benign (e.g., proprietary software) or malicious (e.g., C2 traffic).\\n\\n**Recommendations for Further Analysis:**\\n\\n*   **Investigate Destination Port 32100.0:**\\n    *   What application or service uses this port in the network?\\n    *   Are the source IPs communicating with this port known and authorized?\\n    *   Is the traffic volume to this port consistent or does it show unusual spikes?\\n*   **Contextualize DHCP Outliers:** Confirm that the DHCP-related outliers (Packet Length 166, Numeric Source IP 0) align with expected DHCP behavior on the network.\\n*   **Analyze High `dst_ip_total_bytes`:** For the IPs identified as outliers in `dst_ip_total_bytes`, confirm if they are indeed high-volume servers (like DNS) or if there are unexpected IPs receiving unusually large amounts of data.\\n\\nThis outlier analysis provides valuable insights into the network\\'s behavior, distinguishing between normal statistical deviations and truly anomalous patterns that might require deeper inspection.' additional_kwargs={'refusal': None} response_metadata={'token_usage': {'completion_tokens': 2877, 'prompt_tokens': 6695, 'total_tokens': 9572, 'completion_tokens_details': None, 'prompt_tokens_details': None}, 'model_name': 'google/gemini-2.5-flash', 'system_fingerprint': None, 'id': 'gen-1754539591-hwhMA9dJAgTw745z4MrA', 'service_tier': None, 'finish_reason': 'stop', 'logprobs': None} id='run--3f9c0036-28f7-451e-a95c-ba901d737a71-0' usage_metadata={'input_tokens': 6695, 'output_tokens': 2877, 'total_tokens': 9572, 'input_token_details': {}, 'output_token_details': {}}\n",
      "\n",
      "Time Taken: 20.3 seconds\n",
      "\n",
      "Running analysis with OpenAI-gpt-4o...\n",
      "\n",
      "OpenAI-gpt-4o Response:\n",
      "content=\"Based on the outlier scores calculated using the z-score for the dataset, we can make the following observations and conclusions:\\n\\n1. **No Outliers in Several Features**: \\n   - The features `Timestamp`, `Source Port`, `Protocol`, `src_ip_total_bytes`, `Numeric Destination IP`, `dst_port_freq_encoded`, and `Interarrival` all have no outliers. This indicates that the data points within these features fall within a normal range of values and are consistently distributed.\\n\\n2. **Outliers in `Destination Port`**:\\n   - There are 2,211 outliers detected for the `Destination Port`. This suggests that certain destination ports are either being used significantly more or less frequently than others, potentially indicating targeted scanning or attacks on specific ports.\\n\\n3. **Outliers in `Packet Length`**:\\n   - There are 1,542 outliers in `Packet Length`. This can indicate that there are a significant number of packets with unusual sizes, which might be associated with abnormal network behavior, such as data exfiltration or unusual application layer activities.\\n\\n4. **Outliers in `dst_ip_total_bytes`**:\\n   - A total of 4,090 outliers were found in `dst_ip_total_bytes`. This suggests that certain destination IPs are receiving a significantly higher or lower volume of data compared to others. This could be due to concentrated attacks, data dumps, or abnormal communication patterns.\\n\\n5. **Outliers in `Numeric Source IP`**:\\n   - There are 27 outliers in `Numeric Source IP`, all of which have a value of 0. This could suggest a unique scenario where these IPs are either reserved, used for specific testing, or represent a null or special case in the dataset.\\n\\n**Interesting Observations**:\\n- The concentration of outliers in `Destination Port`, `Packet Length`, and `dst_ip_total_bytes` could point towards potential network security incidents or anomalies, such as port scans, distributed denial of service (DDoS) attacks, or data leakage.\\n- The presence of a significant number of outliers with a `Numeric Source IP` of 0 might indicate a configuration issue or a specific test case scenario, which could require further investigation.\\n\\n**Conclusions**:\\n- The dataset exhibits some significant outliers in terms of network activity, particularly around `Destination Port`, `Packet Length`, and `dst_ip_total_bytes`. These outliers may warrant further investigation to ensure network security and efficiency.\\n- The presence of outliers with zero `Numeric Source IP` should be addressed to understand why these values exist and whether they impact the network's functionality or data integrity.\\n- Overall, the dataset shows patterns that could potentially indicate malicious activities or network misconfigurations, and further investigation into these anomalies is recommended.\" additional_kwargs={'refusal': None} response_metadata={'token_usage': {'completion_tokens': 565, 'prompt_tokens': 4598, 'total_tokens': 5163, 'completion_tokens_details': {'accepted_prediction_tokens': None, 'audio_tokens': None, 'reasoning_tokens': 0, 'rejected_prediction_tokens': None}, 'prompt_tokens_details': {'audio_tokens': None, 'cached_tokens': 0}}, 'model_name': 'openai/gpt-4o', 'system_fingerprint': 'fp_ff25b2783a', 'id': 'gen-1754539611-LYCJIPDcbPqnaL6st9hE', 'service_tier': None, 'finish_reason': 'stop', 'logprobs': None} id='run--97df4634-bd26-4efb-9b80-af4671a0dead-0' usage_metadata={'input_tokens': 4598, 'output_tokens': 565, 'total_tokens': 5163, 'input_token_details': {'cache_read': 0}, 'output_token_details': {'reasoning': 0}}\n",
      "\n",
      "Time Taken: 9.76 seconds\n",
      "\n"
     ]
    }
   ],
   "source": [
    "outliers_results = {}\n",
    "\n",
    "for model_name, model in models.items():\n",
    "    print(f\"Running analysis with {model_name}...\")\n",
    "\n",
    "    start_time = time.time()\n",
    "\n",
    "    # Create chain and execute\n",
    "    response = model.invoke(prompt_template.format(outliers=outliers))\n",
    "\n",
    "    end_time = time.time()\n",
    "\n",
    "    # Store results\n",
    "    outliers_results[model_name] = {\n",
    "        \"response\": response,\n",
    "        \"time_taken\": round(end_time - start_time, 2),\n",
    "    }\n",
    "\n",
    "    print(f\"\\n{model_name} Response:\\n{response}\\n\")\n",
    "    print(f\"Time Taken: {round(end_time - start_time, 2)} seconds\\n\")"
   ]
  },
  {
   "cell_type": "code",
   "execution_count": 57,
   "metadata": {},
   "outputs": [
    {
     "data": {
      "text/plain": [
       "'Below there is all the outliers scores calculated using zscore, for all the possible combinations of the features of the dataset. Extract logical conclusions based on the outliers. Do you find any interesting observations that stand out in the dataset based on the outlier calculations? What are your conclusions? \\n ** Outlier Scores ** Outlier scores for Timestamp are Empty DataFrame\\nColumns: [Timestamp, Source Port, Destination Port, Packet Length, Protocol, src_ip_total_bytes, dst_ip_total_bytes, Numeric Source IP, Numeric Destination IP, dst_port_freq_encoded, Interarrival]\\nIndex: []Outlier scores for Source Port are Empty DataFrame\\nColumns: [Timestamp, Source Port, Destination Port, Packet Length, Protocol, src_ip_total_bytes, dst_ip_total_bytes, Numeric Source IP, Numeric Destination IP, dst_port_freq_encoded, Interarrival]\\nIndex: []Outlier scores for Destination Port are            Timestamp  Source Port  Destination Port  Packet Length  Protocol  \\\\\\n342     1.540446e+09      11570.0           32100.0             56      17.0   \\n343     1.540446e+09      11570.0           32100.0             56      17.0   \\n344     1.540446e+09      11570.0           32100.0             56      17.0   \\n1433    1.540446e+09      11570.0           32100.0             56      17.0   \\n1434    1.540446e+09      11570.0           32100.0             56      17.0   \\n...              ...          ...               ...            ...       ...   \\n760829  1.540454e+09         53.0           41219.0             74      17.0   \\n761605  1.540454e+09         23.0           41313.0             34       6.0   \\n763632  1.540454e+09      11304.0           32100.0             56      17.0   \\n763633  1.540454e+09      11304.0           32100.0             56      17.0   \\n763634  1.540454e+09      11304.0           32100.0             56      17.0   \\n\\n        src_ip_total_bytes  dst_ip_total_bytes  Numeric Source IP  \\\\\\n342                     95                  56         3232236158   \\n343                    151                  56         3232236158   \\n344                    207                  56         3232236158   \\n1433                   419                 112         3232236158   \\n1434                   475                 112         3232236158   \\n...                    ...                 ...                ...   \\n760829              477333               18352         3232236033   \\n761605               42899              206395         3232236135   \\n763632               64446               12298         3232236158   \\n763633               64502               12354         3232236158   \\n763634               64558               12380         3232236158   \\n\\n        Numeric Destination IP  dst_port_freq_encoded  Interarrival  \\n342                 1883924104               0.004536      0.001070  \\n343                  916063514               0.004536      0.000023  \\n344                  915792051               0.004536      0.000101  \\n1433                1883924104               0.004536      0.063250  \\n1434                 916063514               0.004536      0.000120  \\n...                        ...                    ...           ...  \\n760829              3232236143               0.000006      0.002046  \\n761605              3232236142               0.000292      0.000406  \\n763632              1883924104               0.004536      0.000002  \\n763633               916063514               0.004536      0.000022  \\n763634               915792051               0.004536      0.000222  \\n\\n[2211 rows x 11 columns]Outlier scores for Packet Length are            Timestamp  Source Port  Destination Port  Packet Length  Protocol  \\\\\\n89      1.540446e+09      43537.0            1900.0            145      17.0   \\n581     1.540446e+09       1215.0            1900.0            166      17.0   \\n582     1.540446e+09       1215.0            1900.0            166      17.0   \\n583     1.540446e+09       1215.0            1900.0            166      17.0   \\n1012    1.540446e+09         67.0              68.0            166      17.0   \\n...              ...          ...               ...            ...       ...   \\n754911  1.540453e+09       1215.0            1900.0            166      17.0   \\n762373  1.540454e+09       1215.0            1900.0            166      17.0   \\n762374  1.540454e+09       1215.0            1900.0            166      17.0   \\n762375  1.540454e+09       1215.0            1900.0            166      17.0   \\n763551  1.540454e+09         67.0              68.0            166      17.0   \\n\\n        src_ip_total_bytes  dst_ip_total_bytes  Numeric Source IP  \\\\\\n89                     193                 145         3232236141   \\n581                   2000                 311         3232236147   \\n582                   2166                 477         3232236147   \\n583                   2332                 643         3232236147   \\n1012                  1791                 166         3232236033   \\n...                    ...                 ...                ...   \\n754911              879049              172626         3232236147   \\n762373              882467              172792         3232236147   \\n762374              882633              172958         3232236147   \\n762375              882799              173124         3232236147   \\n763551              478257               27058         3232236033   \\n\\n        Numeric Destination IP  dst_port_freq_encoded  Interarrival  \\n89                  4026531834               0.006827      0.026332  \\n581                 4026531834               0.006827      0.107952  \\n582                 4026531834               0.006827      0.000148  \\n583                 4026531834               0.006827      0.000002  \\n1012                4294967295               0.000883      0.034520  \\n...                        ...                    ...           ...  \\n754911              4026531834               0.006827      0.000095  \\n762373              4026531834               0.006827      0.292217  \\n762374              4026531834               0.006827      0.001491  \\n762375              4026531834               0.006827      0.000639  \\n763551              4294967295               0.000883      0.046482  \\n\\n[1542 rows x 11 columns]Outlier scores for Protocol are Empty DataFrame\\nColumns: [Timestamp, Source Port, Destination Port, Packet Length, Protocol, src_ip_total_bytes, dst_ip_total_bytes, Numeric Source IP, Numeric Destination IP, dst_port_freq_encoded, Interarrival]\\nIndex: []Outlier scores for src_ip_total_bytes are Empty DataFrame\\nColumns: [Timestamp, Source Port, Destination Port, Packet Length, Protocol, src_ip_total_bytes, dst_ip_total_bytes, Numeric Source IP, Numeric Destination IP, dst_port_freq_encoded, Interarrival]\\nIndex: []Outlier scores for dst_ip_total_bytes are            Timestamp  Source Port  Destination Port  Packet Length  Protocol  \\\\\\n529411  1.540453e+09       2891.0              53.0             83      17.0   \\n529413  1.540453e+09      44436.0              53.0             37      17.0   \\n529415  1.540453e+09       2891.0              53.0             50      17.0   \\n529416  1.540453e+09      34169.0              53.0             49      17.0   \\n529571  1.540453e+09      21897.0              23.0             26       6.0   \\n...              ...          ...               ...            ...       ...   \\n763753  1.540454e+09      21897.0              23.0             26       6.0   \\n763972  1.540454e+09       3568.0              53.0             83      17.0   \\n763977  1.540454e+09       3569.0              53.0             50      17.0   \\n764108  1.540454e+09      59322.0              53.0             49      17.0   \\n764136  1.540454e+09       3570.0              53.0             85      17.0   \\n\\n        src_ip_total_bytes  dst_ip_total_bytes  Numeric Source IP  \\\\\\n529411              765988             1222232         3232236147   \\n529413              420738             1222269         3232236142   \\n529415              766038             1222319         3232236147   \\n529416              420787             1222368         3232236142   \\n529571              420813             1222394         3232236142   \\n...                    ...                 ...                ...   \\n763753              548232             1423128         3232236142   \\n763972              883483             1423211         3232236147   \\n763977              883533             1423261         3232236147   \\n764108              548385             1423310         3232236142   \\n764136              883618             1423395         3232236147   \\n\\n        Numeric Destination IP  dst_port_freq_encoded  Interarrival  \\n529411              3232236033               0.216419      0.027723  \\n529413              3232236033               0.216419      0.039206  \\n529415              3232236033               0.216419      0.013436  \\n529416              3232236033               0.216419      0.032984  \\n529571              3232236033               0.061432      0.232446  \\n...                        ...                    ...           ...  \\n763753              3232236033               0.061432      0.023646  \\n763972              3232236033               0.216419      0.131124  \\n763977              3232236033               0.216419      0.002171  \\n764108              3232236033               0.216419     -0.000182  \\n764136              3232236033               0.216419      0.085632  \\n\\n[4090 rows x 11 columns]Outlier scores for Numeric Source IP are            Timestamp  Source Port  Destination Port  Packet Length  Protocol  \\\\\\n5745    1.540447e+09         68.0              67.0            166      17.0   \\n5776    1.540447e+09         68.0              67.0            166      17.0   \\n6681    1.540447e+09         68.0              67.0            166      17.0   \\n6740    1.540447e+09         68.0              67.0            166      17.0   \\n6758    1.540447e+09         68.0              67.0            166      17.0   \\n6847    1.540447e+09         68.0              67.0            166      17.0   \\n7167    1.540447e+09         68.0              67.0            166      17.0   \\n7194    1.540447e+09         68.0              67.0            166      17.0   \\n7275    1.540447e+09         68.0              67.0            166      17.0   \\n7308    1.540447e+09         68.0              67.0            166      17.0   \\n25470   1.540447e+09         68.0              67.0            166      17.0   \\n61085   1.540449e+09         68.0              67.0            166      17.0   \\n61108   1.540449e+09         68.0              67.0            166      17.0   \\n73266   1.540449e+09         68.0              67.0            166      17.0   \\n73322   1.540449e+09         68.0              67.0            166      17.0   \\n73390   1.540449e+09         68.0              67.0            166      17.0   \\n73427   1.540449e+09         68.0              67.0            166      17.0   \\n74015   1.540449e+09         68.0              67.0            166      17.0   \\n74071   1.540449e+09         68.0              67.0            166      17.0   \\n74574   1.540449e+09         68.0              67.0            166      17.0   \\n74628   1.540449e+09         68.0              67.0            166      17.0   \\n74676   1.540449e+09         68.0              67.0            166      17.0   \\n74719   1.540449e+09         68.0              67.0            166      17.0   \\n116692  1.540451e+09         68.0              67.0            166      17.0   \\n116726  1.540451e+09         68.0              67.0            166      17.0   \\n564815  1.540453e+09         68.0              67.0            166      17.0   \\n564818  1.540453e+09         68.0              67.0            166      17.0   \\n\\n        src_ip_total_bytes  dst_ip_total_bytes  Numeric Source IP  \\\\\\n5745                   166                 664                  0   \\n5776                   332                 996                  0   \\n6681                   498                1494                  0   \\n6740                   664                1826                  0   \\n6758                   830                2158                  0   \\n6847                   996                2490                  0   \\n7167                  1162                2822                  0   \\n7194                  1328                2988                  0   \\n7275                  1494                3154                  0   \\n7308                  1660                3652                  0   \\n25470                 1826                5644                  0   \\n61085                 1992                9462                  0   \\n61108                 2158                9794                  0   \\n73266                 2324               11288                  0   \\n73322                 2490               11454                  0   \\n73390                 2656               11620                  0   \\n73427                 2822               12118                  0   \\n74015                 2988               12450                  0   \\n74071                 3154               12782                  0   \\n74574                 3320               13280                  0   \\n74628                 3486               13446                  0   \\n74676                 3652               13612                  0   \\n74719                 3818               14110                  0   \\n116692                3984               18426                  0   \\n116726                4150               18758                  0   \\n564815                4316               24402                  0   \\n564818                4482               24734                  0   \\n\\n        Numeric Destination IP  dst_port_freq_encoded  Interarrival  \\n5745                4294967295               0.000175      0.008666  \\n5776                4294967295               0.000175      0.108121  \\n6681                4294967295               0.000175      0.011950  \\n6740                4294967295               0.000175      0.043146  \\n6758                4294967295               0.000175      0.089158  \\n6847                4294967295               0.000175      0.090848  \\n7167                4294967295               0.000175      0.009986  \\n7194                4294967295               0.000175      0.201476  \\n7275                4294967295               0.000175      0.040950  \\n7308                4294967295               0.000175      0.078559  \\n25470               4294967295               0.000175      0.002239  \\n61085               4294967295               0.000175      0.173285  \\n61108               4294967295               0.000175      0.050865  \\n73266               4294967295               0.000175      0.034279  \\n73322               4294967295               0.000175      0.011792  \\n73390               4294967295               0.000175      0.164331  \\n73427               4294967295               0.000175      0.143492  \\n74015               4294967295               0.000175      0.257282  \\n74071               4294967295               0.000175      0.049016  \\n74574               4294967295               0.000175      0.071433  \\n74628               4294967295               0.000175      0.072426  \\n74676               4294967295               0.000175      0.071407  \\n74719               4294967295               0.000175      0.146783  \\n116692              4294967295               0.000175      0.024947  \\n116726              4294967295               0.000175      0.018460  \\n564815              4294967295               0.000175      0.044347  \\n564818              4294967295               0.000175      0.015846  Outlier scores for Numeric Destination IP are Empty DataFrame\\nColumns: [Timestamp, Source Port, Destination Port, Packet Length, Protocol, src_ip_total_bytes, dst_ip_total_bytes, Numeric Source IP, Numeric Destination IP, dst_port_freq_encoded, Interarrival]\\nIndex: []Outlier scores for dst_port_freq_encoded are Empty DataFrame\\nColumns: [Timestamp, Source Port, Destination Port, Packet Length, Protocol, src_ip_total_bytes, dst_ip_total_bytes, Numeric Source IP, Numeric Destination IP, dst_port_freq_encoded, Interarrival]\\nIndex: []Outlier scores for Interarrival are Empty DataFrame\\nColumns: [Timestamp, Source Port, Destination Port, Packet Length, Protocol, src_ip_total_bytes, dst_ip_total_bytes, Numeric Source IP, Numeric Destination IP, dst_port_freq_encoded, Interarrival]\\nIndex: []'"
      ]
     },
     "execution_count": 57,
     "metadata": {},
     "output_type": "execute_result"
    }
   ],
   "source": [
    "outliers"
   ]
  },
  {
   "cell_type": "markdown",
   "metadata": {},
   "source": [
    "## Visualizations"
   ]
  },
  {
   "cell_type": "code",
   "execution_count": 58,
   "metadata": {},
   "outputs": [],
   "source": [
    "eda_summary = summarize_dataset(malicious_df)    \n",
    "prompt_template = PromptTemplate(\n",
    "    input_variables=[\"eda_summary\"],\n",
    "    template=\"\"\" Given the following dataset summary statistics: \n",
    "    ### Summary statistics\n",
    "    {eda_summary}\n",
    "    Generate a Python script using Matplotlib and Seaborn to visualize:\n",
    "    1. A time series plot of value over time,\n",
    "    2. Highlight anomalies in the dataset,\n",
    "    3. Suggest interesting trends\n",
    "    \"\"\",\n",
    ")"
   ]
  },
  {
   "cell_type": "code",
   "execution_count": 59,
   "metadata": {},
   "outputs": [
    {
     "name": "stdout",
     "output_type": "stream",
     "text": [
      "Running analysis with Claude-Sonnet-4...\n",
      "\n",
      "Claude-Sonnet-4 Response:\n",
      "content='Based on the analysis of this network packet capture dataset, I can identify several anomalies and patterns that suggest potential security threats. Let me break down my findings and provide a comprehensive visualization script.\\n\\n## Anomaly Analysis\\n\\n### 1. **Protocol Distribution Anomaly**\\n- Only 2 protocols present: TCP (6) at 33.2% and UDP (17) at 66.8%\\n- This is unusual for enterprise networks which typically show more protocol diversity\\n- High UDP traffic could indicate DNS tunneling or DDoS attacks\\n\\n### 2. **Port Usage Patterns**\\n- Limited source IP diversity (only 22 distinct IPs) but high port variation (22,952 distinct source ports)\\n- This suggests potential port scanning or botnet activity from a small set of compromised hosts\\n\\n### 3. **Payload Anomalies**\\n- High frequency of \"Raw\" and \"Padding\" payloads (60.5% combined)\\n- Excessive DNS queries for specific domains (Samsung, Broadlink, Baidu)\\n- This pattern suggests potential DNS tunneling or C&C communication\\n\\n### 4. **Traffic Volume Anomalies**\\n- Large variation in cumulative bytes (src: up to 2.2MB, dst: up to 1.4MB)\\n- Suggests potential data exfiltration or unusual bulk transfers\\n\\nHere\\'s a comprehensive Python script to visualize these anomalies:\\n\\n```python\\nimport pandas as pd\\nimport matplotlib.pyplot as plt\\nimport seaborn as sns\\nimport numpy as np\\nfrom datetime import datetime\\nimport warnings\\nwarnings.filterwarnings(\\'ignore\\')\\n\\n# Set style for better visualizations\\nplt.style.use(\\'seaborn-v0_8\\')\\nsns.set_palette(\"husl\")\\n\\n# Create figure with subplots\\nfig = plt.figure(figsize=(20, 24))\\n\\n# Assuming the data is loaded as \\'df\\'\\n# df = pd.read_csv(\\'your_data.csv\\')\\n\\n# Convert timestamp to datetime\\ndf[\\'datetime\\'] = pd.to_datetime(df[\\'Timestamp\\'], unit=\\'s\\')\\n\\n# 1. Time Series Analysis of Packet Flow\\nplt.subplot(6, 2, 1)\\n# Aggregate packets per minute\\ndf_time = df.set_index(\\'datetime\\').resample(\\'1T\\').size()\\nplt.plot(df_time.index, df_time.values, linewidth=1, alpha=0.8)\\nplt.title(\\'Packet Flow Over Time (per minute)\\', fontsize=14, fontweight=\\'bold\\')\\nplt.xlabel(\\'Time\\')\\nplt.ylabel(\\'Packets per Minute\\')\\nplt.xticks(rotation=45)\\n\\n# Highlight anomalous periods (high traffic bursts)\\nthreshold = df_time.quantile(0.95)\\nanomalous_periods = df_time[df_time > threshold]\\nplt.scatter(anomalous_periods.index, anomalous_periods.values, \\n           color=\\'red\\', s=50, alpha=0.7, label=f\\'Anomalies (>{threshold:.0f} packets/min)\\')\\nplt.legend()\\n\\n# 2. Protocol Distribution Analysis\\nplt.subplot(6, 2, 2)\\nprotocol_counts = df[\\'Protocol\\'].value_counts()\\nprotocol_labels = [\\'TCP (6)\\', \\'UDP (17)\\']\\ncolors = [\\'#ff9999\\', \\'#66b3ff\\']\\nplt.pie(protocol_counts.values, labels=protocol_labels, autopct=\\'%1.1f%%\\', \\n        colors=colors, startangle=90)\\nplt.title(\\'Protocol Distribution\\\\n(Anomaly: Limited Protocol Diversity)\\', \\n          fontsize=14, fontweight=\\'bold\\')\\n\\n# 3. Source IP Activity Heatmap\\nplt.subplot(6, 2, 3)\\n# Convert numeric IP to readable format (simplified)\\ndf[\\'src_ip_group\\'] = df[\\'Numeric Source IP\\'].astype(str).str[-3:]\\nip_time_matrix = df.groupby([df[\\'datetime\\'].dt.hour, \\'src_ip_group\\']).size().unstack(fill_value=0)\\nsns.heatmap(ip_time_matrix, cmap=\\'YlOrRd\\', cbar_kws={\\'label\\': \\'Packet Count\\'})\\nplt.title(\\'Source IP Activity by Hour\\\\n(Anomaly: Concentrated Activity)\\', \\n          fontsize=14, fontweight=\\'bold\\')\\nplt.xlabel(\\'Source IP (Last 3 digits)\\')\\nplt.ylabel(\\'Hour of Day\\')\\n\\n# 4. Packet Size Distribution with Anomalies\\nplt.subplot(6, 2, 4)\\nplt.hist(df[\\'Packet Length\\'], bins=50, alpha=0.7, color=\\'skyblue\\', edgecolor=\\'black\\')\\nplt.axvline(df[\\'Packet Length\\'].mean(), color=\\'red\\', linestyle=\\'--\\', \\n           label=f\\'Mean: {df[\"Packet Length\"].mean():.1f}\\')\\nplt.axvline(df[\\'Packet Length\\'].quantile(0.95), color=\\'orange\\', linestyle=\\'--\\', \\n           label=f\\'95th percentile: {df[\"Packet Length\"].quantile(0.95):.1f}\\')\\nplt.title(\\'Packet Length Distribution\\\\n(Anomaly: Size Clustering)\\', \\n          fontsize=14, fontweight=\\'bold\\')\\nplt.xlabel(\\'Packet Length (bytes)\\')\\nplt.ylabel(\\'Frequency\\')\\nplt.legend()\\n\\n# 5. Port Scanning Detection\\nplt.subplot(6, 2, 5)\\nport_diversity = df.groupby(\\'Numeric Source IP\\')[\\'Destination Port\\'].nunique().sort_values(ascending=False)\\ntop_scanners = port_diversity.head(10)\\nplt.bar(range(len(top_scanners)), top_scanners.values, color=\\'coral\\')\\nplt.title(\\'Potential Port Scanning Activity\\\\n(Anomaly: High Port Diversity per IP)\\', \\n          fontsize=14, fontweight=\\'bold\\')\\nplt.xlabel(\\'Source IP (Top 10)\\')\\nplt.ylabel(\\'Unique Destination Ports\\')\\nplt.xticks(range(len(top_scanners)), [f\\'IP_{i+1}\\' for i in range(len(top_scanners))])\\n\\n# 6. DNS Query Analysis\\nplt.subplot(6, 2, 6)\\npayload_counts = df[\\'Payload\\'].value_counts().head(10)\\nplt.barh(range(len(payload_counts)), payload_counts.values, color=\\'lightgreen\\')\\nplt.title(\\'Top Payload Types\\\\n(Anomaly: Suspicious DNS Patterns)\\', \\n          fontsize=14, fontweight=\\'bold\\')\\nplt.xlabel(\\'Frequency\\')\\nplt.yticks(range(len(payload_counts)), \\n          [label[:30] + \\'...\\' if len(label) > 30 else label for label in payload_counts.index])\\n\\n# 7. Data Transfer Anomalies\\nplt.subplot(6, 2, 7)\\nplt.scatter(df[\\'src_ip_total_bytes\\'], df[\\'dst_ip_total_bytes\\'], \\n           alpha=0.6, s=20, c=df[\\'Protocol\\'], cmap=\\'viridis\\')\\nplt.xlabel(\\'Source IP Total Bytes\\')\\nplt.ylabel(\\'Destination IP Total Bytes\\')\\nplt.title(\\'Data Transfer Patterns\\\\n(Anomaly: Bulk Data Movements)\\', \\n          fontsize=14, fontweight=\\'bold\\')\\nplt.colorbar(label=\\'Protocol\\')\\nplt.xscale(\\'log\\')\\nplt.yscale(\\'log\\')\\n\\n# 8. Interarrival Time Analysis\\nplt.subplot(6, 2, 8)\\n# Remove NaN values and extreme outliers for better visualization\\ninterarrival_clean = df[\\'Interarrival\\'].dropna()\\ninterarrival_clean = interarrival_clean[interarrival_clean < interarrival_clean.quantile(0.99)]\\nplt.hist(interarrival_clean, bins=50, alpha=0.7, color=\\'purple\\', edgecolor=\\'black\\')\\nplt.xlabel(\\'Interarrival Time (seconds)\\')\\nplt.ylabel(\\'Frequency\\')\\nplt.title(\\'Packet Interarrival Times\\\\n(Anomaly: Timing Patterns)\\', \\n          fontsize=14, fontweight=\\'bold\\')\\nplt.yscale(\\'log\\')\\n\\n# 9. Destination Port Frequency Analysis\\nplt.subplot(6, 2, 9)\\ntop_ports = df[\\'Destination Port\\'].value_counts().head(15)\\nplt.bar(range(len(top_ports)), top_ports.values, color=\\'orange\\', alpha=0.8)\\nplt.title(\\'Most Targeted Destination Ports\\\\n(Anomaly: Port Concentration)\\', \\n          fontsize=14, fontweight=\\'bold\\')\\nplt.xlabel(\\'Destination Ports\\')\\nplt.ylabel(\\'Frequency\\')\\nplt.xticks(range(len(top_ports)), top_ports.index.astype(int), rotation=45)\\n\\n# 10. Temporal Attack Pattern\\nplt.subplot(6, 2, 10)\\nhourly_activity = df.groupby(df[\\'datetime\\'].dt.hour).size()\\nplt.plot(hourly_activity.index, hourly_activity.values, marker=\\'o\\', linewidth=2, markersize=8)\\nplt.fill_between(hourly_activity.index, hourly_activity.values, alpha=0.3)\\nplt.title(\\'Hourly Activity Pattern\\\\n(Anomaly: Off-hours Activity)\\', \\n          fontsize=14, fontweight=\\'bold\\')\\nplt.xlabel(\\'Hour of Day\\')\\nplt.ylabel(\\'Packet Count\\')\\nplt.grid(True, alpha=0.3)\\n\\n# 11. Advanced Anomaly Detection - Statistical Outliers\\nplt.subplot(6, 2, 11)\\n# Calculate Z-scores for packet lengths\\nz_scores = np.abs((df[\\'Packet Length\\'] - df[\\'Packet Length\\'].mean()) / df[\\'Packet Length\\'].std())\\noutliers = df[z_scores > 2.5]\\n\\nplt.scatter(df.index, df[\\'Packet Length\\'], alpha=0.6, s=10, label=\\'Normal\\', color=\\'blue\\')\\nplt.scatter(outliers.index, outliers[\\'Packet Length\\'], color=\\'red\\', s=20, \\n           label=f\\'Outliers (n={len(outliers)})\\', alpha=0.8)\\nplt.title(\\'Statistical Anomalies in Packet Sizes\\\\n(Z-score > 2.5)\\', \\n          fontsize=14, fontweight=\\'bold\\')\\nplt.xlabel(\\'Packet Index\\')\\nplt.ylabel(\\'Packet Length\\')\\nplt.legend()\\n\\n# 12. Network Flow Correlation Matrix\\nplt.subplot(6, 2, 12)\\ncorrelation_features = [\\'Source Port\\', \\'Destination Port\\', \\'Packet Length\\', \\n                       \\'src_ip_total_bytes\\', \\'dst_ip_total_bytes\\', \\'Interarrival\\']\\ncorr_matrix = df[correlation_features].corr()\\nsns.heatmap(corr_matrix, annot=True, cmap=\\'coolwarm\\', center=0, \\n           square=True, cbar_kws={\\'label\\': \\'Correlation Coefficient\\'})\\nplt.title(\\'Feature Correlation Matrix\\\\n(Anomaly: Unusual Correlations)\\', \\n          fontsize=14, fontweight=\\'bold\\')\\n\\nplt.tight_layout(pad=3.0)\\nplt.show()\\n\\n# Summary Statistics and Anomaly Report\\nprint(\"=\"*80)\\nprint(\"NETWORK SECURITY ANOMALY ANALYSIS REPORT\")\\nprint(\"=\"*80)\\n\\nprint(f\"\\\\n📊 DATASET OVERVIEW:\")\\nprint(f\"   • Total Packets: {len(df):,}\")\\nprint(f\"   • Time Span: {df[\\'datetime\\'].min()} to {df[\\'datetime\\'].max()}\")\\nprint(f\"   • Unique Source IPs: {df[\\'Numeric Source IP\\'].nunique()}\")\\nprint(f\"   • Unique Destination IPs: {df[\\'Numeric Destination IP\\'].nunique()}\")\\n\\nprint(f\"\\\\n🚨 IDENTIFIED ANOMALIES:\")\\nprint(f\"   • Protocol Limitation: Only 2 protocols (TCP: {(df[\\'Protocol\\']==6).sum():,}, UDP: {(df[\\'Protocol\\']==17).sum():,})\")\\nprint(f\"   • Port Scanning: Max {port_diversity.max()} unique destination ports from single IP\")\\nprint(f\"   • Suspicious Payloads: {(df[\\'Payload\\'].str.contains(\\'DNS\\', na=False)).sum():,} DNS-related packets\")\\nprint(f\"   • Large Transfers: {(df[\\'src_ip_total_bytes\\'] > df[\\'src_ip_total_bytes\\'].quantile(0.95)).sum():,} packets with high byte counts\")\\n\\nprint(f\"\\\\n🔍 SECURITY IMPLICATIONS:\")\\nprint(f\"   • Potential DNS Tunneling: High volume of DNS queries to specific domains\")\\nprint(f\"   • Possible Port Scanning: Limited source IPs with high port diversity\")\\nprint(f\"   • Data Exfiltration Risk: Large data transfers detected\")\\nprint(f\"   • Botnet Activity: Coordinated traffic patterns from few source IPs\")\\n\\nprint(f\"\\\\n💡 RECOMMENDATIONS:\")\\nprint(f\"   • Investigate DNS query patterns for tunneling\")\\nprint(f\"   • Monitor source IPs with high port diversity\")\\nprint(f\"   • Analyze payload content for malicious signatures\")\\nprint(f\"   • Implement rate limiting for suspicious IPs\")\\nprint(\"=\"*80)\\n```\\n\\n## Key Findings and Security Implications:\\n\\n### **Detected Attack Patterns:**\\n\\n1. **DNS Tunneling**: High volume of DNS queries to specific domains (Samsung, Broadlink, Baidu)\\n2. **Port Scanning**: Limited source IPs accessing many different destination ports\\n3. **Potential Botnet Activity**: Coordinated traffic from few source IPs\\n4. **Data Exfiltration**: Large cumulative byte transfers suggesting bulk data movement\\n\\n### **Trending Patterns:**\\n\\n1. **Temporal Clustering**: Traffic concentrated in specific time windows\\n2. **Protocol Bias**: Unusual UDP dominance (66.8% vs typical 20-30%)\\n3. **IP Concentration**: 22 source IPs generating 154K packets indicates automated activity\\n4. **Payload Anomalies**: High \"Raw\" and \"Padding\" content suggests obfuscation attempts\\n\\nThis analysis suggests the network has been compromised and is experiencing multiple concurrent attacks including reconnaissance, data exfiltration, and potentially command-and-control communications.' additional_kwargs={'refusal': None} response_metadata={'token_usage': {'completion_tokens': 3481, 'prompt_tokens': 17256, 'total_tokens': 20737, 'completion_tokens_details': None, 'prompt_tokens_details': None}, 'model_name': 'anthropic/claude-sonnet-4', 'system_fingerprint': None, 'id': 'gen-1754539679-EEEVuIsCb0LlIpj3W3FS', 'service_tier': None, 'finish_reason': 'stop', 'logprobs': None} id='run--6a612450-d210-4fc0-ba95-f0d3daf43323-0' usage_metadata={'input_tokens': 17256, 'output_tokens': 3481, 'total_tokens': 20737, 'input_token_details': {}, 'output_token_details': {}}\n",
      "\n",
      "Time Taken: 51.96 seconds\n",
      "\n",
      "Running analysis with Gemini-2.5-Flash...\n",
      "\n",
      "Gemini-2.5-Flash Response:\n",
      "content='The dataset represents a network packet capture, which is a time-series dataset. Each row corresponds to a single network packet with detailed information such as Timestamp, Source Port, Destination Port, Packet Length, Protocol, and IP-related byte counts. The `Interarrival` column likely represents the time difference between consecutive packets.\\n\\n### Anomalies and Justification:\\n\\nBased on the provided summary statistics and the nature of network traffic in an enterprise setting, here are some observations and potential anomalies:\\n\\n1.  **`Interarrival` Minimum Value:**\\n    *   **Observation:** The `Interarrival` column has a minimum value of `-0.000269`.\\n    *   **Justification for Anomaly:** Interarrival time should always be non-negative, as it represents the time elapsed between two consecutive events. A negative value indicates a data error or a highly unusual system clock synchronization issue. In the context of network packet captures, it\\'s highly improbable for a packet to arrive before the previous one was recorded in a sequential capture. This is a clear data quality anomaly.\\n\\n2.  **`Source Port` Minimum Value:**\\n    *   **Observation:** The `Source Port` has a minimum value of `0.0`.\\n    *   **Justification for Anomaly:** While destination port 0 is reserved, source ports are typically dynamic and assigned by the operating system, usually within the ephemeral port range (often 1024-65535, though some systems use 49152-65535). A source port of 0 is invalid and highly unusual. This could indicate malformed packets, a misconfigured device, or a potential attack attempt (e.g., a port scan using invalid source ports to evade detection or confuse firewalls).\\n\\n3.  **`Timestamp` Range and Distribution (Potential for Burst Traffic/DDoS):**\\n    *   **Observation:** The `Timestamp` has a mean of `1.540450e+09` and a standard deviation of `2.080248e+03`. The `Interarrival` mean is `0.046317` with a standard deviation of `0.091788`. The maximum interarrival time is `1.176720` seconds.\\n    *   **Justification for Potential Anomaly/Trend:** While not a direct anomaly like a negative interarrival, the combination of relatively small interarrival times (mean ~46ms) and a large number of rows (154,090) within a relatively short timestamp range (implied by the min/max timestamps, which are close) could suggest periods of very high traffic volume or bursts. If there are periods of extremely low interarrival times (approaching zero for a significant number of consecutive packets), it could indicate a Denial of Service (DoS) or Distributed Denial of Service (DDoS) attack, where a large volume of packets is sent in a short period to overwhelm a target. Visualizing the `Interarrival` distribution and the `Timestamp` over time will be crucial here.\\n\\n4.  **`Protocol` Distribution (Dominance of TCP and UDP):**\\n    *   **Observation:** The `Protocol` column shows `17.0` (UDP) taking 66.8% and `6.0` (TCP) taking 33.2%.\\n    *   **Justification for Anomaly/Trend:** This is not an anomaly in itself, as TCP and UDP are the most common network protocols. However, a sudden shift in this distribution, or an unusually high proportion of one over the other for specific types of traffic (e.g., an overwhelming amount of UDP traffic to a single destination port that typically uses TCP), could be indicative of an attack. For instance, a UDP flood attack would dramatically increase the proportion of UDP traffic.\\n\\n5.  **`Packet Length` Distribution (Potential for Malformed Packets or Specific Attacks):**\\n    *   **Observation:** The `Packet Length` has a minimum of `20.0` and a maximum of `166.0`. The mean is `45.3` and the median is `48.0`.\\n    *   **Justification for Potential Anomaly/Trend:** Extremely small packets (e.g., minimum 20, which is the minimum TCP/IP header size) or unusually large packets (approaching the maximum transmission unit, MTU, or very small in comparison to typical application data) can sometimes be indicative of network attacks. For example, a \"ping of death\" attack involves sending oversized ICMP packets. An unusually high frequency of minimum-sized packets could be a form of port scanning or a SYN flood (for TCP).\\n\\n6.  **`Payload` Content (DNS Queries):**\\n    *   **Observation:** The `Payload` column shows frequent DNS queries for specific domains like `xmpp.samsungsmartca`, `10024backup.broadli`, `10024main.broadlink`, `www.baidu.com`, and `authentication.eye4`.\\n    *   **Justification for Potential Anomaly/Trend:** While not an anomaly in the numerical sense, the content of `Payload` can reveal interesting trends or suspicious activity.\\n        *   **High frequency of specific DNS queries:** If there\\'s an unusually high rate of DNS queries for certain domains, especially those that are uncommon or known to be associated with malware command-and-control (C2) servers, it could indicate malware activity or data exfiltration attempts.\\n        *   **DNS tunneling:** If the `Payload` often contains \"Raw\" or \"Padding\" but is associated with DNS traffic, it could be a sign of DNS tunneling, where data is exfiltrated by encoding it within DNS queries or responses.\\n        *   **Unauthorized access attempts:** Repeated DNS queries to authentication servers (e.g., `authentication.eye4`) from unusual source IPs or at unusual times could indicate brute-force attempts.\\n\\n### Visualization Script:\\n\\n```python\\nimport pandas as pd\\nimport matplotlib.pyplot as plt\\nimport seaborn as sns\\nimport numpy as np\\n\\n# Recreate a sample DataFrame based on the provided data for demonstration\\n# In a real scenario, you would load your data from a CSV or other format.\\ndata = {\\n    \\'Timestamp\\': [1.540446e+09, 1.540446e+09, 1.540446e+09, 1.540446e+09, 1.540446e+09,\\n                  1.540446e+09, 1.540446e+09, 1.540446e+09, 1.540446e+09, 1.540446e+09],\\n    \\'Source Port\\': [21074.0, 20532.0, 2440.0, 53.0, 21074.0, 52259.0, 47815.0, 59225.0, 48977.0, 50861.0],\\n    \\'Destination Port\\': [80.0, 8280.0, 53.0, 2440.0, 80.0, 443.0, 80.0, 8000.0, 80.0, 10240.0],\\n    \\'Packet Length\\': [26, 26, 83, 83, 26, 40, 40, 40, 40, 48],\\n    \\'Protocol\\': [6.0, 6.0, 17.0, 17.0, 6.0, 6.0, 6.0, 6.0, 6.0, 17.0],\\n    \\'src_ip_total_bytes\\': [26, 52, 83, 83, 78, 324, 364, 404, 444, 1968],\\n    \\'dst_ip_total_bytes\\': [26, 26, 83, 83, 52, 560, 560, 512, 40, 608],\\n    \\'Numeric Source IP\\': [3232236140, 3232236140, 3232236147, 3232236033, 3232236140, 3232236144, 3232236144, 3232236144, 3232236144, 3232236145],\\n    \\'Numeric Destination IP\\': [873999171, 874070778, 3232236033, 3232236147, 873999171, 840171142, 780778550, 1035740632, 1249714019, 840171142],\\n    \\'dst_port_freq_encoded\\': [0.114505, 0.040794, 0.216419, 0.000013, 0.114505, 0.019923, 0.114505, 0.019274, 0.114505, 0.406152],\\n    \\'Interarrival\\': [np.nan, 0.000005, 0.457747, 0.002058, 0.042112, 0.072561, 0.001163, 0.000084, 0.002445, 0.007766]\\n}\\n# Extend data to include negative interarrival and zero source port for demonstration\\ndata[\\'Interarrival\\'].extend([-0.000269, 0.001, 0.002, 0.05, 0.1, 0.00001, 0.00002, 0.00003, 0.00004, 0.00005])\\ndata[\\'Timestamp\\'].extend([1.540446e+09 + 0.001, 1.540446e+09 + 0.002, 1.540446e+09 + 0.003, 1.540446e+09 + 0.004, 1.540446e+09 + 0.005,\\n                          1.540446e+09 + 0.00501, 1.540446e+09 + 0.00502, 1.540446e+09 + 0.00503, 1.540446e+09 + 0.00504, 1.540446e+09 + 0.00505])\\ndata[\\'Source Port\\'].extend([0.0, 23456.0, 12345.0, 54321.0, 1024.0, 30000.0, 40000.0, 50000.0, 60000.0, 10000.0])\\ndata[\\'Destination Port\\'].extend([80.0, 443.0, 22.0, 21.0, 23.0, 8080.0, 9000.0, 10000.0, 11000.0, 12000.0])\\ndata[\\'Packet Length\\'].extend([26, 40, 60, 70, 80, 90, 100, 110, 120, 130])\\ndata[\\'Protocol\\'].extend([6.0, 6.0, 17.0, 6.0, 17.0, 6.0, 17.0, 6.0, 17.0, 6.0])\\ndata[\\'src_ip_total_bytes\\'].extend([26, 100, 150, 200, 250, 300, 350, 400, 450, 500])\\ndata[\\'dst_ip_total_bytes\\'].extend([26, 100, 150, 200, 250, 300, 350, 400, 450, 500])\\ndata[\\'Numeric Source IP\\'].extend([3232236140, 3232236141, 3232236142, 3232236143, 3232236144, 3232236145, 3232236146, 3232236147, 3232236148, 3232236149])\\ndata[\\'Numeric Destination IP\\'].extend([873999171, 873999172, 873999173, 873999174, 873999175, 873999176, 873999177, 873999178, 873999179, 873999180])\\ndata[\\'dst_port_freq_encoded\\'].extend([0.1, 0.05, 0.2, 0.15, 0.3, 0.25, 0.35, 0.08, 0.12, 0.18])\\n\\n# Ensure all lists have the same length for DataFrame creation\\nmin_len = min(len(v) for v in data.values())\\nfor k in data:\\n    data[k] = data[k][:min_len]\\n\\ndf = pd.DataFrame(data)\\n\\n# Convert Timestamp to datetime objects for better plotting\\ndf[\\'Timestamp_dt\\'] = pd.to_datetime(df[\\'Timestamp\\'], unit=\\'s\\')\\n\\n# --- Visualization ---\\n\\n# Set style for plots\\nsns.set_style(\"whitegrid\")\\nplt.figure(figsize=(18, 12))\\n\\n# 1. Time series plot of Interarrival over time\\nplt.subplot(3, 1, 1)\\nsns.lineplot(x=\\'Timestamp_dt\\', y=\\'Interarrival\\', data=df, marker=\\'o\\', markersize=4, linestyle=\\'-\\', linewidth=1)\\nplt.title(\\'Interarrival Time Over Time\\', fontsize=16)\\nplt.xlabel(\\'Time\\', fontsize=12)\\nplt.ylabel(\\'Interarrival Time (s)\\', fontsize=12)\\nplt.grid(True)\\n\\n# Highlight anomalies in Interarrival\\nanomalous_interarrival = df[df[\\'Interarrival\\'] < 0]\\nif not anomalous_interarrival.empty:\\n    plt.scatter(anomalous_interarrival[\\'Timestamp_dt\\'], anomalous_interarrival[\\'Interarrival\\'],\\n                color=\\'red\\', s=100, zorder=5, label=\\'Negative Interarrival (Anomaly)\\')\\n    print(f\"Detected {len(anomalous_interarrival)} negative interarrival times.\")\\nelse:\\n    print(\"No negative interarrival times detected in the sample.\")\\n\\nplt.legend()\\n\\n\\n# 2. Time series plot of Source Port over time, highlighting anomalies\\nplt.subplot(3, 1, 2)\\nsns.lineplot(x=\\'Timestamp_dt\\', y=\\'Source Port\\', data=df, marker=\\'o\\', markersize=4, linestyle=\\'-\\', linewidth=1, color=\\'green\\')\\nplt.title(\\'Source Port Usage Over Time\\', fontsize=16)\\nplt.xlabel(\\'Time\\', fontsize=12)\\nplt.ylabel(\\'Source Port\\', fontsize=12)\\nplt.grid(True)\\n\\n# Highlight anomalous Source Ports (e.g., port 0)\\nanomalous_source_port = df[df[\\'Source Port\\'] == 0]\\nif not anomalous_source_port.empty:\\n    plt.scatter(anomalous_source_port[\\'Timestamp_dt\\'], anomalous_source_port[\\'Source Port\\'],\\n                color=\\'red\\', s=100, zorder=5, label=\\'Source Port 0 (Anomaly)\\')\\n    print(f\"Detected {len(anomalous_source_port)} instances of Source Port 0.\")\\nelse:\\n    print(\"No Source Port 0 detected in the sample.\")\\n\\nplt.legend()\\n\\n\\n# 3. Packet Length over Time (to observe trends in packet size)\\nplt.subplot(3, 1, 3)\\nsns.lineplot(x=\\'Timestamp_dt\\', y=\\'Packet Length\\', data=df, marker=\\'o\\', markersize=4, linestyle=\\'-\\', linewidth=1, color=\\'purple\\')\\nplt.title(\\'Packet Length Over Time\\', fontsize=16)\\nplt.xlabel(\\'Time\\', fontsize=12)\\nplt.ylabel(\\'Packet Length\\', fontsize=12)\\nplt.grid(True)\\n\\n# Highlight very small packet lengths (e.g., min observed 20) as a potential trend indicator\\n# You might define a threshold based on domain knowledge or statistical outliers\\nmin_packet_length_threshold = 20\\nsmall_packet_lengths = df[df[\\'Packet Length\\'] == min_packet_length_threshold]\\nif not small_packet_lengths.empty:\\n    plt.scatter(small_packet_lengths[\\'Timestamp_dt\\'], small_packet_lengths[\\'Packet Length\\'],\\n                color=\\'orange\\', s=50, zorder=5, label=f\\'Packet Length = {min_packet_length_threshold}\\')\\n    print(f\"Detected {len(small_packet_lengths)} packets with minimum length {min_packet_length_threshold}.\")\\nelse:\\n    print(f\"No packets with minimum length {min_packet_length_threshold} detected in the sample.\")\\n\\nplt.tight_layout()\\nplt.show()\\n\\n# --- Suggest Interesting Trends ---\\n\\n# Histograms for key distributions\\nplt.figure(figsize=(18, 6))\\n\\nplt.subplot(1, 3, 1)\\nsns.histplot(df[\\'Interarrival\\'].dropna(), bins=50, kde=True)\\nplt.title(\\'Distribution of Interarrival Time\\', fontsize=14)\\nplt.xlabel(\\'Interarrival Time (s)\\', fontsize=12)\\nplt.ylabel(\\'Frequency\\', fontsize=12)\\nplt.yscale(\\'log\\') # Use log scale for frequency to better visualize rare longer interarrivals\\n\\nplt.subplot(1, 3, 2)\\nsns.histplot(df[\\'Source Port\\'], bins=50, kde=True)\\nplt.title(\\'Distribution of Source Ports\\', fontsize=14)\\nplt.xlabel(\\'Source Port\\', fontsize=12)\\nplt.ylabel(\\'Frequency\\', fontsize=12)\\n\\nplt.subplot(1, 3, 3)\\nsns.histplot(df[\\'Destination Port\\'], bins=50, kde=True)\\nplt.title(\\'Distribution of Destination Ports\\', fontsize=14)\\nplt.xlabel(\\'Destination Port\\', fontsize=12)\\nplt.ylabel(\\'Frequency\\', fontsize=12)\\n\\nplt.tight_layout()\\nplt.show()\\n\\n# Protocol distribution\\nplt.figure(figsize=(8, 6))\\nsns.countplot(x=\\'Protocol\\', data=df)\\nplt.title(\\'Distribution of Protocols\\', fontsize=14)\\nplt.xlabel(\\'Protocol\\', fontsize=12)\\nplt.ylabel(\\'Count\\', fontsize=12)\\nplt.xticks(ticks=[0, 1], labels=[\\'TCP (6)\\', \\'UDP (17)\\']) # Assuming 6 and 17 are the only protocols\\nplt.show()\\n\\nprint(\"\\\\n--- Interesting Trends to Observe ---\")\\nprint(\"1. Interarrival Time Distribution:\")\\nprint(\"   - Look for periods of extremely low interarrival times (dense clusters on the time-series plot) which might indicate burst traffic or a DoS/DDoS attack.\")\\nprint(\"   - The log-scale histogram of interarrival times helps to see the frequency of both very short and longer delays.\")\\nprint(\"2. Source/Destination Port Activity:\")\\nprint(\"   - Spikes in traffic to or from unusual ports (high Source Port values, or specific Destination Ports that are not commonly used for legitimate enterprise services) could signal reconnaissance or attack attempts.\")\\nprint(\"   - A high frequency of specific destination ports (e.g., 80, 443, 53, 22, 23, 21) is normal, but unusual patterns (e.g., many connections to an obscure port) are suspicious.\")\\nprint(\"   - The presence of Source Port 0 indicates a data quality issue or a potentially malicious packet.\")\\nprint(\"3. Packet Length Patterns:\")\\nprint(\"   - Look for consistent patterns of very small (e.g., 20-byte) or very large packets. Very small packets could be part of a scan or SYN flood. Very large packets could be data exfiltration or a \\'ping of death\\' type attack.\")\\nprint(\"4. Protocol Shifts:\")\\nprint(\"   - While TCP and UDP dominance is normal, a sudden and sustained shift in the ratio (e.g., overwhelmingly UDP) could indicate a UDP flood.\")\\nprint(\"5. Numeric Source/Destination IP Trends:\")\\nprint(\"   - Although not directly visualized as time-series here, analyzing the frequency of unique Numeric Source/Destination IPs over time could reveal new or highly active hosts, potentially malicious ones.\")\\nprint(\"   - If a single Numeric Source IP suddenly generates an enormous amount of traffic or targets many different Numeric Destination IPs, it warrants investigation.\")\\nprint(\"6. Payload Content (requires further analysis, not directly visualized here):\")\\nprint(\"   - Monitoring specific DNS queries (e.g., for known malware domains or unusual subdomains) is critical for detecting command-and-control communication or data exfiltration.\")\\nprint(\"   - Look for encrypted payloads where none are expected, or unencrypted sensitive data where encryption is mandated.\")\\n```\\n\\n**Explanation of the Visualization and Trends:**\\n\\n1.  **Time Series Plot of Interarrival Time:**\\n    *   This plot shows the time difference between consecutive packets over the capture duration.\\n    *   **Anomalies Highlighted:** Any points where `Interarrival` is less than 0 are clearly marked in red. These are definite data errors.\\n    *   **Interesting Trends:**\\n        *   **Burst Traffic/DDoS:** Look for periods where the interarrival time drops significantly and stays very low for a sustained period, indicating a high volume of packets in quick succession. This could be normal for busy servers but could also be a sign of a DoS/DDoS attack if coupled with other suspicious indicators.\\n        *   **Gaps in Traffic:** Longer interarrival times might indicate periods of inactivity or network issues.\\n\\n2.  **Time Series Plot of Source Port Usage:**\\n    *   This plot shows the source port used by each packet over time.\\n    *   **Anomalies Highlighted:** Instances where the `Source Port` is `0` are marked in red. This is an invalid port number and a strong indicator of a data issue or a malicious attempt.\\n    *   **Interesting Trends:**\\n        *   **Port Scanning:** If a single source IP rapidly cycles through many different source ports (or uses a fixed source port to probe many destination ports), this could be a scan.\\n        *   **Ephemeral Port Usage:** Legitimate traffic will typically use high-numbered ephemeral ports for source. A sudden shift to using very low-numbered source ports (which are typically well-known ports, but here used as source) could be suspicious.\\n\\n3.  **Time Series Plot of Packet Length:**\\n    *   This plot shows the size of each packet over time.\\n    *   **Anomalies/Trends Highlighted:** While not strictly an \"anomaly\" like negative interarrival, packets with the minimum observed length (e.g., 20 bytes) are highlighted. A high frequency of such minimal packets can be part of a port scan (e.g., sending only SYN flags) or specific types of floods.\\n    *   **Interesting Trends:**\\n        *   **Uniform Packet Lengths:** If all packets suddenly become the same, small size, it could indicate a very specific type of attack (e.g., a SYN flood where only headers are sent).\\n        *   **Unusually Large Packets:** Conversely, a sudden increase in very large packets might indicate data exfiltration or attempts to bypass security measures.\\n\\n**Additional Insights from Histograms and Count Plots:**\\n\\n*   **Interarrival Time Distribution (Log Scale):** The histogram on a logarithmic scale for the y-axis helps visualize the frequency of different interarrival times, especially the very rare longer delays, which might be overshadowed by the high frequency of short delays in a linear scale.\\n*   **Source/Destination Port Distributions:** These histograms show which ports are most frequently used. Anomalies would be very unusual peaks at non-standard ports, or a uniform distribution across a wide range of ports that might indicate a scan.\\n*   **Protocol Distribution:** This confirms the dominance of TCP and UDP. Any significant deviation from this expected pattern (e.g., a massive spike in ICMP traffic) could be an indicator of an attack.\\n\\nBy combining these visualizations and considering the domain knowledge of network traffic and security threats, one can effectively identify anomalies and interesting trends in the dataset. Further investigation of the highlighted anomalous points (e.g., examining the full packet details for those specific timestamps) would be the next step in a real security analysis.' additional_kwargs={'refusal': None} response_metadata={'token_usage': {'completion_tokens': 5986, 'prompt_tokens': 15794, 'total_tokens': 21780, 'completion_tokens_details': None, 'prompt_tokens_details': None}, 'model_name': 'google/gemini-2.5-flash', 'system_fingerprint': None, 'id': 'gen-1754539731-Xjbjohut0vO8lWfQeoKP', 'service_tier': None, 'finish_reason': 'stop', 'logprobs': None} id='run--f67ba339-db31-43b3-8962-f8340466a027-0' usage_metadata={'input_tokens': 15794, 'output_tokens': 5986, 'total_tokens': 21780, 'input_token_details': {}, 'output_token_details': {}}\n",
      "\n",
      "Time Taken: 39.42 seconds\n",
      "\n",
      "Running analysis with OpenAI-gpt-4o...\n",
      "\n",
      "OpenAI-gpt-4o Response:\n",
      "content=\"To identify anomalies in the dataset and visualize the time series data using Python, we can follow these steps:\\n\\n1. **Understand the Dataset Structure**: \\n   - The dataset consists of network packet captures, with fields such as `Timestamp`, `Source Port`, `Destination Port`, `Packet Length`, `Protocol`, `src_ip_total_bytes`, `dst_ip_total_bytes`, `Numeric Source IP`, `Numeric Destination IP`, `dst_port_freq_encoded`, and `Interarrival`.\\n   - The `Timestamp` is in Unix time format and represents the time of each packet capture.\\n   - The `Protocol` field indicates the protocol used (e.g., 6 for TCP, 17 for UDP).\\n\\n2. **Identify Anomalies**:\\n   - Anomalies could be identified based on unusual spikes or drops in `Packet Length`, `src_ip_total_bytes`, `dst_ip_total_bytes`, or unusual `Interarrival` times.\\n   - Unusual activity such as a large number of packets from a specific `Source IP` or to a specific `Destination IP` can indicate a possible DoS (Denial of Service) attack.\\n   - A high frequency of packets on unusual ports (not common service ports) can be a sign of port scanning activities.\\n\\n3. **Visualize the Data**:\\n   - Use Matplotlib and Seaborn to create time series plots and highlight anomalies.\\n   - Visualize `Packet Length`, `src_ip_total_bytes`, `dst_ip_total_bytes`, and `Interarrival` over time.\\n\\nHere's a sample Python script to visualize the data and identify anomalies:\\n\\n```python\\nimport pandas as pd\\nimport matplotlib.pyplot as plt\\nimport seaborn as sns\\n\\n# Assuming df is the DataFrame containing the dataset\\n# Convert timestamp to datetime\\ndf['Timestamp'] = pd.to_datetime(df['Timestamp'], unit='s')\\n\\n# Set the Timestamp as the index\\ndf.set_index('Timestamp', inplace=True)\\n\\n# Plot Packet Length over time\\nplt.figure(figsize=(14, 6))\\nsns.lineplot(data=df, x=df.index, y='Packet Length', label='Packet Length')\\nplt.title('Packet Length Over Time')\\nplt.xlabel('Time')\\nplt.ylabel('Packet Length')\\nplt.grid(True)\\nplt.show()\\n\\n# Highlight anomalies based on Packet Length\\nthreshold = df['Packet Length'].quantile(0.99)  # Assuming top 1% values are anomalies\\nanomalies = df[df['Packet Length'] > threshold]\\n\\nplt.figure(figsize=(14, 6))\\nsns.lineplot(data=df, x=df.index, y='Packet Length', label='Packet Length')\\nplt.scatter(anomalies.index, anomalies['Packet Length'], color='red', label='Anomalies')\\nplt.title('Packet Length Over Time with Anomalies')\\nplt.xlabel('Time')\\nplt.ylabel('Packet Length')\\nplt.legend()\\nplt.grid(True)\\nplt.show()\\n\\n# Plot src_ip_total_bytes over time\\nplt.figure(figsize=(14, 6))\\nsns.lineplot(data=df, x=df.index, y='src_ip_total_bytes', label='src_ip_total_bytes')\\nplt.title('Source IP Total Bytes Over Time')\\nplt.xlabel('Time')\\nplt.ylabel('Source IP Total Bytes')\\nplt.grid(True)\\nplt.show()\\n\\n# Highlight anomalies based on src_ip_total_bytes\\nthreshold_bytes = df['src_ip_total_bytes'].quantile(0.99)  # Assuming top 1% values are anomalies\\nanomalies_bytes = df[df['src_ip_total_bytes'] > threshold_bytes]\\n\\nplt.figure(figsize=(14, 6))\\nsns.lineplot(data=df, x=df.index, y='src_ip_total_bytes', label='src_ip_total_bytes')\\nplt.scatter(anomalies_bytes.index, anomalies_bytes['src_ip_total_bytes'], color='red', label='Anomalies')\\nplt.title('Source IP Total Bytes Over Time with Anomalies')\\nplt.xlabel('Time')\\nplt.ylabel('Source IP Total Bytes')\\nplt.legend()\\nplt.grid(True)\\nplt.show()\\n\\n# Plot Interarrival times\\nplt.figure(figsize=(14, 6))\\nsns.lineplot(data=df, x=df.index, y='Interarrival', label='Interarrival')\\nplt.title('Interarrival Times Over Time')\\nplt.xlabel('Time')\\nplt.ylabel('Interarrival')\\nplt.grid(True)\\nplt.show()\\n\\n# Highlight anomalies based on Interarrival\\nthreshold_interarrival = df['Interarrival'].quantile(0.99)  # Assuming top 1% values are anomalies\\nanomalies_interarrival = df[df['Interarrival'] > threshold_interarrival]\\n\\nplt.figure(figsize=(14, 6))\\nsns.lineplot(data=df, x=df.index, y='Interarrival', label='Interarrival')\\nplt.scatter(anomalies_interarrival.index, anomalies_interarrival['Interarrival'], color='red', label='Anomalies')\\nplt.title('Interarrival Times Over Time with Anomalies')\\nplt.xlabel('Time')\\nplt.ylabel('Interarrival')\\nplt.legend()\\nplt.grid(True)\\nplt.show()\\n\\n# Suggesting interesting trends\\n# Example: Check for trends in dst_port_freq_encoded\\nplt.figure(figsize=(14, 6))\\nsns.lineplot(data=df, x=df.index, y='dst_port_freq_encoded', label='Destination Port Frequency Encoded')\\nplt.title('Destination Port Frequency Encoded Over Time')\\nplt.xlabel('Time')\\nplt.ylabel('Destination Port Frequency Encoded')\\nplt.grid(True)\\nplt.show()\\n```\\n\\n### Explanation:\\n- **Time Series Plot**: The script plots `Packet Length`, `src_ip_total_bytes`, and `Interarrival` over time.\\n- **Anomaly Highlighting**: Anomalies are identified based on the top 1% of values in `Packet Length`, `src_ip_total_bytes`, and `Interarrival`, assuming these indicate abnormal behavior.\\n- **Trends**: Visualizes trends in `dst_port_freq_encoded` to understand port usage patterns.\\n\\n### Note:\\n- Adjust thresholds and anomaly detection logic based on specific network behavior and security policies.\\n- Further analysis might be needed to correlate anomalies with known security incidents.\" additional_kwargs={'refusal': None} response_metadata={'token_usage': {'completion_tokens': 1227, 'prompt_tokens': 14049, 'total_tokens': 15276, 'completion_tokens_details': {'accepted_prediction_tokens': None, 'audio_tokens': None, 'reasoning_tokens': 0, 'rejected_prediction_tokens': None}, 'prompt_tokens_details': {'audio_tokens': None, 'cached_tokens': 0}}, 'model_name': 'openai/gpt-4o', 'system_fingerprint': 'fp_07871e2ad8', 'id': 'gen-1754539770-Ma93GI9ykLRJ2QFHI3jd', 'service_tier': None, 'finish_reason': 'stop', 'logprobs': None} id='run--ae38f257-915f-4a63-bda3-5694e7edf1d0-0' usage_metadata={'input_tokens': 14049, 'output_tokens': 1227, 'total_tokens': 15276, 'input_token_details': {'cache_read': 0}, 'output_token_details': {'reasoning': 0}}\n",
      "\n",
      "Time Taken: 27.56 seconds\n",
      "\n"
     ]
    }
   ],
   "source": [
    "model_visualizations = {}\n",
    "for model_name, model in models.items():\n",
    "    print(f\"Running analysis with {model_name}...\")\n",
    "\n",
    "    start_time = time.time()\n",
    "\n",
    "    # Create chain and execute\n",
    "    response = model.invoke(prompt_template.format(eda_summary=eda_summary))\n",
    "\n",
    "    end_time = time.time()\n",
    "\n",
    "    # Store results\n",
    "    model_visualizations[model_name] = {\n",
    "        \"response\": response,\n",
    "        \"time_taken\": round(end_time - start_time, 2),\n",
    "    }\n",
    "\n",
    "    print(f\"\\n{model_name} Response:\\n{response}\\n\")\n",
    "    print(f\"Time Taken: {round(end_time - start_time, 2)} seconds\\n\")"
   ]
  },
  {
   "cell_type": "markdown",
   "metadata": {},
   "source": [
    "# Compare datasets"
   ]
  },
  {
   "cell_type": "code",
   "execution_count": 60,
   "metadata": {},
   "outputs": [],
   "source": [
    "benign_data_summary = summarize_dataset(benign_df)\n",
    "prompt_template = PromptTemplate(\n",
    "    input_variables=[\"malicious_data_summary\", \"benign_data_summary\"],\n",
    "    template=\"Analyze the two input datasets that were taken by a network tap using wireshark, based on the summaries given below: \\n Dataset1 Summary: {malicious_data_summary}\\n Dataset2 Summary: {benign_data_summary}.\\n What are the differences, what are the similarities between the two datasets? Can you identify if any of the two datasets exhibits malicious or benign behavior? Why? Give any other interesting observations that you extract from the two datasets.\",\n",
    ")"
   ]
  },
  {
   "cell_type": "code",
   "execution_count": 61,
   "metadata": {},
   "outputs": [
    {
     "name": "stdout",
     "output_type": "stream",
     "text": [
      "Running analysis with Claude-Sonnet-4...\n",
      "\n",
      "Claude-Sonnet-4 Response:\n",
      "content='Based on my analysis of these two network packet capture datasets, I can identify several key differences, similarities, and security implications:\\n\\n## Key Differences\\n\\n### Dataset Scale and Timespan\\n- **Dataset 1**: 154,090 packets over ~2 hours (Oct 2018)\\n- **Dataset 2**: 18,615 packets spanning ~10 years (2012-2022)\\n\\n### Traffic Characteristics\\n- **Dataset 1**: Mixed protocol traffic (66.8% UDP, 33.2% TCP) with diverse payloads\\n- **Dataset 2**: Predominantly UDP traffic with much larger packet sizes (mean 297 bytes vs 45 bytes)\\n\\n### Network Behavior Patterns\\n- **Dataset 1**: Shows normal enterprise network activity with DNS queries, web traffic (ports 80, 443), and IoT device communications\\n- **Dataset 2**: Exhibits highly suspicious patterns with extreme temporal distribution anomalies\\n\\n## Critical Security Anomalies in Dataset 2\\n\\n### 1. **Temporal Manipulation Indicators**\\n- Packets spanning 10+ years in a single capture is physically impossible\\n- Extreme interarrival time variance (std: 560,125 seconds ≈ 6.5 days)\\n- Maximum interarrival time of 35 million seconds (≈ 1 year)\\n\\n### 2. **Potential Attack Signatures**\\n- **Port 646 concentration**: Heavy focus on port 646 (used by Label Distribution Protocol) suggests possible network infrastructure targeting\\n- **Abnormal packet sizes**: Mean packet size of 297 bytes with maximum of 8,780 bytes indicates possible data exfiltration or payload injection\\n- **Protocol anomalies**: Presence of protocol 47 (GRE tunneling) could indicate covert channel establishment\\n\\n### 3. **Data Integrity Issues**\\n- Timestamp manipulation suggests either:\\n  - Forensic anti-analysis techniques\\n  - Data corruption from malware\\n  - Deliberate obfuscation of attack timeline\\n\\n## Dataset 1: Legitimate Enterprise Traffic\\n\\nDataset 1 exhibits characteristics of **benign enterprise network traffic**:\\n- Normal DNS resolution patterns for legitimate services (Samsung smart cameras, Baidu, Broadlink devices)\\n- Standard web traffic on ports 80/443\\n- Consistent temporal patterns within a reasonable timeframe\\n- Typical IoT device communication patterns\\n\\n## Dataset 2: Malicious Activity Indicators\\n\\nDataset 2 strongly suggests **malicious activity** based on:\\n- **Timestamp spoofing/manipulation** - common in advanced persistent threats (APTs)\\n- **Infrastructure targeting** via LDP port exploitation\\n- **Covert channel establishment** through GRE tunneling\\n- **Data exfiltration patterns** evidenced by large, variable packet sizes\\n\\n## Security Assessment\\n\\n**Dataset 1**: Represents normal network baseline with typical enterprise traffic patterns including legitimate IoT communications and web browsing.\\n\\n**Dataset 2**: Exhibits multiple indicators of compromise (IoCs) consistent with:\\n- Advanced Persistent Threat (APT) activity\\n- Network infrastructure compromise\\n- Data exfiltration operations\\n- Anti-forensic timestamp manipulation\\n\\nThe extreme temporal anomalies in Dataset 2, combined with unusual protocol usage and packet size distributions, strongly indicate this traffic should be classified as malicious and warrants immediate security investigation.\\n\\n## Recommendations\\n\\n1. **For Dataset 2**: Immediate incident response procedures should be initiated\\n2. **Forensic analysis** of the source systems that generated Dataset 2\\n3. **Network segmentation** review for systems communicating on port 646\\n4. **Timeline reconstruction** using alternative log sources to determine actual attack timeframe' additional_kwargs={'refusal': None} response_metadata={'token_usage': {'completion_tokens': 823, 'prompt_tokens': 34595, 'total_tokens': 35418, 'completion_tokens_details': None, 'prompt_tokens_details': None}, 'model_name': 'anthropic/claude-sonnet-4', 'system_fingerprint': None, 'id': 'gen-1754539798-EMbXK39hnKXyYxjcwlGy', 'service_tier': None, 'finish_reason': 'stop', 'logprobs': None} id='run--fee586ec-dfb0-4766-9c34-8fcb47b6dabd-0' usage_metadata={'input_tokens': 34595, 'output_tokens': 823, 'total_tokens': 35418, 'input_token_details': {}, 'output_token_details': {}}\n",
      "\n",
      "Time Taken: 19.21 seconds\n",
      "\n",
      "Running analysis with Gemini-2.5-Flash...\n",
      "\n",
      "Gemini-2.5-Flash Response:\n",
      "content='Let\\'s analyze the two datasets, focusing on identifying anomalies, potential malicious/benign behavior, and their similarities/differences.\\n\\n## Dataset 1 Analysis:\\n\\n**Initial Observations (First 100 Rows):**\\n\\n*   **Timestamp:** Appears to be a Unix timestamp, increasing over time. The values are large, indicating a recent capture (around late 2018).\\n*   **Source/Destination Ports:** A mix of common ports (80, 53, 443) and high ephemeral ports (21074, 20532, 52259, etc.). Port 53 (DNS) traffic is prominent, with both queries and answers. Port 80 (HTTP) and 443 (HTTPS) are also seen.\\n*   **Payload:** \"Padding\" and \"Raw\" are common, which could be normal. DNS queries for `xmpp.samsungsmartcam.com`, `10024backup.broadli`, `10024main.broadlink`, `www.baidu.com`, and `authentication.eye4` are present. The \"name-error\" for DNS is notable.\\n*   **Packet Length:** Varies, but many are small (26, 40, 48 bytes). DNS packets are larger (83 bytes).\\n*   **Protocol:** Primarily TCP (6.0) and UDP (17.0).\\n*   **IP Bytes:** `src_ip_total_bytes` and `dst_ip_total_bytes` are cumulative, increasing for the same IP.\\n*   **Numeric IPs:** Large numbers, likely representing internal and external IP addresses.\\n*   **Interarrival:** Small values, indicating frequent packets. Some are very small (e.g., 0.000005 seconds), suggesting rapid communication. A negative `min` interarrival time (-0.000269) is an anomaly, as time should only move forward. This could be due to clock skew or a data collection artifact.\\n\\n**Summary Statistics Analysis:**\\n\\n*   **Count:** 154,090 rows, a substantial dataset.\\n*   **Timestamp:** Spans a relatively short period (min 1.540446e+09 to max 1.540454e+09), roughly 7000 seconds or just under 2 hours.\\n*   **Mean Packet Length:** 45.3 bytes, which is quite small. The 25th, 50th, and 75th percentiles are 40, 48, and 48 bytes respectively. This indicates a high proportion of small packets.\\n*   **Protocol Distribution:** Mean protocol is 13.3, with a standard deviation of 5.18. The summary table shows 66.8% UDP (17.0) and 33.2% TCP (6.0). This heavy UDP dominance, especially with many small packets, is a strong indicator.\\n*   **Source/Destination IP Counts:** 22 distinct Numeric Source IPs and 63 distinct Numeric Destination IPs. This suggests a relatively small number of internal hosts communicating with a larger, but still limited, set of external destinations.\\n*   **`dst_port_freq_encoded`:** Shows a varied distribution of destination port frequencies.\\n*   **Interarrival:** Mean of 0.046 seconds, with a max of 1.17 seconds. The negative minimum interarrival time (-0.000269) is a definite data anomaly and needs further investigation if this were a live analysis. It might suggest out-of-order packets or a timestamping issue.\\n\\n**Potential Anomalies and Malicious/Benign Behavior (Dataset 1):**\\n\\n1.  **High Volume of Small UDP Packets (DNS and \"Padding\"):**\\n    *   **Observation:** A large number of packets (154,090), with a very low average packet length (45.3 bytes), and 66.8% of traffic being UDP. Many payloads are \"Padding\" or empty. DNS queries are also prominent.\\n    *   **Justification:** This pattern is highly suspicious.\\n        *   **DNS Amplification/Reflection Attack:** Attackers can use open DNS resolvers to amplify traffic. Small DNS queries can lead to much larger responses, but even small queries in high volume can be part of a DDoS. The frequent DNS queries for `xmpp.samsungsmartcam.com`, `10024backup.broadli`, `10024main.broadlink`, `www.baidu.com`, and `authentication.eye4` could be related to botnet command and control (C2) trying to resolve domain names, or simply a high volume of DNS lookups from compromised devices. The \"name-error\" responses (NXDOMAIN) can also be a sign of DNS tunneling or a botnet trying to communicate with unregistered C2 domains.\\n        *   **UDP Flood:** A basic denial-of-service (DoS) attack where an attacker sends a large number of UDP packets to random ports on a target server, causing the server to respond with \"ICMP Destination Unreachable\" packets, consuming resources. The \"Padding\" or empty payloads are consistent with this.\\n        *   **IoT Botnet Activity:** The presence of `samsungsmartcam.com` and `eye4` domains suggests potential compromise of IoT devices (smart cameras, etc.). IoT devices are often exploited to form botnets that launch DDoS attacks or perform other malicious activities. Their traffic often consists of small, frequent packets.\\n    *   **Conclusion:** **Likely Malicious.** The combination of high packet count, small packet size, high UDP percentage, and suspicious DNS activity strongly points towards malicious behavior, potentially a DDoS attack (UDP flood, DNS amplification) or botnet C2 activity originating from compromised IoT devices within the enterprise network.\\n\\n2.  **Negative Interarrival Time:**\\n    *   **Observation:** The minimum interarrival time is negative (-0.000269).\\n    *   **Justification:** This is physically impossible for time to go backward. It\\'s a data quality anomaly, likely due to:\\n        *   **Clock Skew:** Different clocks on network devices or the capture machine being out of sync.\\n        *   **Packet Reordering:** Packets arriving out of order (though less common for negative time differences unless timestamps are being assigned incorrectly).\\n        *   **Wireshark/Capture Artifact:** A bug or limitation in how timestamps are recorded or processed.\\n    *   **Conclusion:** While an anomaly, it *might not directly indicate malicious activity itself*, but it certainly indicates an issue with the data collection or a very specific type of advanced network manipulation (rare). However, in the context of other suspicious activity, it should be noted.\\n\\n## Dataset 2 Analysis:\\n\\n**Initial Observations (First 100 Rows):**\\n\\n*   **Timestamp:** Different time scale than Dataset 1, starting around 1.355254e+09 (late 2012).\\n*   **Source/Destination Ports:** Predominantly port 646.0 for both source and destination. This is very unusual.\\n*   **Payload:** Exclusively \"Raw\".\\n*   **Packet Length:** Consistently 42 bytes.\\n*   **Protocol:** Exclusively UDP (17.0) for the initial rows.\\n*   **IP Bytes:** Constantly increasing, typical for cumulative byte counts.\\n*   **Numeric IPs:** Two distinct source IPs (167772161, 167772162) and one destination IP (3758096386) are seen in the first 100 rows.\\n*   **Interarrival:** Many packets have an interarrival time of 0.000, indicating they were captured at the same timestamp (or within the smallest measurable unit). Some have larger intervals (e.g., 0.187, 4.087, 2.979 seconds).\\n\\n**Summary Statistics Analysis:**\\n\\n*   **Count:** 18,615 rows, significantly smaller than Dataset 1.\\n*   **Timestamp:** Spans a very long period (min 1.355254e+09 to max 1.671036e+09). This is over 300 million seconds, or about 9.5 years! This suggests that the data isn\\'t a continuous capture over a short period, but rather sporadic activity or a collection of events over a very long time.\\n*   **Mean Packet Length:** 297.7 bytes, much larger than Dataset 1. However, the first 100 rows showed constant 42 bytes. This discrepancy (mean 297.7 vs. first 100 rows at 42) indicates that the initial 100 rows are not representative of the entire dataset\\'s packet length distribution. The max packet length is 8780 bytes.\\n*   **Protocol Distribution:** Mean protocol is 15.5, with a standard deviation of 6.46. The first 100 rows only show UDP (17.0). The `max` protocol is 47.0 (GRE - Generic Routing Encapsulation, or other). This implies other protocols are present in the full dataset, not just UDP 17.0.\\n*   **Source/Destination IP Counts:** The summary statistics for Numeric Source IP show a minimum of 0.0 and a standard deviation of 1.059710e+09, indicating a much wider range and potentially more distinct IPs than the initial 2 shown. The `Numeric Destination IP` also has a very wide range.\\n*   **`dst_port_freq_encoded`:** Shows a lower mean and std dev compared to Dataset 1, suggesting less diversity or more concentration of traffic on certain ports.\\n*   **Interarrival:** Mean is 16964.76 seconds, with a max of 3.504942e+07 seconds (over a year!). This confirms the extremely sporadic nature of the capture over a long period. A negative minimum interarrival time (-9.703636e-05) is also present, similar to Dataset 1, indicating data collection issues.\\n\\n**Potential Anomalies and Malicious/Benign Behavior (Dataset 2):**\\n\\n1.  **High Concentration on Port 646 (First 100 Rows):**\\n    *   **Observation:** The first 100 rows show almost exclusive communication on Source Port 646 and Destination Port 646, using UDP.\\n    *   **Justification:** Port 646 is registered for the \"LDP\" (Label Distribution Protocol) in MPLS (Multiprotocol Label Switching). However, it\\'s also a relatively obscure port that could be used for non-standard applications or for covert channels/malware communication if not explicitly used for LDP. The consistent packet length (42 bytes) and \"Raw\" payload suggest a very specific, repetitive communication pattern.\\n    *   **Conclusion:** **Potentially Malicious/Suspicious.** While LDP traffic exists, the strict uniformity of packets (same source/dst port, same length, \"Raw\" payload) without other common network traffic in the initial samples is highly unusual for a general enterprise network tap. It could indicate:\\n        *   **Custom Application/Protocol:** A specific, non-standard application using this port.\\n        *   **Covert Channel:** Malware using an unusual port and consistent packet structure to exfiltrate data or communicate with C2.\\n        *   **Network Scan/Probe:** Though less likely given the bi-directional 646-to-646 communication.\\n\\n2.  **Extremely Long Time Span and Sporadic Traffic:**\\n    *   **Observation:** The dataset spans years, but the total number of packets (18,615) is relatively small. The `Interarrival` mean is very high (16964 seconds), and the max is over a year.\\n    *   **Justification:** This isn\\'t a continuous network trace. It\\'s more likely a collection of specific events or a filtered capture over a very long duration. This makes it hard to infer \"normal\" network behavior from this dataset\\'s structure alone. If it were a continuous tap, such low volume over such a long time would be highly unusual for an enterprise network.\\n    *   **Conclusion:** **Data Collection/Filtering Anomaly.** This dataset likely represents specific, possibly rare, events captured over a long period rather than a continuous stream. It doesn\\'t inherently indicate maliciousness but impacts how we interpret the data.\\n\\n3.  **Inconsistent Representativeness:**\\n    *   **Observation:** The first 100 rows show very specific patterns (Port 646, Packet Length 42, UDP only), but the overall summary statistics show a much wider range of packet lengths, protocols (up to 47.0), and IP addresses.\\n    *   **Justification:** The initial sample is not representative of the entire dataset. This means the conclusions drawn from the first 100 rows (e.g., exclusive use of port 646) might not apply to the whole dataset.\\n    *   **Conclusion:** **Data Sampling/Structure Anomaly.** This makes a full assessment difficult without deeper analysis of the entire dataset.\\n\\n## Differences and Similarities Between Datasets:\\n\\n**Differences:**\\n\\n*   **Time Scale:** Dataset 1 is a continuous, short-duration capture (hours). Dataset 2 is a sporadic, long-duration capture (years).\\n*   **Volume:** Dataset 1 is much larger (154k packets) than Dataset 2 (18k packets).\\n*   **Dominant Traffic Patterns (initial view):** Dataset 1 shows varied ports (80, 443, 53) along with high ephemeral ports. Dataset 2\\'s initial view is dominated by a single port (646/UDP).\\n*   **Packet Length Distribution:** Dataset 1 has a very low mean packet length, dominated by small packets. Dataset 2 has a higher mean, with a much wider range (up to 8.7KB), though the initial sample is small.\\n*   **Protocol Distribution:** Dataset 1 is heavily UDP (66.8%). Dataset 2\\'s initial sample is UDP, but the full summary suggests more protocol diversity.\\n*   **Purpose of Capture:** Dataset 1 appears to be a general network tap capturing all traffic over a period. Dataset 2 seems to be a filtered or event-driven capture.\\n\\n**Similarities:**\\n\\n*   **Data Format:** Both are network packet captures with similar columns (Timestamp, Ports, Payload, Length, Protocol, IP info, Interarrival).\\n*   **Presence of Interarrival Anomaly:** Both datasets exhibit negative minimum interarrival times, pointing to potential data collection/timestamping issues.\\n*   **Enterprise Network Context:** Both are stated to be from an enterprise network.\\n*   **Use of Wireshark:** Both were generated using Wireshark.\\n\\n## Malicious vs. Benign Behavior Identification:\\n\\n*   **Dataset 1: Likely Malicious.**\\n    *   **Why:** The overwhelming volume of small UDP packets, the high percentage of UDP traffic, the presence of \"Padding\" payloads, and especially the suspicious DNS queries (IoT domains, name-errors) are classic indicators of **DDoS attacks (UDP flood, DNS amplification)** or **IoT botnet activity**. Enterprise networks rarely generate such a high sustained volume of small, uniform UDP traffic without a specific, well-known application. The specific domains related to smart cameras further strengthen the botnet hypothesis.\\n\\n*   **Dataset 2: Potentially Suspicious/Anomalous (but not definitively malicious without more context).**\\n    *   **Why:** The highly concentrated traffic on an unusual port (646/UDP) with consistent packet lengths in the initial rows is suspicious. It could be **covert channel communication**, **malware beaconing**, or a **custom, undocumented application**. However, without knowing the full network context or what the *entire* dataset contains beyond the first 100 rows (as the summary statistics suggest more diversity), it\\'s difficult to label it definitively as malicious. It\\'s certainly *anomalous* traffic that warrants further investigation, but not as clearly indicative of a widespread attack as Dataset 1. The long time span and sporadic nature also make it harder to assess real-time maliciousness.\\n\\n## Other Interesting Observations:\\n\\n*   **Data Quality Issues:** The negative interarrival times in both datasets highlight a potential data quality issue with the timestamping or capture process itself. This is important to note for any subsequent analysis or model training.\\n*   **IoT Device Compromise (Dataset 1):** The specific DNS queries related to `samsungsmartcam.com` and `eye4` in Dataset 1 are a strong hint towards IoT devices being compromised and used in malicious activities (e.g., part of a botnet). This is a common and growing threat vector.\\n*   **Stealth vs. Brute Force:** Dataset 1 looks more like a brute-force or high-volume attack (DDoS, flood), while the initial glimpse of Dataset 2 (uniform packets on an obscure port) could be indicative of a more stealthy, persistent communication (e.g., C2 beaconing).\\n*   **Data Skew in Summaries:** The initial 100 rows of Dataset 2 are highly unrepresentative of the full dataset\\'s summary statistics, particularly for Packet Length and Protocol. This emphasizes the importance of looking at both samples and full summaries for a complete picture.\\n*   **Port 646:** While LDP uses port 646, its presence as a dominant, internal-to-internal (or internal-to-external) communication port in an enterprise network, especially with raw payloads, could be a flag for security analysts to investigate for non-standard applications or potential malware.\\n\\nIn summary, Dataset 1 shows clear signs of malicious activity consistent with DDoS or botnet operations, likely involving compromised IoT devices. Dataset 2 presents anomalous traffic patterns that are suspicious and warrant deeper investigation, but are not as definitively malicious from the provided data as Dataset 1.' additional_kwargs={'refusal': None} response_metadata={'token_usage': {'completion_tokens': 3968, 'prompt_tokens': 31677, 'total_tokens': 35645, 'completion_tokens_details': None, 'prompt_tokens_details': None}, 'model_name': 'google/gemini-2.5-flash', 'system_fingerprint': None, 'id': 'gen-1754539845-GtlgvDivK4OeP50cGXwh', 'service_tier': None, 'finish_reason': 'stop', 'logprobs': None} id='run--ed1a8a45-de56-4f3d-b0e6-b4a373100011-0' usage_metadata={'input_tokens': 31677, 'output_tokens': 3968, 'total_tokens': 35645, 'input_token_details': {}, 'output_token_details': {}}\n",
      "\n",
      "Time Taken: 58.91 seconds\n",
      "\n",
      "Running analysis with OpenAI-gpt-4o...\n",
      "\n",
      "OpenAI-gpt-4o Response:\n",
      "content='To analyze the two datasets captured using Wireshark and identify any potential anomalies or malicious behavior, let\\'s delve into the details of each dataset and compare their characteristics.\\n\\n### Dataset 1 Analysis\\n\\n#### Summary:\\n- **Size**: 154,090 rows\\n- **General Observations**:\\n  - The dataset includes information such as timestamps, source and destination ports, payloads, packet lengths, protocols, and IP byte totals.\\n  - The most common protocols are TCP (protocol 6) and UDP (protocol 17).\\n  - A significant portion of payloads is categorized as \"Raw\" or \"Padding,\" with many DNS queries and responses.\\n\\n#### Anomalies and Observations:\\n- **Protocol Distribution**: The dominance of UDP protocol (66.8%) suggests a large amount of DNS traffic or other UDP-based services.\\n- **Packet Length**: The maximum packet length of 166 bytes is relatively small, indicating that most packets are not carrying large payloads.\\n- **Interarrival Times**: The negative minimum interarrival time and high variance might suggest irregular traffic patterns, possibly indicative of a network scan or DDoS attack.\\n- **Destination Ports**: Frequent access to specific ports (e.g., 80, 443) indicates web traffic, but the unusual frequency encoding could suggest disproportionate access patterns to certain ports, potentially pointing to scanning or probing activities.\\n\\n### Dataset 2 Analysis\\n\\n#### Summary:\\n- **Size**: 18,615 rows\\n- **General Observations**:\\n  - The dataset also contains timestamps, ports, payloads, and other similar fields.\\n  - The payloads are consistently marked as \"Raw,\" suggesting no identifiable service or application-level information.\\n  - The protocol distribution is skewed towards higher numbers than typical TCP/UDP, which might indicate custom or less common protocols.\\n\\n#### Anomalies and Observations:\\n- **Consistent Source/Destination Ports**: The repeated use of port 646 for both source and destination across many packets could suggest a misconfiguration or a proprietary service.\\n- **Packet Length**: A maximum packet length of 8780 bytes is significantly higher than Dataset 1, indicating potential file transfers or large data exchanges.\\n- **Interarrival Times**: The presence of high interarrival time (up to 35,049,420) suggests long periods of inactivity, which could be legitimate or indicative of sporadic bursts of activity typical in certain attack patterns.\\n\\n### Differences and Similarities\\n\\n#### Differences:\\n1. **Size**: Dataset 1 is significantly larger than Dataset 2.\\n2. **Protocol and Port Usage**: Dataset 1 shows a more typical distribution of common protocols and ports, while Dataset 2 uses consistent and less typical port numbers and protocol IDs.\\n3. **Packet Length**: Dataset 2 has a much wider range of packet lengths, hinting at different types of communication or data exchange.\\n\\n#### Similarities:\\n1. **Structure**: Both datasets share similar features, such as timestamps, ports, and payloads.\\n2. **Time-Series Nature**: Both datasets exhibit temporal patterns that could be analyzed for trends and anomalies.\\n\\n### Malicious vs. Benign Behavior\\n\\n- **Dataset 1**: The presence of DNS queries and common web ports is typical of benign network traffic. However, irregular interarrival times and frequent access to specific ports could indicate scanning or probing behavior.\\n- **Dataset 2**: The consistent use of a single port and protocol, coupled with raw payloads and high packet lengths, might suggest proprietary or misconfigured traffic. This dataset could be benign if representing legitimate internal communication but could also hint at tunneling or exfiltration activities if the context is suspicious.\\n\\n### Interesting Observations\\n- **Dataset 1** shows a typical enterprise network environment with potential signs of reconnaissance activities.\\n- **Dataset 2** seems to capture a specialized or proprietary application communication, which could be legitimate or used for covert data transfer.\\n- The differences in packet lengths and protocol usage between the datasets highlight different network behaviors, which could stem from distinct use cases or security scenarios.\\n\\nIn conclusion, while Dataset 1 appears to be more typical of standard enterprise traffic with some potential red flags, Dataset 2\\'s uniformity in port usage and protocol might warrant a deeper investigation to rule out malicious activities. Further context and network understanding would be necessary to make definitive conclusions.' additional_kwargs={'refusal': None} response_metadata={'token_usage': {'completion_tokens': 887, 'prompt_tokens': 28139, 'total_tokens': 29026, 'completion_tokens_details': {'accepted_prediction_tokens': None, 'audio_tokens': None, 'reasoning_tokens': 0, 'rejected_prediction_tokens': None}, 'prompt_tokens_details': {'audio_tokens': None, 'cached_tokens': 0}}, 'model_name': 'openai/gpt-4o', 'system_fingerprint': 'fp_ff25b2783a', 'id': 'gen-1754539876-r7NOhoFP7nC67eAaFeOn', 'service_tier': None, 'finish_reason': 'stop', 'logprobs': None} id='run--01815084-39cb-4741-a4c1-893ccca978a4-0' usage_metadata={'input_tokens': 28139, 'output_tokens': 887, 'total_tokens': 29026, 'input_token_details': {'cache_read': 0}, 'output_token_details': {'reasoning': 0}}\n",
      "\n",
      "Time Taken: 25.78 seconds\n",
      "\n"
     ]
    }
   ],
   "source": [
    "comparison_results = {}\n",
    "\n",
    "for model_name, model in models.items():\n",
    "    print(f\"Running analysis with {model_name}...\")\n",
    "\n",
    "    start_time = time.time()\n",
    "\n",
    "    # Create chain and execute\n",
    "    response = model.invoke(\n",
    "        prompt_template.format(\n",
    "            malicious_data_summary=malicious_data_summary,\n",
    "            benign_data_summary=benign_data_summary,\n",
    "        )\n",
    "    )\n",
    "\n",
    "    end_time = time.time()\n",
    "\n",
    "    # Store results\n",
    "    comparison_results[model_name] = {\n",
    "        \"response\": response,\n",
    "        \"time_taken\": round(end_time - start_time, 2),\n",
    "    }\n",
    "\n",
    "    print(f\"\\n{model_name} Response:\\n{response}\\n\")\n",
    "    print(f\"Time Taken: {round(end_time - start_time, 2)} seconds\\n\")"
   ]
  },
  {
   "cell_type": "markdown",
   "metadata": {},
   "source": [
    "# Evaluate EDA with LLMs"
   ]
  },
  {
   "cell_type": "code",
   "execution_count": 62,
   "metadata": {},
   "outputs": [],
   "source": [
    "from sklearn.metrics import (\n",
    "    accuracy_score,\n",
    "    precision_score,\n",
    "    recall_score,\n",
    "    f1_score,\n",
    ")\n"
   ]
  },
  {
   "cell_type": "code",
   "execution_count": 63,
   "metadata": {},
   "outputs": [],
   "source": [
    "def evaluate_model(model, X_test, y_test):\n",
    "    y_pred = model.predict(X_test)\n",
    "    accuracy = accuracy_score(y_test, y_pred)\n",
    "    precision = precision_score(y_test, y_pred)\n",
    "    recall = recall_score(y_test, y_pred)\n",
    "    f1 = f1_score(y_test, y_pred)\n",
    "    return accuracy, precision, recall, f1"
   ]
  },
  {
   "cell_type": "code",
   "execution_count": 64,
   "metadata": {},
   "outputs": [],
   "source": [
    "# from cyberdata_mlai.classification import evaluate_model\n",
    "\n",
    "correctness_metric = GEval(\n",
    "    name=\"Correctness\",\n",
    "    criteria=\"Determine whether the actual output is factually correct based on the expected output.\",\n",
    "    # NOTE: you can only provide either criteria or evaluation_steps, and not both\n",
    "    evaluation_steps=[\n",
    "        \"Check whether the facts in 'actual output' contradicts any facts in 'expected output'\",\n",
    "        \"You should give more points to the responses that are based on the logical analysis of numerical results.\",\n",
    "        \"You should penalize responses that are lacking detailed explanations\",\n",
    "        \"You should penalize responses that are contradictory to the ground truth\",\n",
    "        \"Different numbers in the responses are OK, however contradicting opinions are not OK.\",\n",
    "    ],\n",
    "    evaluation_params=[\n",
    "        LLMTestCaseParams.INPUT,\n",
    "        LLMTestCaseParams.ACTUAL_OUTPUT,\n",
    "        LLMTestCaseParams.EXPECTED_OUTPUT,\n",
    "    ],\n",
    ")"
   ]
  },
  {
   "cell_type": "code",
   "execution_count": 65,
   "metadata": {},
   "outputs": [],
   "source": [
    "summary_human_output = \"\"\"1. The source ports seem to have some unusually high frequencies in higher values and the destination ports exhibit high variability. This may indicate scanning.\n",
    "2. The payload indicates dns queries to domains that resemble IoT devices such as broadlink routers.\n",
    "3. The packet lengths show an interesting distribution of some unusually high values that may point to exfiltration or malware download. \n",
    "4. There is unusually high activity in UDP protocol that may be suspicious of unusual services.\n",
    "5. There is also some unusual high frequency in destination port 23 and 2323 that point to telnet and IoT telnet.\n",
    "6. Finally the interarrival is unusually short, and that may indicate Denial of Service attack.\"\"\""
   ]
  },
  {
   "cell_type": "code",
   "execution_count": 66,
   "metadata": {},
   "outputs": [],
   "source": [
    "hypotheses_human_output = \"\"\" Based on the hypothesis testing results:\n",
    "1. All pairs of variables seem unrelated to statistically significant differences.\n",
    "2. Logically, variables that should correlate are the bytes in/out and interarrival but there seems not to be any correlation.\n",
    "3. The results are inconclusive and additional analysis may be needed.\n",
    "\"\"\""
   ]
  },
  {
   "cell_type": "code",
   "execution_count": 67,
   "metadata": {},
   "outputs": [],
   "source": [
    "outliers_human_output = \"\"\" Based on the outliers calculations we reach the following conclusions:\n",
    "1. There are some destination port outliers that may indicate abnormal malicious behavior.\n",
    "2. There are outliers in packet size that again may point to unusual activity.\n",
    "\"\"\""
   ]
  },
  {
   "cell_type": "code",
   "execution_count": 68,
   "metadata": {},
   "outputs": [
    {
     "data": {
      "text/html": [
       "<pre style=\"white-space:pre;overflow-x:auto;line-height:normal;font-family:Menlo,'DejaVu Sans Mono',consolas,'Courier New',monospace\">/Users/preeti/preeti_gh/old-soc-new-tricks/.venv/lib/python3.10/site-packages/rich/live.py:256: UserWarning: \n",
       "install \"ipywidgets\" for Jupyter support\n",
       "  warnings.warn('install \"ipywidgets\" for Jupyter support')\n",
       "</pre>\n"
      ],
      "text/plain": [
       "/Users/preeti/preeti_gh/old-soc-new-tricks/.venv/lib/python3.10/site-packages/rich/live.py:256: UserWarning: \n",
       "install \"ipywidgets\" for Jupyter support\n",
       "  warnings.warn('install \"ipywidgets\" for Jupyter support')\n"
      ]
     },
     "metadata": {},
     "output_type": "display_data"
    },
    {
     "data": {
      "text/html": [
       "<pre style=\"white-space:pre;overflow-x:auto;line-height:normal;font-family:Menlo,'DejaVu Sans Mono',consolas,'Courier New',monospace\"></pre>\n"
      ],
      "text/plain": []
     },
     "metadata": {},
     "output_type": "display_data"
    },
    {
     "name": "stdout",
     "output_type": "stream",
     "text": [
      "Model Claude-Sonnet-4 response correctness: 0.8562176500885798\n",
      "The actual output aligns closely with the expected output, identifying anomalies such as high source port variability (scanning), suspicious DNS queries to IoT-related domains, high UDP activity, and short interarrival times (potential DoS). It also adds logical, numerically grounded analysis (e.g., specific percentages, byte counts, and port distributions) and provides detailed explanations for each anomaly. However, it omits explicit mention of high frequency on destination ports 23 and 2323 (telnet/IoT telnet), and does not directly discuss unusually high packet lengths as possible exfiltration or malware download, which are present in the expected output. Overall, the response is thorough, non-contradictory, and well-justified, but misses a couple of specific details.\n"
     ]
    },
    {
     "data": {
      "text/html": [
       "<pre style=\"white-space:pre;overflow-x:auto;line-height:normal;font-family:Menlo,'DejaVu Sans Mono',consolas,'Courier New',monospace\"></pre>\n"
      ],
      "text/plain": []
     },
     "metadata": {},
     "output_type": "display_data"
    },
    {
     "name": "stdout",
     "output_type": "stream",
     "text": [
      "Model Gemini-2.5-Flash response correctness: 0.825584547658684\n",
      "The actual output aligns well with the expected output by identifying key anomalies such as high UDP activity, prevalence of small packets, DNS queries to IoT-related domains, and data quality issues (negative interarrival, zero source IP). It provides logical analysis of numerical results and justifies potential security implications like scanning, DoS, and IoT device risks. However, it misses explicit mention of high frequency in destination ports 23 and 2323 (telnet/IoT telnet) and does not discuss unusually high packet lengths that may indicate exfiltration or malware download, which are present in the expected output. The explanation is detailed and grounded in the data, but a few specific points are omitted.\n"
     ]
    },
    {
     "data": {
      "text/html": [
       "<pre style=\"white-space:pre;overflow-x:auto;line-height:normal;font-family:Menlo,'DejaVu Sans Mono',consolas,'Courier New',monospace\"></pre>\n"
      ],
      "text/plain": []
     },
     "metadata": {},
     "output_type": "display_data"
    },
    {
     "name": "stdout",
     "output_type": "stream",
     "text": [
      "Model OpenAI-gpt-4o response correctness: 0.767917868618784\n",
      "The actual output aligns well with the expected output by identifying high-frequency UDP traffic, high variability in ports, and short interarrival times as potential indicators of scanning or DoS attacks. It also notes the prevalence of non-standard ports and suspicious payloads, which matches the expected focus on IoT-related DNS queries and possible exfiltration. However, it misses explicit mention of destination ports 23 and 2323 (telnet/IoT telnet) and does not directly discuss unusually high packet lengths as a sign of exfiltration or malware download. The response is detailed, logically analyzes numerical results, and avoids contradictions, but lacks a few specific details from the expected output.\n"
     ]
    }
   ],
   "source": [
    "statistics_correctness = {} \n",
    "for llm_item in statistical_results.items():\n",
    "    test_case = LLMTestCase(\n",
    "        input=malicious_data_summary,\n",
    "        actual_output=llm_item[1][\"response\"],\n",
    "        expected_output=summary_human_output,\n",
    "    )\n",
    "\n",
    "    correctness_metric.measure(test_case)\n",
    "    correctness_dict = {}\n",
    "\n",
    "    print(f\"Model {llm_item[0]} response correctness: {correctness_metric.score}\")\n",
    "    print(correctness_metric.reason)\n",
    "    statistics_correctness[llm_item[0]] =  correctness_metric.score"
   ]
  },
  {
   "cell_type": "code",
   "execution_count": 69,
   "metadata": {},
   "outputs": [
    {
     "data": {
      "text/html": [
       "<pre style=\"white-space:pre;overflow-x:auto;line-height:normal;font-family:Menlo,'DejaVu Sans Mono',consolas,'Courier New',monospace\"></pre>\n"
      ],
      "text/plain": []
     },
     "metadata": {},
     "output_type": "display_data"
    },
    {
     "name": "stdout",
     "output_type": "stream",
     "text": [
      "Model Claude-Sonnet-4 response correctness: 0.3717869066122742\n",
      "The actual output contradicts the expected output by claiming strong statistical dependencies among all variables except Interarrival, whereas the expected output states that all pairs of variables seem unrelated and that no significant correlations were found. The response does provide detailed explanations and logical analysis, but its conclusions about variable interdependence are not supported by the expected findings, which warrants a significant penalty. The output does well in discussing possible data quality issues and further investigation, but the core contradiction in statistical relationships reduces alignment with the evaluation steps.\n"
     ]
    },
    {
     "data": {
      "text/html": [
       "<pre style=\"white-space:pre;overflow-x:auto;line-height:normal;font-family:Menlo,'DejaVu Sans Mono',consolas,'Courier New',monospace\"></pre>\n"
      ],
      "text/plain": []
     },
     "metadata": {},
     "output_type": "display_data"
    },
    {
     "name": "stdout",
     "output_type": "stream",
     "text": [
      "Model Gemini-2.5-Flash response correctness: 0.39619527991592557\n",
      "The response provides a detailed explanation of statistical significance and dependencies, but it contradicts the expected output by claiming that almost all variable pairs show statistically significant differences, whereas the expected output states that all pairs seem unrelated to statistically significant differences. The response does use logical analysis and discusses numerical results, but it fails to align with the ground truth and does not identify the lack of correlation as expected. The explanation is thorough, but the contradiction in interpretation warrants a significant penalty.\n"
     ]
    },
    {
     "data": {
      "text/html": [
       "<pre style=\"white-space:pre;overflow-x:auto;line-height:normal;font-family:Menlo,'DejaVu Sans Mono',consolas,'Courier New',monospace\"></pre>\n"
      ],
      "text/plain": []
     },
     "metadata": {},
     "output_type": "display_data"
    },
    {
     "name": "stdout",
     "output_type": "stream",
     "text": [
      "Model OpenAI-gpt-4o response correctness: 0.37489265144741446\n",
      "The actual output provides a detailed explanation of variable relationships and statistical significance, but it contradicts the expected output by claiming there are statistically significant differences between most variable pairs, while the expected output states that all pairs seem unrelated and the results are inconclusive. The response is logically structured and numerically grounded, but it fails to align with the ground truth and overstates the findings, warranting a moderate penalty.\n"
     ]
    }
   ],
   "source": [
    "hypothesis_correctness = {}\n",
    "for llm_item in hypotheses_results.items():\n",
    "    test_case = LLMTestCase(\n",
    "        input=malicious_data_summary,\n",
    "        actual_output=llm_item[1][\"response\"],\n",
    "        expected_output=hypotheses_human_output,\n",
    "    )\n",
    "\n",
    "    correctness_metric.measure(test_case)\n",
    "    print(f\"Model {llm_item[0]} response correctness: {correctness_metric.score}\")\n",
    "    print(correctness_metric.reason)\n",
    "    hypothesis_correctness[llm_item[0]]  = correctness_metric.score"
   ]
  },
  {
   "cell_type": "code",
   "execution_count": 70,
   "metadata": {},
   "outputs": [
    {
     "data": {
      "text/html": [
       "<pre style=\"white-space:pre;overflow-x:auto;line-height:normal;font-family:Menlo,'DejaVu Sans Mono',consolas,'Courier New',monospace\"></pre>\n"
      ],
      "text/plain": []
     },
     "metadata": {},
     "output_type": "display_data"
    },
    {
     "name": "stdout",
     "output_type": "stream",
     "text": [
      "Model Claude-Sonnet-4 response correctness: 0.8679178699175394\n",
      "The actual output aligns well with the expected output by identifying destination port and packet size anomalies as potential indicators of malicious activity, which matches the core findings in the expected output. It goes further by providing detailed, logical analysis of numerical results (e.g., specific ports, packet sizes, byte volumes, and counts of outliers), and connects these to known security threats such as IP spoofing, port scanning, and data exfiltration. The explanation is thorough and well-justified, referencing concrete statistics and attack types. The only minor shortcoming is that it introduces additional anomaly types (e.g., source IP zero, byte volume outliers) not explicitly mentioned in the expected output, but these do not contradict the ground truth and are logically derived from the data. The response is detailed and not contradictory, thus only a slight deduction for exceeding the expected scope.\n"
     ]
    },
    {
     "data": {
      "text/html": [
       "<pre style=\"white-space:pre;overflow-x:auto;line-height:normal;font-family:Menlo,'DejaVu Sans Mono',consolas,'Courier New',monospace\"></pre>\n"
      ],
      "text/plain": []
     },
     "metadata": {},
     "output_type": "display_data"
    },
    {
     "name": "stdout",
     "output_type": "stream",
     "text": [
      "Model Gemini-2.5-Flash response correctness: 0.888079707015525\n",
      "The actual output aligns well with the expected output and evaluation steps. It does not contradict the expected output and provides a detailed, logical analysis of the numerical outlier results, specifically highlighting destination port and packet length anomalies as potential indicators of abnormal or malicious behavior. The response goes further by contextualizing these outliers (e.g., DHCP, DNS, custom ports), distinguishing between expected and unexpected anomalies, and offering security-relevant interpretations. The explanation is thorough and well-justified, though it is more verbose than necessary, which is a minor shortcoming. Overall, it demonstrates strong alignment with the evaluation criteria.\n"
     ]
    },
    {
     "data": {
      "text/html": [
       "<pre style=\"white-space:pre;overflow-x:auto;line-height:normal;font-family:Menlo,'DejaVu Sans Mono',consolas,'Courier New',monospace\"></pre>\n"
      ],
      "text/plain": []
     },
     "metadata": {},
     "output_type": "display_data"
    },
    {
     "name": "stdout",
     "output_type": "stream",
     "text": [
      "Model OpenAI-gpt-4o response correctness: 0.7911382525202313\n",
      "The actual output aligns well with the expected output by identifying outliers in destination port and packet length as potential indicators of malicious or abnormal activity, which matches the expected conclusions. The response also provides additional logical analysis by discussing outliers in dst_ip_total_bytes and Numeric Source IP, and connects these to possible security concerns, which adds value. However, the explanation is somewhat verbose and introduces extra details (e.g., z-score method, specific outlier counts, and other features) that are not directly referenced in the expected output, making it slightly less focused. There are no contradictions or unsupported claims, and the reasoning is grounded in numerical analysis, but a more concise focus on the key expected findings would improve alignment.\n"
     ]
    }
   ],
   "source": [
    "outlier_correctness = {}\n",
    "for llm_item in outliers_results.items():\n",
    "    test_case = LLMTestCase(\n",
    "        input=malicious_data_summary,\n",
    "        actual_output=llm_item[1][\"response\"],\n",
    "        expected_output=outliers_human_output,\n",
    "    )\n",
    "\n",
    "    correctness_metric.measure(test_case)\n",
    "    print(f\"Model {llm_item[0]} response correctness: {correctness_metric.score}\")\n",
    "    print(correctness_metric.reason)\n",
    "    outlier_correctness[llm_item[0]] = correctness_metric.score"
   ]
  },
  {
   "cell_type": "code",
   "execution_count": 71,
   "metadata": {},
   "outputs": [
    {
     "data": {
      "text/plain": [
       "[{'Claude-Sonnet-4': {'statistics_correctness': 0.8562176500885798,\n",
       "   'hypothesis_correctness': 0.3717869066122742,\n",
       "   'outlier_correctness': 0.8679178699175394}},\n",
       " {'Gemini-2.5-Flash': {'statistics_correctness': 0.825584547658684,\n",
       "   'hypothesis_correctness': 0.39619527991592557,\n",
       "   'outlier_correctness': 0.888079707015525}},\n",
       " {'OpenAI-gpt-4o': {'statistics_correctness': 0.767917868618784,\n",
       "   'hypothesis_correctness': 0.37489265144741446,\n",
       "   'outlier_correctness': 0.7911382525202313}}]"
      ]
     },
     "execution_count": 71,
     "metadata": {},
     "output_type": "execute_result"
    }
   ],
   "source": [
    "all_scores = []\n",
    "for model_name, score in statistics_correctness.items():\n",
    "    score_dict = {}\n",
    "    score_dict[model_name] = {\n",
    "        \"statistics_correctness\": score,\n",
    "        \"hypothesis_correctness\": hypothesis_correctness[model_name],\n",
    "        \"outlier_correctness\": outlier_correctness[model_name],\n",
    "    }\n",
    "    all_scores.append(score_dict)\n",
    "\n",
    "all_scores"
   ]
  },
  {
   "cell_type": "code",
   "execution_count": null,
   "metadata": {},
   "outputs": [
    {
     "data": {
      "text/html": [
       "<div>\n",
       "<style scoped>\n",
       "    .dataframe tbody tr th:only-of-type {\n",
       "        vertical-align: middle;\n",
       "    }\n",
       "\n",
       "    .dataframe tbody tr th {\n",
       "        vertical-align: top;\n",
       "    }\n",
       "\n",
       "    .dataframe thead th {\n",
       "        text-align: right;\n",
       "    }\n",
       "</style>\n",
       "<table border=\"1\" class=\"dataframe\">\n",
       "  <thead>\n",
       "    <tr style=\"text-align: right;\">\n",
       "      <th></th>\n",
       "      <th>Model</th>\n",
       "      <th>Metric</th>\n",
       "      <th>Score</th>\n",
       "    </tr>\n",
       "  </thead>\n",
       "  <tbody>\n",
       "    <tr>\n",
       "      <th>0</th>\n",
       "      <td>Claude-Sonnet-4</td>\n",
       "      <td>statistics_correctness</td>\n",
       "      <td>0.856218</td>\n",
       "    </tr>\n",
       "    <tr>\n",
       "      <th>1</th>\n",
       "      <td>Claude-Sonnet-4</td>\n",
       "      <td>hypothesis_correctness</td>\n",
       "      <td>0.371787</td>\n",
       "    </tr>\n",
       "    <tr>\n",
       "      <th>2</th>\n",
       "      <td>Claude-Sonnet-4</td>\n",
       "      <td>outlier_correctness</td>\n",
       "      <td>0.867918</td>\n",
       "    </tr>\n",
       "    <tr>\n",
       "      <th>3</th>\n",
       "      <td>Gemini-2.5-Flash</td>\n",
       "      <td>statistics_correctness</td>\n",
       "      <td>0.825585</td>\n",
       "    </tr>\n",
       "    <tr>\n",
       "      <th>4</th>\n",
       "      <td>Gemini-2.5-Flash</td>\n",
       "      <td>hypothesis_correctness</td>\n",
       "      <td>0.396195</td>\n",
       "    </tr>\n",
       "    <tr>\n",
       "      <th>5</th>\n",
       "      <td>Gemini-2.5-Flash</td>\n",
       "      <td>outlier_correctness</td>\n",
       "      <td>0.888080</td>\n",
       "    </tr>\n",
       "    <tr>\n",
       "      <th>6</th>\n",
       "      <td>OpenAI-gpt-4o</td>\n",
       "      <td>statistics_correctness</td>\n",
       "      <td>0.767918</td>\n",
       "    </tr>\n",
       "    <tr>\n",
       "      <th>7</th>\n",
       "      <td>OpenAI-gpt-4o</td>\n",
       "      <td>hypothesis_correctness</td>\n",
       "      <td>0.374893</td>\n",
       "    </tr>\n",
       "    <tr>\n",
       "      <th>8</th>\n",
       "      <td>OpenAI-gpt-4o</td>\n",
       "      <td>outlier_correctness</td>\n",
       "      <td>0.791138</td>\n",
       "    </tr>\n",
       "  </tbody>\n",
       "</table>\n",
       "</div>"
      ],
      "text/plain": [
       "              Model                  Metric     Score\n",
       "0   Claude-Sonnet-4  statistics_correctness  0.856218\n",
       "1   Claude-Sonnet-4  hypothesis_correctness  0.371787\n",
       "2   Claude-Sonnet-4     outlier_correctness  0.867918\n",
       "3  Gemini-2.5-Flash  statistics_correctness  0.825585\n",
       "4  Gemini-2.5-Flash  hypothesis_correctness  0.396195\n",
       "5  Gemini-2.5-Flash     outlier_correctness  0.888080\n",
       "6     OpenAI-gpt-4o  statistics_correctness  0.767918\n",
       "7     OpenAI-gpt-4o  hypothesis_correctness  0.374893\n",
       "8     OpenAI-gpt-4o     outlier_correctness  0.791138"
      ]
     },
     "execution_count": 72,
     "metadata": {},
     "output_type": "execute_result"
    }
   ],
   "source": [
    "# Convert to long-format DataFrame\n",
    "all_scores_df_long = pd.DataFrame(\n",
    "    [\n",
    "        {\"Model\": list(item.keys())[0], \"Metric\": metric, \"Score\": value}\n",
    "        for item in all_scores\n",
    "        for metric, value in list(item.values())[0].items()\n",
    "    ]\n",
    ")\n",
    "all_scores_df_long.to_csv(\"../data/all_scores_eda.csv\", index=False)\n",
    "all_scores_df_long"
   ]
  },
  {
   "cell_type": "code",
   "execution_count": 73,
   "metadata": {},
   "outputs": [
    {
     "data": {
      "image/png": "[encoded data removed]",
      "text/plain": [
       "<Figure size 1200x600 with 1 Axes>"
      ]
     },
     "metadata": {},
     "output_type": "display_data"
    }
   ],
   "source": [
    "# Create the plot\n",
    "plt.figure(figsize=(12, 6))\n",
    "sns.barplot(x=\"Metric\", y=\"Score\", hue=\"Model\", data=all_scores_df_long)\n",
    "\n",
    "# Customize the plot\n",
    "plt.title(\"Model Scores Across Different Metrics\", fontsize=16)\n",
    "plt.xlabel(\"Metrics\", fontsize=12)\n",
    "plt.ylabel(\"Score\", fontsize=12)\n",
    "plt.xticks(rotation=45)\n",
    "plt.legend(title=\"Model\", bbox_to_anchor=(1.05, 1), loc=\"upper left\")\n",
    "plt.tight_layout()\n",
    "\n",
    "# Show the plot\n",
    "plt.show()"
   ]
  }
 ],
 "metadata": {
  "kernelspec": {
   "display_name": ".venv",
   "language": "python",
   "name": "python3"
  },
  "language_info": {
   "codemirror_mode": {
    "name": "ipython",
    "version": 3
   },
   "file_extension": ".py",
   "mimetype": "text/x-python",
   "name": "python",
   "nbconvert_exporter": "python",
   "pygments_lexer": "ipython3",
   "version": "3.11.11"
  }
 },
 "nbformat": 4,
 "nbformat_minor": 2
}
